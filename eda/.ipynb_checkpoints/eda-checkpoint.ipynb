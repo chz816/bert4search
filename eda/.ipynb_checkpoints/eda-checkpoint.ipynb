{
 "cells": [
  {
   "cell_type": "code",
   "execution_count": 2,
   "metadata": {},
   "outputs": [],
   "source": [
    "import numpy as np\n",
    "import pandas as pd\n",
    "\n",
    "%matplotlib inline\n",
    "import matplotlib.pyplot as plt\n",
    "import seaborn as sns\n",
    "from dateutil.parser import parse"
   ]
  },
  {
   "cell_type": "markdown",
   "metadata": {},
   "source": [
    "In this EDA report, we use the EDGAR Log File on Mar 01, 2017.  \n",
    "\n",
    "There are 27993316 observations in this day, which reflects 27993316 search activities from 00:00:00 to 23:59:59 on 03/01/2017 through SEC.gov."
   ]
  },
  {
   "cell_type": "markdown",
   "metadata": {},
   "source": [
    "There are 15 variables totally."
   ]
  },
  {
   "cell_type": "code",
   "execution_count": 3,
   "metadata": {},
   "outputs": [
    {
     "name": "stderr",
     "output_type": "stream",
     "text": [
      "/Users/rachelzheng/anaconda3/lib/python3.7/site-packages/IPython/core/interactiveshell.py:3058: DtypeWarning: Columns (14) have mixed types. Specify dtype option on import or set low_memory=False.\n",
      "  interactivity=interactivity, compiler=compiler, result=result)\n"
     ]
    },
    {
     "name": "stdout",
     "output_type": "stream",
     "text": [
      "<class 'pandas.core.frame.DataFrame'>\n",
      "RangeIndex: 27993317 entries, 0 to 27993316\n",
      "Data columns (total 15 columns):\n",
      "ip           object\n",
      "date         object\n",
      "time         object\n",
      "zone         float64\n",
      "cik          float64\n",
      "accession    object\n",
      "extention    object\n",
      "code         float64\n",
      "size         float64\n",
      "idx          float64\n",
      "norefer      float64\n",
      "noagent      float64\n",
      "find         float64\n",
      "crawler      float64\n",
      "browser      object\n",
      "dtypes: float64(9), object(6)\n",
      "memory usage: 3.1+ GB\n"
     ]
    }
   ],
   "source": [
    "# loading data\n",
    "data_path = \"log20170301.csv\"\n",
    "df = pd.read_csv(data_path)\n",
    "\n",
    "# see the basic info\n",
    "df.info()"
   ]
  },
  {
   "cell_type": "code",
   "execution_count": 4,
   "metadata": {},
   "outputs": [
    {
     "data": {
      "text/html": [
       "<div>\n",
       "<style scoped>\n",
       "    .dataframe tbody tr th:only-of-type {\n",
       "        vertical-align: middle;\n",
       "    }\n",
       "\n",
       "    .dataframe tbody tr th {\n",
       "        vertical-align: top;\n",
       "    }\n",
       "\n",
       "    .dataframe thead th {\n",
       "        text-align: right;\n",
       "    }\n",
       "</style>\n",
       "<table border=\"1\" class=\"dataframe\">\n",
       "  <thead>\n",
       "    <tr style=\"text-align: right;\">\n",
       "      <th></th>\n",
       "      <th>ip</th>\n",
       "      <th>date</th>\n",
       "      <th>time</th>\n",
       "      <th>zone</th>\n",
       "      <th>cik</th>\n",
       "      <th>accession</th>\n",
       "      <th>extention</th>\n",
       "      <th>code</th>\n",
       "      <th>size</th>\n",
       "      <th>idx</th>\n",
       "      <th>norefer</th>\n",
       "      <th>noagent</th>\n",
       "      <th>find</th>\n",
       "      <th>crawler</th>\n",
       "      <th>browser</th>\n",
       "    </tr>\n",
       "  </thead>\n",
       "  <tbody>\n",
       "    <tr>\n",
       "      <td>0</td>\n",
       "      <td>101.71.41.ihh</td>\n",
       "      <td>2017-03-01</td>\n",
       "      <td>00:00:00</td>\n",
       "      <td>0.0</td>\n",
       "      <td>933141.0</td>\n",
       "      <td>0001193125-17-062751</td>\n",
       "      <td>-index.htm</td>\n",
       "      <td>301.0</td>\n",
       "      <td>683.0</td>\n",
       "      <td>1.0</td>\n",
       "      <td>0.0</td>\n",
       "      <td>0.0</td>\n",
       "      <td>10.0</td>\n",
       "      <td>0.0</td>\n",
       "      <td>NaN</td>\n",
       "    </tr>\n",
       "    <tr>\n",
       "      <td>1</td>\n",
       "      <td>101.71.41.ihh</td>\n",
       "      <td>2017-03-01</td>\n",
       "      <td>00:00:00</td>\n",
       "      <td>0.0</td>\n",
       "      <td>1595974.0</td>\n",
       "      <td>0001595974-17-000010</td>\n",
       "      <td>-index.htm</td>\n",
       "      <td>301.0</td>\n",
       "      <td>677.0</td>\n",
       "      <td>1.0</td>\n",
       "      <td>0.0</td>\n",
       "      <td>0.0</td>\n",
       "      <td>10.0</td>\n",
       "      <td>0.0</td>\n",
       "      <td>NaN</td>\n",
       "    </tr>\n",
       "    <tr>\n",
       "      <td>2</td>\n",
       "      <td>104.196.198.aej</td>\n",
       "      <td>2017-03-01</td>\n",
       "      <td>00:00:00</td>\n",
       "      <td>0.0</td>\n",
       "      <td>1096325.0</td>\n",
       "      <td>0001140361-17-009737</td>\n",
       "      <td>-index.htm</td>\n",
       "      <td>301.0</td>\n",
       "      <td>680.0</td>\n",
       "      <td>1.0</td>\n",
       "      <td>0.0</td>\n",
       "      <td>0.0</td>\n",
       "      <td>10.0</td>\n",
       "      <td>0.0</td>\n",
       "      <td>NaN</td>\n",
       "    </tr>\n",
       "    <tr>\n",
       "      <td>3</td>\n",
       "      <td>104.196.198.aej</td>\n",
       "      <td>2017-03-01</td>\n",
       "      <td>00:00:00</td>\n",
       "      <td>0.0</td>\n",
       "      <td>1660681.0</td>\n",
       "      <td>0001127602-17-008948</td>\n",
       "      <td>form4.xml</td>\n",
       "      <td>200.0</td>\n",
       "      <td>4955.0</td>\n",
       "      <td>0.0</td>\n",
       "      <td>0.0</td>\n",
       "      <td>0.0</td>\n",
       "      <td>10.0</td>\n",
       "      <td>0.0</td>\n",
       "      <td>NaN</td>\n",
       "    </tr>\n",
       "    <tr>\n",
       "      <td>4</td>\n",
       "      <td>104.196.198.aej</td>\n",
       "      <td>2017-03-01</td>\n",
       "      <td>00:00:00</td>\n",
       "      <td>0.0</td>\n",
       "      <td>1096325.0</td>\n",
       "      <td>0001140361-17-009737</td>\n",
       "      <td>-index.htm</td>\n",
       "      <td>200.0</td>\n",
       "      <td>7482.0</td>\n",
       "      <td>1.0</td>\n",
       "      <td>0.0</td>\n",
       "      <td>0.0</td>\n",
       "      <td>10.0</td>\n",
       "      <td>0.0</td>\n",
       "      <td>NaN</td>\n",
       "    </tr>\n",
       "  </tbody>\n",
       "</table>\n",
       "</div>"
      ],
      "text/plain": [
       "                ip        date      time  zone        cik  \\\n",
       "0    101.71.41.ihh  2017-03-01  00:00:00   0.0   933141.0   \n",
       "1    101.71.41.ihh  2017-03-01  00:00:00   0.0  1595974.0   \n",
       "2  104.196.198.aej  2017-03-01  00:00:00   0.0  1096325.0   \n",
       "3  104.196.198.aej  2017-03-01  00:00:00   0.0  1660681.0   \n",
       "4  104.196.198.aej  2017-03-01  00:00:00   0.0  1096325.0   \n",
       "\n",
       "              accession   extention   code    size  idx  norefer  noagent  \\\n",
       "0  0001193125-17-062751  -index.htm  301.0   683.0  1.0      0.0      0.0   \n",
       "1  0001595974-17-000010  -index.htm  301.0   677.0  1.0      0.0      0.0   \n",
       "2  0001140361-17-009737  -index.htm  301.0   680.0  1.0      0.0      0.0   \n",
       "3  0001127602-17-008948   form4.xml  200.0  4955.0  0.0      0.0      0.0   \n",
       "4  0001140361-17-009737  -index.htm  200.0  7482.0  1.0      0.0      0.0   \n",
       "\n",
       "   find  crawler browser  \n",
       "0  10.0      0.0     NaN  \n",
       "1  10.0      0.0     NaN  \n",
       "2  10.0      0.0     NaN  \n",
       "3  10.0      0.0     NaN  \n",
       "4  10.0      0.0     NaN  "
      ]
     },
     "execution_count": 4,
     "metadata": {},
     "output_type": "execute_result"
    }
   ],
   "source": [
    "df.head()"
   ]
  },
  {
   "cell_type": "code",
   "execution_count": 5,
   "metadata": {},
   "outputs": [
    {
     "data": {
      "text/html": [
       "<div>\n",
       "<style scoped>\n",
       "    .dataframe tbody tr th:only-of-type {\n",
       "        vertical-align: middle;\n",
       "    }\n",
       "\n",
       "    .dataframe tbody tr th {\n",
       "        vertical-align: top;\n",
       "    }\n",
       "\n",
       "    .dataframe thead th {\n",
       "        text-align: right;\n",
       "    }\n",
       "</style>\n",
       "<table border=\"1\" class=\"dataframe\">\n",
       "  <thead>\n",
       "    <tr style=\"text-align: right;\">\n",
       "      <th></th>\n",
       "      <th>zone</th>\n",
       "      <th>cik</th>\n",
       "      <th>code</th>\n",
       "      <th>size</th>\n",
       "      <th>idx</th>\n",
       "      <th>norefer</th>\n",
       "      <th>noagent</th>\n",
       "      <th>find</th>\n",
       "      <th>crawler</th>\n",
       "    </tr>\n",
       "  </thead>\n",
       "  <tbody>\n",
       "    <tr>\n",
       "      <td>count</td>\n",
       "      <td>27993317.0</td>\n",
       "      <td>2.799332e+07</td>\n",
       "      <td>2.799323e+07</td>\n",
       "      <td>2.799332e+07</td>\n",
       "      <td>2.799323e+07</td>\n",
       "      <td>27993317.0</td>\n",
       "      <td>2.799332e+07</td>\n",
       "      <td>2.799323e+07</td>\n",
       "      <td>2.799323e+07</td>\n",
       "    </tr>\n",
       "    <tr>\n",
       "      <td>mean</td>\n",
       "      <td>0.0</td>\n",
       "      <td>8.002871e+19</td>\n",
       "      <td>2.427653e+02</td>\n",
       "      <td>1.427716e+05</td>\n",
       "      <td>4.870371e-01</td>\n",
       "      <td>0.0</td>\n",
       "      <td>4.214207e+00</td>\n",
       "      <td>9.649119e+00</td>\n",
       "      <td>1.095636e-02</td>\n",
       "    </tr>\n",
       "    <tr>\n",
       "      <td>std</td>\n",
       "      <td>0.0</td>\n",
       "      <td>1.001066e+22</td>\n",
       "      <td>6.908829e+01</td>\n",
       "      <td>1.893413e+06</td>\n",
       "      <td>4.998319e-01</td>\n",
       "      <td>0.0</td>\n",
       "      <td>2.486692e+03</td>\n",
       "      <td>1.608108e+00</td>\n",
       "      <td>1.040976e-01</td>\n",
       "    </tr>\n",
       "    <tr>\n",
       "      <td>min</td>\n",
       "      <td>0.0</td>\n",
       "      <td>0.000000e+00</td>\n",
       "      <td>0.000000e+00</td>\n",
       "      <td>0.000000e+00</td>\n",
       "      <td>0.000000e+00</td>\n",
       "      <td>0.0</td>\n",
       "      <td>0.000000e+00</td>\n",
       "      <td>1.000000e+00</td>\n",
       "      <td>0.000000e+00</td>\n",
       "    </tr>\n",
       "    <tr>\n",
       "      <td>25%</td>\n",
       "      <td>0.0</td>\n",
       "      <td>8.452890e+05</td>\n",
       "      <td>2.000000e+02</td>\n",
       "      <td>6.770000e+02</td>\n",
       "      <td>0.000000e+00</td>\n",
       "      <td>0.0</td>\n",
       "      <td>0.000000e+00</td>\n",
       "      <td>1.000000e+01</td>\n",
       "      <td>0.000000e+00</td>\n",
       "    </tr>\n",
       "    <tr>\n",
       "      <td>50%</td>\n",
       "      <td>0.0</td>\n",
       "      <td>1.098880e+06</td>\n",
       "      <td>2.000000e+02</td>\n",
       "      <td>3.204000e+03</td>\n",
       "      <td>0.000000e+00</td>\n",
       "      <td>0.0</td>\n",
       "      <td>0.000000e+00</td>\n",
       "      <td>1.000000e+01</td>\n",
       "      <td>0.000000e+00</td>\n",
       "    </tr>\n",
       "    <tr>\n",
       "      <td>75%</td>\n",
       "      <td>0.0</td>\n",
       "      <td>1.414040e+06</td>\n",
       "      <td>3.010000e+02</td>\n",
       "      <td>7.748000e+03</td>\n",
       "      <td>1.000000e+00</td>\n",
       "      <td>0.0</td>\n",
       "      <td>0.000000e+00</td>\n",
       "      <td>1.000000e+01</td>\n",
       "      <td>0.000000e+00</td>\n",
       "    </tr>\n",
       "    <tr>\n",
       "      <td>max</td>\n",
       "      <td>0.0</td>\n",
       "      <td>1.688931e+24</td>\n",
       "      <td>5.040000e+02</td>\n",
       "      <td>4.343954e+08</td>\n",
       "      <td>1.000000e+00</td>\n",
       "      <td>0.0</td>\n",
       "      <td>1.698641e+06</td>\n",
       "      <td>1.000000e+01</td>\n",
       "      <td>1.000000e+00</td>\n",
       "    </tr>\n",
       "  </tbody>\n",
       "</table>\n",
       "</div>"
      ],
      "text/plain": [
       "             zone           cik          code          size           idx  \\\n",
       "count  27993317.0  2.799332e+07  2.799323e+07  2.799332e+07  2.799323e+07   \n",
       "mean          0.0  8.002871e+19  2.427653e+02  1.427716e+05  4.870371e-01   \n",
       "std           0.0  1.001066e+22  6.908829e+01  1.893413e+06  4.998319e-01   \n",
       "min           0.0  0.000000e+00  0.000000e+00  0.000000e+00  0.000000e+00   \n",
       "25%           0.0  8.452890e+05  2.000000e+02  6.770000e+02  0.000000e+00   \n",
       "50%           0.0  1.098880e+06  2.000000e+02  3.204000e+03  0.000000e+00   \n",
       "75%           0.0  1.414040e+06  3.010000e+02  7.748000e+03  1.000000e+00   \n",
       "max           0.0  1.688931e+24  5.040000e+02  4.343954e+08  1.000000e+00   \n",
       "\n",
       "          norefer       noagent          find       crawler  \n",
       "count  27993317.0  2.799332e+07  2.799323e+07  2.799323e+07  \n",
       "mean          0.0  4.214207e+00  9.649119e+00  1.095636e-02  \n",
       "std           0.0  2.486692e+03  1.608108e+00  1.040976e-01  \n",
       "min           0.0  0.000000e+00  1.000000e+00  0.000000e+00  \n",
       "25%           0.0  0.000000e+00  1.000000e+01  0.000000e+00  \n",
       "50%           0.0  0.000000e+00  1.000000e+01  0.000000e+00  \n",
       "75%           0.0  0.000000e+00  1.000000e+01  0.000000e+00  \n",
       "max           0.0  1.698641e+06  1.000000e+01  1.000000e+00  "
      ]
     },
     "execution_count": 5,
     "metadata": {},
     "output_type": "execute_result"
    }
   ],
   "source": [
    "df.describe()"
   ]
  },
  {
   "cell_type": "code",
   "execution_count": 6,
   "metadata": {},
   "outputs": [
    {
     "data": {
      "text/plain": [
       "array([[<matplotlib.axes._subplots.AxesSubplot object at 0x1a216d2a10>,\n",
       "        <matplotlib.axes._subplots.AxesSubplot object at 0x1a25e14fd0>,\n",
       "        <matplotlib.axes._subplots.AxesSubplot object at 0x1a25e36810>],\n",
       "       [<matplotlib.axes._subplots.AxesSubplot object at 0x1a25e4ff90>,\n",
       "        <matplotlib.axes._subplots.AxesSubplot object at 0x1a26773850>,\n",
       "        <matplotlib.axes._subplots.AxesSubplot object at 0x1a26796b90>],\n",
       "       [<matplotlib.axes._subplots.AxesSubplot object at 0x1a267b5890>,\n",
       "        <matplotlib.axes._subplots.AxesSubplot object at 0x1a267df0d0>,\n",
       "        <matplotlib.axes._subplots.AxesSubplot object at 0x1a267dfbd0>]],\n",
       "      dtype=object)"
      ]
     },
     "execution_count": 6,
     "metadata": {},
     "output_type": "execute_result"
    },
    {
     "data": {
      "image/png": "[encoded data removed]",
      "text/plain": [
       "<Figure size 1080x1080 with 9 Axes>"
      ]
     },
     "metadata": {
      "needs_background": "light"
     },
     "output_type": "display_data"
    }
   ],
   "source": [
    "df.hist(bins=50, figsize=(15, 15))"
   ]
  },
  {
   "cell_type": "code",
   "execution_count": 7,
   "metadata": {},
   "outputs": [],
   "source": [
    "# filter the observation who identifies itself as a crawler\n",
    "df_norobot = df[df[\"crawler\"]!=1]"
   ]
  },
  {
   "cell_type": "code",
   "execution_count": 8,
   "metadata": {},
   "outputs": [
    {
     "data": {
      "text/html": [
       "<div>\n",
       "<style scoped>\n",
       "    .dataframe tbody tr th:only-of-type {\n",
       "        vertical-align: middle;\n",
       "    }\n",
       "\n",
       "    .dataframe tbody tr th {\n",
       "        vertical-align: top;\n",
       "    }\n",
       "\n",
       "    .dataframe thead th {\n",
       "        text-align: right;\n",
       "    }\n",
       "</style>\n",
       "<table border=\"1\" class=\"dataframe\">\n",
       "  <thead>\n",
       "    <tr style=\"text-align: right;\">\n",
       "      <th></th>\n",
       "      <th>ip</th>\n",
       "      <th>date</th>\n",
       "      <th>time</th>\n",
       "      <th>zone</th>\n",
       "      <th>cik</th>\n",
       "      <th>accession</th>\n",
       "      <th>extention</th>\n",
       "      <th>code</th>\n",
       "      <th>size</th>\n",
       "      <th>idx</th>\n",
       "      <th>norefer</th>\n",
       "      <th>noagent</th>\n",
       "      <th>find</th>\n",
       "      <th>crawler</th>\n",
       "      <th>browser</th>\n",
       "    </tr>\n",
       "  </thead>\n",
       "  <tbody>\n",
       "    <tr>\n",
       "      <td>0</td>\n",
       "      <td>101.71.41.ihh</td>\n",
       "      <td>2017-03-01</td>\n",
       "      <td>00:00:00</td>\n",
       "      <td>0.0</td>\n",
       "      <td>933141.0</td>\n",
       "      <td>0001193125-17-062751</td>\n",
       "      <td>-index.htm</td>\n",
       "      <td>301.0</td>\n",
       "      <td>683.0</td>\n",
       "      <td>1.0</td>\n",
       "      <td>0.0</td>\n",
       "      <td>0.0</td>\n",
       "      <td>10.0</td>\n",
       "      <td>0.0</td>\n",
       "      <td>NaN</td>\n",
       "    </tr>\n",
       "    <tr>\n",
       "      <td>1</td>\n",
       "      <td>101.71.41.ihh</td>\n",
       "      <td>2017-03-01</td>\n",
       "      <td>00:00:00</td>\n",
       "      <td>0.0</td>\n",
       "      <td>1595974.0</td>\n",
       "      <td>0001595974-17-000010</td>\n",
       "      <td>-index.htm</td>\n",
       "      <td>301.0</td>\n",
       "      <td>677.0</td>\n",
       "      <td>1.0</td>\n",
       "      <td>0.0</td>\n",
       "      <td>0.0</td>\n",
       "      <td>10.0</td>\n",
       "      <td>0.0</td>\n",
       "      <td>NaN</td>\n",
       "    </tr>\n",
       "    <tr>\n",
       "      <td>2</td>\n",
       "      <td>104.196.198.aej</td>\n",
       "      <td>2017-03-01</td>\n",
       "      <td>00:00:00</td>\n",
       "      <td>0.0</td>\n",
       "      <td>1096325.0</td>\n",
       "      <td>0001140361-17-009737</td>\n",
       "      <td>-index.htm</td>\n",
       "      <td>301.0</td>\n",
       "      <td>680.0</td>\n",
       "      <td>1.0</td>\n",
       "      <td>0.0</td>\n",
       "      <td>0.0</td>\n",
       "      <td>10.0</td>\n",
       "      <td>0.0</td>\n",
       "      <td>NaN</td>\n",
       "    </tr>\n",
       "    <tr>\n",
       "      <td>3</td>\n",
       "      <td>104.196.198.aej</td>\n",
       "      <td>2017-03-01</td>\n",
       "      <td>00:00:00</td>\n",
       "      <td>0.0</td>\n",
       "      <td>1660681.0</td>\n",
       "      <td>0001127602-17-008948</td>\n",
       "      <td>form4.xml</td>\n",
       "      <td>200.0</td>\n",
       "      <td>4955.0</td>\n",
       "      <td>0.0</td>\n",
       "      <td>0.0</td>\n",
       "      <td>0.0</td>\n",
       "      <td>10.0</td>\n",
       "      <td>0.0</td>\n",
       "      <td>NaN</td>\n",
       "    </tr>\n",
       "    <tr>\n",
       "      <td>4</td>\n",
       "      <td>104.196.198.aej</td>\n",
       "      <td>2017-03-01</td>\n",
       "      <td>00:00:00</td>\n",
       "      <td>0.0</td>\n",
       "      <td>1096325.0</td>\n",
       "      <td>0001140361-17-009737</td>\n",
       "      <td>-index.htm</td>\n",
       "      <td>200.0</td>\n",
       "      <td>7482.0</td>\n",
       "      <td>1.0</td>\n",
       "      <td>0.0</td>\n",
       "      <td>0.0</td>\n",
       "      <td>10.0</td>\n",
       "      <td>0.0</td>\n",
       "      <td>NaN</td>\n",
       "    </tr>\n",
       "  </tbody>\n",
       "</table>\n",
       "</div>"
      ],
      "text/plain": [
       "                ip        date      time  zone        cik  \\\n",
       "0    101.71.41.ihh  2017-03-01  00:00:00   0.0   933141.0   \n",
       "1    101.71.41.ihh  2017-03-01  00:00:00   0.0  1595974.0   \n",
       "2  104.196.198.aej  2017-03-01  00:00:00   0.0  1096325.0   \n",
       "3  104.196.198.aej  2017-03-01  00:00:00   0.0  1660681.0   \n",
       "4  104.196.198.aej  2017-03-01  00:00:00   0.0  1096325.0   \n",
       "\n",
       "              accession   extention   code    size  idx  norefer  noagent  \\\n",
       "0  0001193125-17-062751  -index.htm  301.0   683.0  1.0      0.0      0.0   \n",
       "1  0001595974-17-000010  -index.htm  301.0   677.0  1.0      0.0      0.0   \n",
       "2  0001140361-17-009737  -index.htm  301.0   680.0  1.0      0.0      0.0   \n",
       "3  0001127602-17-008948   form4.xml  200.0  4955.0  0.0      0.0      0.0   \n",
       "4  0001140361-17-009737  -index.htm  200.0  7482.0  1.0      0.0      0.0   \n",
       "\n",
       "   find  crawler browser  \n",
       "0  10.0      0.0     NaN  \n",
       "1  10.0      0.0     NaN  \n",
       "2  10.0      0.0     NaN  \n",
       "3  10.0      0.0     NaN  \n",
       "4  10.0      0.0     NaN  "
      ]
     },
     "execution_count": 8,
     "metadata": {},
     "output_type": "execute_result"
    }
   ],
   "source": [
    "df_norobot.head()"
   ]
  },
  {
   "cell_type": "code",
   "execution_count": 9,
   "metadata": {},
   "outputs": [
    {
     "name": "stdout",
     "output_type": "stream",
     "text": [
      "<class 'pandas.core.frame.DataFrame'>\n",
      "Int64Index: 27686613 entries, 0 to 27993316\n",
      "Data columns (total 15 columns):\n",
      "ip           object\n",
      "date         object\n",
      "time         object\n",
      "zone         float64\n",
      "cik          float64\n",
      "accession    object\n",
      "extention    object\n",
      "code         float64\n",
      "size         float64\n",
      "idx          float64\n",
      "norefer      float64\n",
      "noagent      float64\n",
      "find         float64\n",
      "crawler      float64\n",
      "browser      object\n",
      "dtypes: float64(9), object(6)\n",
      "memory usage: 3.3+ GB\n"
     ]
    }
   ],
   "source": [
    "df_norobot.info()"
   ]
  },
  {
   "cell_type": "markdown",
   "metadata": {},
   "source": [
    "We remove 306704 observations by filtering out \"crawler=1\"."
   ]
  },
  {
   "cell_type": "code",
   "execution_count": 10,
   "metadata": {},
   "outputs": [
    {
     "data": {
      "text/html": [
       "<div>\n",
       "<style scoped>\n",
       "    .dataframe tbody tr th:only-of-type {\n",
       "        vertical-align: middle;\n",
       "    }\n",
       "\n",
       "    .dataframe tbody tr th {\n",
       "        vertical-align: top;\n",
       "    }\n",
       "\n",
       "    .dataframe thead th {\n",
       "        text-align: right;\n",
       "    }\n",
       "</style>\n",
       "<table border=\"1\" class=\"dataframe\">\n",
       "  <thead>\n",
       "    <tr style=\"text-align: right;\">\n",
       "      <th></th>\n",
       "      <th>zone</th>\n",
       "      <th>cik</th>\n",
       "      <th>code</th>\n",
       "      <th>size</th>\n",
       "      <th>idx</th>\n",
       "      <th>norefer</th>\n",
       "      <th>noagent</th>\n",
       "      <th>find</th>\n",
       "      <th>crawler</th>\n",
       "    </tr>\n",
       "  </thead>\n",
       "  <tbody>\n",
       "    <tr>\n",
       "      <td>count</td>\n",
       "      <td>27686613.0</td>\n",
       "      <td>2.768661e+07</td>\n",
       "      <td>2.768653e+07</td>\n",
       "      <td>2.768661e+07</td>\n",
       "      <td>2.768653e+07</td>\n",
       "      <td>27686613.0</td>\n",
       "      <td>2.768661e+07</td>\n",
       "      <td>2.768653e+07</td>\n",
       "      <td>27686529.0</td>\n",
       "    </tr>\n",
       "    <tr>\n",
       "      <td>mean</td>\n",
       "      <td>0.0</td>\n",
       "      <td>8.091525e+19</td>\n",
       "      <td>2.409792e+02</td>\n",
       "      <td>1.443448e+05</td>\n",
       "      <td>4.924291e-01</td>\n",
       "      <td>0.0</td>\n",
       "      <td>4.260889e+00</td>\n",
       "      <td>9.645283e+00</td>\n",
       "      <td>0.0</td>\n",
       "    </tr>\n",
       "    <tr>\n",
       "      <td>std</td>\n",
       "      <td>0.0</td>\n",
       "      <td>1.006596e+22</td>\n",
       "      <td>6.734162e+01</td>\n",
       "      <td>1.903812e+06</td>\n",
       "      <td>4.999427e-01</td>\n",
       "      <td>0.0</td>\n",
       "      <td>2.500427e+03</td>\n",
       "      <td>1.616529e+00</td>\n",
       "      <td>0.0</td>\n",
       "    </tr>\n",
       "    <tr>\n",
       "      <td>min</td>\n",
       "      <td>0.0</td>\n",
       "      <td>0.000000e+00</td>\n",
       "      <td>0.000000e+00</td>\n",
       "      <td>0.000000e+00</td>\n",
       "      <td>0.000000e+00</td>\n",
       "      <td>0.0</td>\n",
       "      <td>0.000000e+00</td>\n",
       "      <td>1.000000e+00</td>\n",
       "      <td>0.0</td>\n",
       "    </tr>\n",
       "    <tr>\n",
       "      <td>25%</td>\n",
       "      <td>0.0</td>\n",
       "      <td>8.420130e+05</td>\n",
       "      <td>2.000000e+02</td>\n",
       "      <td>6.770000e+02</td>\n",
       "      <td>0.000000e+00</td>\n",
       "      <td>0.0</td>\n",
       "      <td>0.000000e+00</td>\n",
       "      <td>1.000000e+01</td>\n",
       "      <td>0.0</td>\n",
       "    </tr>\n",
       "    <tr>\n",
       "      <td>50%</td>\n",
       "      <td>0.0</td>\n",
       "      <td>1.095996e+06</td>\n",
       "      <td>2.000000e+02</td>\n",
       "      <td>3.298000e+03</td>\n",
       "      <td>0.000000e+00</td>\n",
       "      <td>0.0</td>\n",
       "      <td>0.000000e+00</td>\n",
       "      <td>1.000000e+01</td>\n",
       "      <td>0.0</td>\n",
       "    </tr>\n",
       "    <tr>\n",
       "      <td>75%</td>\n",
       "      <td>0.0</td>\n",
       "      <td>1.415311e+06</td>\n",
       "      <td>3.010000e+02</td>\n",
       "      <td>7.775000e+03</td>\n",
       "      <td>1.000000e+00</td>\n",
       "      <td>0.0</td>\n",
       "      <td>0.000000e+00</td>\n",
       "      <td>1.000000e+01</td>\n",
       "      <td>0.0</td>\n",
       "    </tr>\n",
       "    <tr>\n",
       "      <td>max</td>\n",
       "      <td>0.0</td>\n",
       "      <td>1.688931e+24</td>\n",
       "      <td>5.040000e+02</td>\n",
       "      <td>4.343954e+08</td>\n",
       "      <td>1.000000e+00</td>\n",
       "      <td>0.0</td>\n",
       "      <td>1.698641e+06</td>\n",
       "      <td>1.000000e+01</td>\n",
       "      <td>0.0</td>\n",
       "    </tr>\n",
       "  </tbody>\n",
       "</table>\n",
       "</div>"
      ],
      "text/plain": [
       "             zone           cik          code          size           idx  \\\n",
       "count  27686613.0  2.768661e+07  2.768653e+07  2.768661e+07  2.768653e+07   \n",
       "mean          0.0  8.091525e+19  2.409792e+02  1.443448e+05  4.924291e-01   \n",
       "std           0.0  1.006596e+22  6.734162e+01  1.903812e+06  4.999427e-01   \n",
       "min           0.0  0.000000e+00  0.000000e+00  0.000000e+00  0.000000e+00   \n",
       "25%           0.0  8.420130e+05  2.000000e+02  6.770000e+02  0.000000e+00   \n",
       "50%           0.0  1.095996e+06  2.000000e+02  3.298000e+03  0.000000e+00   \n",
       "75%           0.0  1.415311e+06  3.010000e+02  7.775000e+03  1.000000e+00   \n",
       "max           0.0  1.688931e+24  5.040000e+02  4.343954e+08  1.000000e+00   \n",
       "\n",
       "          norefer       noagent          find     crawler  \n",
       "count  27686613.0  2.768661e+07  2.768653e+07  27686529.0  \n",
       "mean          0.0  4.260889e+00  9.645283e+00         0.0  \n",
       "std           0.0  2.500427e+03  1.616529e+00         0.0  \n",
       "min           0.0  0.000000e+00  1.000000e+00         0.0  \n",
       "25%           0.0  0.000000e+00  1.000000e+01         0.0  \n",
       "50%           0.0  0.000000e+00  1.000000e+01         0.0  \n",
       "75%           0.0  0.000000e+00  1.000000e+01         0.0  \n",
       "max           0.0  1.698641e+06  1.000000e+01         0.0  "
      ]
     },
     "execution_count": 10,
     "metadata": {},
     "output_type": "execute_result"
    }
   ],
   "source": [
    "df_norobot.describe()"
   ]
  },
  {
   "cell_type": "code",
   "execution_count": 11,
   "metadata": {},
   "outputs": [
    {
     "data": {
      "text/plain": [
       "array([[<matplotlib.axes._subplots.AxesSubplot object at 0x1a2c12e5d0>,\n",
       "        <matplotlib.axes._subplots.AxesSubplot object at 0x1a2ae8a210>,\n",
       "        <matplotlib.axes._subplots.AxesSubplot object at 0x1a2c19ac10>],\n",
       "       [<matplotlib.axes._subplots.AxesSubplot object at 0x1a25571f50>,\n",
       "        <matplotlib.axes._subplots.AxesSubplot object at 0x1a255a4c50>,\n",
       "        <matplotlib.axes._subplots.AxesSubplot object at 0x1a25ee3f90>],\n",
       "       [<matplotlib.axes._subplots.AxesSubplot object at 0x1a25f11ad0>,\n",
       "        <matplotlib.axes._subplots.AxesSubplot object at 0x1a25f4d310>,\n",
       "        <matplotlib.axes._subplots.AxesSubplot object at 0x1a25f4de10>]],\n",
       "      dtype=object)"
      ]
     },
     "execution_count": 11,
     "metadata": {},
     "output_type": "execute_result"
    },
    {
     "data": {
      "image/png": "[encoded data removed]",
      "text/plain": [
       "<Figure size 1080x1080 with 9 Axes>"
      ]
     },
     "metadata": {
      "needs_background": "light"
     },
     "output_type": "display_data"
    }
   ],
   "source": [
    "df_norobot.hist(bins=50, figsize=(15, 15))"
   ]
  },
  {
   "cell_type": "markdown",
   "metadata": {},
   "source": [
    "Display plots for raw data - df."
   ]
  },
  {
   "cell_type": "code",
   "execution_count": 12,
   "metadata": {},
   "outputs": [],
   "source": [
    "df['clock'] = pd.to_datetime(df.time, format='%H:%M:%S')\n",
    "\n",
    "df['Hour'] = df['clock'].dt.hour\n",
    "df['Minute'] = df['clock'].dt.minute\n",
    "df['Second'] = df['clock'].dt.second"
   ]
  },
  {
   "cell_type": "code",
   "execution_count": 13,
   "metadata": {},
   "outputs": [
    {
     "data": {
      "image/png": "[encoded data removed]",
      "text/plain": [
       "<Figure size 720x360 with 1 Axes>"
      ]
     },
     "metadata": {
      "needs_background": "light"
     },
     "output_type": "display_data"
    }
   ],
   "source": [
    "op_count = df['Hour'].value_counts()\n",
    "plt.figure(figsize=(10,5))\n",
    "sns.barplot(op_count.index, op_count.values, alpha=0.7)\n",
    "#plt.title('Ocean Proximity Summary')\n",
    "plt.ylabel('Number of Occurrences', fontsize=12)\n",
    "plt.xlabel('Hour', fontsize=12)\n",
    "plt.show()\n",
    "# housing['ocean_proximity'].value_counts().hist()"
   ]
  },
  {
   "cell_type": "markdown",
   "metadata": {},
   "source": [
    "Display the plots for filtered dataset - df_norobot."
   ]
  },
  {
   "cell_type": "code",
   "execution_count": 15,
   "metadata": {},
   "outputs": [
    {
     "name": "stderr",
     "output_type": "stream",
     "text": [
      "/Users/rachelzheng/anaconda3/lib/python3.7/site-packages/ipykernel_launcher.py:1: SettingWithCopyWarning: \n",
      "A value is trying to be set on a copy of a slice from a DataFrame.\n",
      "Try using .loc[row_indexer,col_indexer] = value instead\n",
      "\n",
      "See the caveats in the documentation: http://pandas.pydata.org/pandas-docs/stable/user_guide/indexing.html#returning-a-view-versus-a-copy\n",
      "  \"\"\"Entry point for launching an IPython kernel.\n",
      "/Users/rachelzheng/anaconda3/lib/python3.7/site-packages/ipykernel_launcher.py:3: SettingWithCopyWarning: \n",
      "A value is trying to be set on a copy of a slice from a DataFrame.\n",
      "Try using .loc[row_indexer,col_indexer] = value instead\n",
      "\n",
      "See the caveats in the documentation: http://pandas.pydata.org/pandas-docs/stable/user_guide/indexing.html#returning-a-view-versus-a-copy\n",
      "  This is separate from the ipykernel package so we can avoid doing imports until\n",
      "/Users/rachelzheng/anaconda3/lib/python3.7/site-packages/ipykernel_launcher.py:4: SettingWithCopyWarning: \n",
      "A value is trying to be set on a copy of a slice from a DataFrame.\n",
      "Try using .loc[row_indexer,col_indexer] = value instead\n",
      "\n",
      "See the caveats in the documentation: http://pandas.pydata.org/pandas-docs/stable/user_guide/indexing.html#returning-a-view-versus-a-copy\n",
      "  after removing the cwd from sys.path.\n",
      "/Users/rachelzheng/anaconda3/lib/python3.7/site-packages/ipykernel_launcher.py:5: SettingWithCopyWarning: \n",
      "A value is trying to be set on a copy of a slice from a DataFrame.\n",
      "Try using .loc[row_indexer,col_indexer] = value instead\n",
      "\n",
      "See the caveats in the documentation: http://pandas.pydata.org/pandas-docs/stable/user_guide/indexing.html#returning-a-view-versus-a-copy\n",
      "  \"\"\"\n"
     ]
    }
   ],
   "source": [
    "df_norobot['clock'] = pd.to_datetime(df_norobot.time, format='%H:%M:%S')\n",
    "\n",
    "df_norobot['Hour'] = df_norobot['clock'].dt.hour\n",
    "df_norobot['Minute'] = df_norobot['clock'].dt.minute\n",
    "df_norobot['Second'] = df_norobot['clock'].dt.second"
   ]
  },
  {
   "cell_type": "code",
   "execution_count": 16,
   "metadata": {},
   "outputs": [
    {
     "data": {
      "image/png": "[encoded data removed]",
      "text/plain": [
       "<Figure size 720x360 with 1 Axes>"
      ]
     },
     "metadata": {
      "needs_background": "light"
     },
     "output_type": "display_data"
    }
   ],
   "source": [
    "op_count = df_norobot['Hour'].value_counts()\n",
    "plt.figure(figsize=(10,5))\n",
    "sns.barplot(op_count.index, op_count.values, alpha=0.7)\n",
    "plt.ylabel('Number of Occurrences', fontsize=12)\n",
    "plt.xlabel('Hour', fontsize=12)\n",
    "plt.show()"
   ]
  },
  {
   "cell_type": "markdown",
   "metadata": {},
   "source": [
    "Group observations by the ip address."
   ]
  },
  {
   "cell_type": "code",
   "execution_count": 17,
   "metadata": {},
   "outputs": [],
   "source": [
    "gk = df_norobot.groupby(\"ip\")"
   ]
  },
  {
   "cell_type": "code",
   "execution_count": 18,
   "metadata": {},
   "outputs": [
    {
     "data": {
      "text/html": [
       "<div>\n",
       "<style scoped>\n",
       "    .dataframe tbody tr th:only-of-type {\n",
       "        vertical-align: middle;\n",
       "    }\n",
       "\n",
       "    .dataframe tbody tr th {\n",
       "        vertical-align: top;\n",
       "    }\n",
       "\n",
       "    .dataframe thead th {\n",
       "        text-align: right;\n",
       "    }\n",
       "</style>\n",
       "<table border=\"1\" class=\"dataframe\">\n",
       "  <thead>\n",
       "    <tr style=\"text-align: right;\">\n",
       "      <th></th>\n",
       "      <th>ip</th>\n",
       "      <th>date</th>\n",
       "      <th>time</th>\n",
       "      <th>zone</th>\n",
       "      <th>cik</th>\n",
       "      <th>accession</th>\n",
       "      <th>extention</th>\n",
       "      <th>code</th>\n",
       "      <th>size</th>\n",
       "      <th>idx</th>\n",
       "      <th>norefer</th>\n",
       "      <th>noagent</th>\n",
       "      <th>find</th>\n",
       "      <th>crawler</th>\n",
       "      <th>browser</th>\n",
       "      <th>clock</th>\n",
       "      <th>Hour</th>\n",
       "      <th>Minute</th>\n",
       "      <th>Second</th>\n",
       "    </tr>\n",
       "  </thead>\n",
       "  <tbody>\n",
       "    <tr>\n",
       "      <td>0</td>\n",
       "      <td>101.71.41.ihh</td>\n",
       "      <td>2017-03-01</td>\n",
       "      <td>00:00:00</td>\n",
       "      <td>0.0</td>\n",
       "      <td>933141.0</td>\n",
       "      <td>0001193125-17-062751</td>\n",
       "      <td>-index.htm</td>\n",
       "      <td>301.0</td>\n",
       "      <td>683.0</td>\n",
       "      <td>1.0</td>\n",
       "      <td>0.0</td>\n",
       "      <td>0.0</td>\n",
       "      <td>10.0</td>\n",
       "      <td>0.0</td>\n",
       "      <td>NaN</td>\n",
       "      <td>1900-01-01 00:00:00</td>\n",
       "      <td>0</td>\n",
       "      <td>0</td>\n",
       "      <td>0</td>\n",
       "    </tr>\n",
       "    <tr>\n",
       "      <td>1</td>\n",
       "      <td>101.71.41.ihh</td>\n",
       "      <td>2017-03-01</td>\n",
       "      <td>00:00:00</td>\n",
       "      <td>0.0</td>\n",
       "      <td>1595974.0</td>\n",
       "      <td>0001595974-17-000010</td>\n",
       "      <td>-index.htm</td>\n",
       "      <td>301.0</td>\n",
       "      <td>677.0</td>\n",
       "      <td>1.0</td>\n",
       "      <td>0.0</td>\n",
       "      <td>0.0</td>\n",
       "      <td>10.0</td>\n",
       "      <td>0.0</td>\n",
       "      <td>NaN</td>\n",
       "      <td>1900-01-01 00:00:00</td>\n",
       "      <td>0</td>\n",
       "      <td>0</td>\n",
       "      <td>0</td>\n",
       "    </tr>\n",
       "    <tr>\n",
       "      <td>2</td>\n",
       "      <td>104.196.198.aej</td>\n",
       "      <td>2017-03-01</td>\n",
       "      <td>00:00:00</td>\n",
       "      <td>0.0</td>\n",
       "      <td>1096325.0</td>\n",
       "      <td>0001140361-17-009737</td>\n",
       "      <td>-index.htm</td>\n",
       "      <td>301.0</td>\n",
       "      <td>680.0</td>\n",
       "      <td>1.0</td>\n",
       "      <td>0.0</td>\n",
       "      <td>0.0</td>\n",
       "      <td>10.0</td>\n",
       "      <td>0.0</td>\n",
       "      <td>NaN</td>\n",
       "      <td>1900-01-01 00:00:00</td>\n",
       "      <td>0</td>\n",
       "      <td>0</td>\n",
       "      <td>0</td>\n",
       "    </tr>\n",
       "    <tr>\n",
       "      <td>3</td>\n",
       "      <td>104.196.198.aej</td>\n",
       "      <td>2017-03-01</td>\n",
       "      <td>00:00:00</td>\n",
       "      <td>0.0</td>\n",
       "      <td>1660681.0</td>\n",
       "      <td>0001127602-17-008948</td>\n",
       "      <td>form4.xml</td>\n",
       "      <td>200.0</td>\n",
       "      <td>4955.0</td>\n",
       "      <td>0.0</td>\n",
       "      <td>0.0</td>\n",
       "      <td>0.0</td>\n",
       "      <td>10.0</td>\n",
       "      <td>0.0</td>\n",
       "      <td>NaN</td>\n",
       "      <td>1900-01-01 00:00:00</td>\n",
       "      <td>0</td>\n",
       "      <td>0</td>\n",
       "      <td>0</td>\n",
       "    </tr>\n",
       "    <tr>\n",
       "      <td>4</td>\n",
       "      <td>104.196.198.aej</td>\n",
       "      <td>2017-03-01</td>\n",
       "      <td>00:00:00</td>\n",
       "      <td>0.0</td>\n",
       "      <td>1096325.0</td>\n",
       "      <td>0001140361-17-009737</td>\n",
       "      <td>-index.htm</td>\n",
       "      <td>200.0</td>\n",
       "      <td>7482.0</td>\n",
       "      <td>1.0</td>\n",
       "      <td>0.0</td>\n",
       "      <td>0.0</td>\n",
       "      <td>10.0</td>\n",
       "      <td>0.0</td>\n",
       "      <td>NaN</td>\n",
       "      <td>1900-01-01 00:00:00</td>\n",
       "      <td>0</td>\n",
       "      <td>0</td>\n",
       "      <td>0</td>\n",
       "    </tr>\n",
       "    <tr>\n",
       "      <td>...</td>\n",
       "      <td>...</td>\n",
       "      <td>...</td>\n",
       "      <td>...</td>\n",
       "      <td>...</td>\n",
       "      <td>...</td>\n",
       "      <td>...</td>\n",
       "      <td>...</td>\n",
       "      <td>...</td>\n",
       "      <td>...</td>\n",
       "      <td>...</td>\n",
       "      <td>...</td>\n",
       "      <td>...</td>\n",
       "      <td>...</td>\n",
       "      <td>...</td>\n",
       "      <td>...</td>\n",
       "      <td>...</td>\n",
       "      <td>...</td>\n",
       "      <td>...</td>\n",
       "      <td>...</td>\n",
       "    </tr>\n",
       "    <tr>\n",
       "      <td>27992713</td>\n",
       "      <td>107.72.162.cdg</td>\n",
       "      <td>2017-03-01</td>\n",
       "      <td>23:59:58</td>\n",
       "      <td>0.0</td>\n",
       "      <td>1090727.0</td>\n",
       "      <td>0001225208-17-004717</td>\n",
       "      <td>xslF345X01/doc4.xml</td>\n",
       "      <td>301.0</td>\n",
       "      <td>674.0</td>\n",
       "      <td>0.0</td>\n",
       "      <td>0.0</td>\n",
       "      <td>0.0</td>\n",
       "      <td>10.0</td>\n",
       "      <td>0.0</td>\n",
       "      <td>NaN</td>\n",
       "      <td>1900-01-01 23:59:58</td>\n",
       "      <td>23</td>\n",
       "      <td>59</td>\n",
       "      <td>58</td>\n",
       "    </tr>\n",
       "    <tr>\n",
       "      <td>27992714</td>\n",
       "      <td>107.77.215.abc</td>\n",
       "      <td>2017-03-01</td>\n",
       "      <td>23:59:58</td>\n",
       "      <td>0.0</td>\n",
       "      <td>1090727.0</td>\n",
       "      <td>0001225208-17-004717</td>\n",
       "      <td>xslF345X01/doc4.xml</td>\n",
       "      <td>200.0</td>\n",
       "      <td>3815.0</td>\n",
       "      <td>0.0</td>\n",
       "      <td>0.0</td>\n",
       "      <td>0.0</td>\n",
       "      <td>10.0</td>\n",
       "      <td>0.0</td>\n",
       "      <td>NaN</td>\n",
       "      <td>1900-01-01 23:59:58</td>\n",
       "      <td>23</td>\n",
       "      <td>59</td>\n",
       "      <td>58</td>\n",
       "    </tr>\n",
       "    <tr>\n",
       "      <td>27992803</td>\n",
       "      <td>137.151.175.aha</td>\n",
       "      <td>2017-03-01</td>\n",
       "      <td>23:59:58</td>\n",
       "      <td>0.0</td>\n",
       "      <td>37996.0</td>\n",
       "      <td>0000037996-17-000013</td>\n",
       "      <td>R1.htm</td>\n",
       "      <td>200.0</td>\n",
       "      <td>4479.0</td>\n",
       "      <td>0.0</td>\n",
       "      <td>0.0</td>\n",
       "      <td>0.0</td>\n",
       "      <td>8.0</td>\n",
       "      <td>0.0</td>\n",
       "      <td>NaN</td>\n",
       "      <td>1900-01-01 23:59:58</td>\n",
       "      <td>23</td>\n",
       "      <td>59</td>\n",
       "      <td>58</td>\n",
       "    </tr>\n",
       "    <tr>\n",
       "      <td>27992898</td>\n",
       "      <td>38.104.50.bch</td>\n",
       "      <td>2017-03-01</td>\n",
       "      <td>23:59:58</td>\n",
       "      <td>0.0</td>\n",
       "      <td>31347.0</td>\n",
       "      <td>0001012870-00-004869</td>\n",
       "      <td>-0002.txt</td>\n",
       "      <td>200.0</td>\n",
       "      <td>34944.0</td>\n",
       "      <td>0.0</td>\n",
       "      <td>0.0</td>\n",
       "      <td>0.0</td>\n",
       "      <td>10.0</td>\n",
       "      <td>0.0</td>\n",
       "      <td>NaN</td>\n",
       "      <td>1900-01-01 23:59:58</td>\n",
       "      <td>23</td>\n",
       "      <td>59</td>\n",
       "      <td>58</td>\n",
       "    </tr>\n",
       "    <tr>\n",
       "      <td>27992996</td>\n",
       "      <td>8.33.29.ejd</td>\n",
       "      <td>2017-03-01</td>\n",
       "      <td>23:59:58</td>\n",
       "      <td>0.0</td>\n",
       "      <td>65100.0</td>\n",
       "      <td>0000728612-02-000032</td>\n",
       "      <td>jun0213f.txt</td>\n",
       "      <td>200.0</td>\n",
       "      <td>242951.0</td>\n",
       "      <td>0.0</td>\n",
       "      <td>0.0</td>\n",
       "      <td>0.0</td>\n",
       "      <td>10.0</td>\n",
       "      <td>0.0</td>\n",
       "      <td>NaN</td>\n",
       "      <td>1900-01-01 23:59:58</td>\n",
       "      <td>23</td>\n",
       "      <td>59</td>\n",
       "      <td>58</td>\n",
       "    </tr>\n",
       "  </tbody>\n",
       "</table>\n",
       "<p>330613 rows × 19 columns</p>\n",
       "</div>"
      ],
      "text/plain": [
       "                       ip        date      time  zone        cik  \\\n",
       "0           101.71.41.ihh  2017-03-01  00:00:00   0.0   933141.0   \n",
       "1           101.71.41.ihh  2017-03-01  00:00:00   0.0  1595974.0   \n",
       "2         104.196.198.aej  2017-03-01  00:00:00   0.0  1096325.0   \n",
       "3         104.196.198.aej  2017-03-01  00:00:00   0.0  1660681.0   \n",
       "4         104.196.198.aej  2017-03-01  00:00:00   0.0  1096325.0   \n",
       "...                   ...         ...       ...   ...        ...   \n",
       "27992713   107.72.162.cdg  2017-03-01  23:59:58   0.0  1090727.0   \n",
       "27992714   107.77.215.abc  2017-03-01  23:59:58   0.0  1090727.0   \n",
       "27992803  137.151.175.aha  2017-03-01  23:59:58   0.0    37996.0   \n",
       "27992898    38.104.50.bch  2017-03-01  23:59:58   0.0    31347.0   \n",
       "27992996      8.33.29.ejd  2017-03-01  23:59:58   0.0    65100.0   \n",
       "\n",
       "                     accession            extention   code      size  idx  \\\n",
       "0         0001193125-17-062751           -index.htm  301.0     683.0  1.0   \n",
       "1         0001595974-17-000010           -index.htm  301.0     677.0  1.0   \n",
       "2         0001140361-17-009737           -index.htm  301.0     680.0  1.0   \n",
       "3         0001127602-17-008948            form4.xml  200.0    4955.0  0.0   \n",
       "4         0001140361-17-009737           -index.htm  200.0    7482.0  1.0   \n",
       "...                        ...                  ...    ...       ...  ...   \n",
       "27992713  0001225208-17-004717  xslF345X01/doc4.xml  301.0     674.0  0.0   \n",
       "27992714  0001225208-17-004717  xslF345X01/doc4.xml  200.0    3815.0  0.0   \n",
       "27992803  0000037996-17-000013               R1.htm  200.0    4479.0  0.0   \n",
       "27992898  0001012870-00-004869            -0002.txt  200.0   34944.0  0.0   \n",
       "27992996  0000728612-02-000032         jun0213f.txt  200.0  242951.0  0.0   \n",
       "\n",
       "          norefer  noagent  find  crawler browser               clock  Hour  \\\n",
       "0             0.0      0.0  10.0      0.0     NaN 1900-01-01 00:00:00     0   \n",
       "1             0.0      0.0  10.0      0.0     NaN 1900-01-01 00:00:00     0   \n",
       "2             0.0      0.0  10.0      0.0     NaN 1900-01-01 00:00:00     0   \n",
       "3             0.0      0.0  10.0      0.0     NaN 1900-01-01 00:00:00     0   \n",
       "4             0.0      0.0  10.0      0.0     NaN 1900-01-01 00:00:00     0   \n",
       "...           ...      ...   ...      ...     ...                 ...   ...   \n",
       "27992713      0.0      0.0  10.0      0.0     NaN 1900-01-01 23:59:58    23   \n",
       "27992714      0.0      0.0  10.0      0.0     NaN 1900-01-01 23:59:58    23   \n",
       "27992803      0.0      0.0   8.0      0.0     NaN 1900-01-01 23:59:58    23   \n",
       "27992898      0.0      0.0  10.0      0.0     NaN 1900-01-01 23:59:58    23   \n",
       "27992996      0.0      0.0  10.0      0.0     NaN 1900-01-01 23:59:58    23   \n",
       "\n",
       "          Minute  Second  \n",
       "0              0       0  \n",
       "1              0       0  \n",
       "2              0       0  \n",
       "3              0       0  \n",
       "4              0       0  \n",
       "...          ...     ...  \n",
       "27992713      59      58  \n",
       "27992714      59      58  \n",
       "27992803      59      58  \n",
       "27992898      59      58  \n",
       "27992996      59      58  \n",
       "\n",
       "[330613 rows x 19 columns]"
      ]
     },
     "execution_count": 18,
     "metadata": {},
     "output_type": "execute_result"
    }
   ],
   "source": [
    "gk.head()"
   ]
  },
  {
   "cell_type": "code",
   "execution_count": 19,
   "metadata": {},
   "outputs": [],
   "source": [
    "unique_ip = df_norobot.ip.unique().tolist()"
   ]
  },
  {
   "cell_type": "code",
   "execution_count": 20,
   "metadata": {},
   "outputs": [],
   "source": [
    "search = []\n",
    "for i in range(len(unique_ip)):\n",
    "    data= gk.get_group(unique_ip[i])\n",
    "    search.append(list(np.transpose(data[\"cik\"])))"
   ]
  },
  {
   "cell_type": "markdown",
   "metadata": {},
   "source": [
    "How many unique ip?"
   ]
  },
  {
   "cell_type": "code",
   "execution_count": 21,
   "metadata": {},
   "outputs": [
    {
     "name": "stdout",
     "output_type": "stream",
     "text": [
      "The unique ip searched on EDGAR is:  129639\n"
     ]
    }
   ],
   "source": [
    "print(\"The unique ip searched on EDGAR is: \", len(unique_ip))"
   ]
  },
  {
   "cell_type": "markdown",
   "metadata": {},
   "source": [
    "The most searches on this day"
   ]
  },
  {
   "cell_type": "code",
   "execution_count": 22,
   "metadata": {},
   "outputs": [
    {
     "name": "stdout",
     "output_type": "stream",
     "text": [
      "The most searches is:  926292\n"
     ]
    }
   ],
   "source": [
    "max_search = 0\n",
    "for i in range(len(search)):\n",
    "    if len(search[i]) > max_search:\n",
    "        max_search = len(search[i])\n",
    "print(\"The most searches is: \", max_search)"
   ]
  },
  {
   "cell_type": "code",
   "execution_count": 23,
   "metadata": {},
   "outputs": [],
   "source": [
    "#Distribution for search times per ip\n",
    "freq = []\n",
    "for i in range(len(search)):\n",
    "    freq.append(len(search[i]))"
   ]
  },
  {
   "cell_type": "code",
   "execution_count": 24,
   "metadata": {},
   "outputs": [],
   "source": [
    "b = pd.DataFrame(freq)"
   ]
  },
  {
   "cell_type": "code",
   "execution_count": 25,
   "metadata": {},
   "outputs": [],
   "source": [
    "c = pd.concat([pd.DataFrame(unique_ip),b],axis=1)\n",
    "c.columns = [\"ip\",\"Frequency\"]"
   ]
  },
  {
   "cell_type": "code",
   "execution_count": 26,
   "metadata": {},
   "outputs": [
    {
     "data": {
      "text/html": [
       "<div>\n",
       "<style scoped>\n",
       "    .dataframe tbody tr th:only-of-type {\n",
       "        vertical-align: middle;\n",
       "    }\n",
       "\n",
       "    .dataframe tbody tr th {\n",
       "        vertical-align: top;\n",
       "    }\n",
       "\n",
       "    .dataframe thead th {\n",
       "        text-align: right;\n",
       "    }\n",
       "</style>\n",
       "<table border=\"1\" class=\"dataframe\">\n",
       "  <thead>\n",
       "    <tr style=\"text-align: right;\">\n",
       "      <th></th>\n",
       "      <th>ip</th>\n",
       "      <th>Frequency</th>\n",
       "    </tr>\n",
       "  </thead>\n",
       "  <tbody>\n",
       "    <tr>\n",
       "      <td>0</td>\n",
       "      <td>101.71.41.ihh</td>\n",
       "      <td>3544</td>\n",
       "    </tr>\n",
       "    <tr>\n",
       "      <td>1</td>\n",
       "      <td>104.196.198.aej</td>\n",
       "      <td>363879</td>\n",
       "    </tr>\n",
       "    <tr>\n",
       "      <td>2</td>\n",
       "      <td>106.120.173.jie</td>\n",
       "      <td>6011</td>\n",
       "    </tr>\n",
       "    <tr>\n",
       "      <td>3</td>\n",
       "      <td>107.23.85.jfd</td>\n",
       "      <td>112433</td>\n",
       "    </tr>\n",
       "    <tr>\n",
       "      <td>4</td>\n",
       "      <td>115.111.104.igg</td>\n",
       "      <td>26108</td>\n",
       "    </tr>\n",
       "  </tbody>\n",
       "</table>\n",
       "</div>"
      ],
      "text/plain": [
       "                ip  Frequency\n",
       "0    101.71.41.ihh       3544\n",
       "1  104.196.198.aej     363879\n",
       "2  106.120.173.jie       6011\n",
       "3    107.23.85.jfd     112433\n",
       "4  115.111.104.igg      26108"
      ]
     },
     "execution_count": 26,
     "metadata": {},
     "output_type": "execute_result"
    }
   ],
   "source": [
    "c.head()"
   ]
  },
  {
   "cell_type": "code",
   "execution_count": 27,
   "metadata": {},
   "outputs": [
    {
     "data": {
      "text/html": [
       "<div>\n",
       "<style scoped>\n",
       "    .dataframe tbody tr th:only-of-type {\n",
       "        vertical-align: middle;\n",
       "    }\n",
       "\n",
       "    .dataframe tbody tr th {\n",
       "        vertical-align: top;\n",
       "    }\n",
       "\n",
       "    .dataframe thead th {\n",
       "        text-align: right;\n",
       "    }\n",
       "</style>\n",
       "<table border=\"1\" class=\"dataframe\">\n",
       "  <thead>\n",
       "    <tr style=\"text-align: right;\">\n",
       "      <th></th>\n",
       "      <th>Frequency</th>\n",
       "    </tr>\n",
       "  </thead>\n",
       "  <tbody>\n",
       "    <tr>\n",
       "      <td>count</td>\n",
       "      <td>129639.000000</td>\n",
       "    </tr>\n",
       "    <tr>\n",
       "      <td>mean</td>\n",
       "      <td>213.567005</td>\n",
       "    </tr>\n",
       "    <tr>\n",
       "      <td>std</td>\n",
       "      <td>6608.126949</td>\n",
       "    </tr>\n",
       "    <tr>\n",
       "      <td>min</td>\n",
       "      <td>1.000000</td>\n",
       "    </tr>\n",
       "    <tr>\n",
       "      <td>25%</td>\n",
       "      <td>1.000000</td>\n",
       "    </tr>\n",
       "    <tr>\n",
       "      <td>50%</td>\n",
       "      <td>2.000000</td>\n",
       "    </tr>\n",
       "    <tr>\n",
       "      <td>75%</td>\n",
       "      <td>6.000000</td>\n",
       "    </tr>\n",
       "    <tr>\n",
       "      <td>max</td>\n",
       "      <td>926292.000000</td>\n",
       "    </tr>\n",
       "  </tbody>\n",
       "</table>\n",
       "</div>"
      ],
      "text/plain": [
       "           Frequency\n",
       "count  129639.000000\n",
       "mean      213.567005\n",
       "std      6608.126949\n",
       "min         1.000000\n",
       "25%         1.000000\n",
       "50%         2.000000\n",
       "75%         6.000000\n",
       "max    926292.000000"
      ]
     },
     "execution_count": 27,
     "metadata": {},
     "output_type": "execute_result"
    }
   ],
   "source": [
    "c.describe()"
   ]
  },
  {
   "cell_type": "code",
   "execution_count": 28,
   "metadata": {},
   "outputs": [
    {
     "data": {
      "text/plain": [
       "<matplotlib.axes._subplots.AxesSubplot at 0x1ac59f74d0>"
      ]
     },
     "execution_count": 28,
     "metadata": {},
     "output_type": "execute_result"
    },
    {
     "data": {
      "image/png": "[encoded data removed]",
      "text/plain": [
       "<Figure size 432x288 with 1 Axes>"
      ]
     },
     "metadata": {
      "needs_background": "light"
     },
     "output_type": "display_data"
    }
   ],
   "source": [
    "#Boxplot for the frequency\n",
    "c.boxplot()"
   ]
  },
  {
   "cell_type": "markdown",
   "metadata": {},
   "source": [
    "# Restrict to the ip who searches no more than 213 times on this day.  \n",
    "\n",
    "There are 126521 ip satisfied this condition.  \n",
    "\n",
    "# Using \"search no more than 213\", we filter out 3118 observations (2.4%)."
   ]
  },
  {
   "cell_type": "code",
   "execution_count": 29,
   "metadata": {},
   "outputs": [
    {
     "data": {
      "text/html": [
       "<div>\n",
       "<style scoped>\n",
       "    .dataframe tbody tr th:only-of-type {\n",
       "        vertical-align: middle;\n",
       "    }\n",
       "\n",
       "    .dataframe tbody tr th {\n",
       "        vertical-align: top;\n",
       "    }\n",
       "\n",
       "    .dataframe thead th {\n",
       "        text-align: right;\n",
       "    }\n",
       "</style>\n",
       "<table border=\"1\" class=\"dataframe\">\n",
       "  <thead>\n",
       "    <tr style=\"text-align: right;\">\n",
       "      <th></th>\n",
       "      <th>ip</th>\n",
       "      <th>Frequency</th>\n",
       "    </tr>\n",
       "  </thead>\n",
       "  <tbody>\n",
       "    <tr>\n",
       "      <td>5</td>\n",
       "      <td>115.193.188.jfd</td>\n",
       "      <td>1</td>\n",
       "    </tr>\n",
       "    <tr>\n",
       "      <td>9</td>\n",
       "      <td>12.130.117.jbf</td>\n",
       "      <td>8</td>\n",
       "    </tr>\n",
       "    <tr>\n",
       "      <td>25</td>\n",
       "      <td>164.67.178.gha</td>\n",
       "      <td>107</td>\n",
       "    </tr>\n",
       "    <tr>\n",
       "      <td>26</td>\n",
       "      <td>168.244.4.acc</td>\n",
       "      <td>9</td>\n",
       "    </tr>\n",
       "    <tr>\n",
       "      <td>36</td>\n",
       "      <td>184.186.204.efc</td>\n",
       "      <td>1</td>\n",
       "    </tr>\n",
       "    <tr>\n",
       "      <td>...</td>\n",
       "      <td>...</td>\n",
       "      <td>...</td>\n",
       "    </tr>\n",
       "    <tr>\n",
       "      <td>129634</td>\n",
       "      <td>106.37.115.abb</td>\n",
       "      <td>1</td>\n",
       "    </tr>\n",
       "    <tr>\n",
       "      <td>129635</td>\n",
       "      <td>107.72.162.cdg</td>\n",
       "      <td>1</td>\n",
       "    </tr>\n",
       "    <tr>\n",
       "      <td>129636</td>\n",
       "      <td>107.77.215.abc</td>\n",
       "      <td>1</td>\n",
       "    </tr>\n",
       "    <tr>\n",
       "      <td>129637</td>\n",
       "      <td>38.104.50.bch</td>\n",
       "      <td>1</td>\n",
       "    </tr>\n",
       "    <tr>\n",
       "      <td>129638</td>\n",
       "      <td>8.33.29.ejd</td>\n",
       "      <td>1</td>\n",
       "    </tr>\n",
       "  </tbody>\n",
       "</table>\n",
       "<p>126521 rows × 2 columns</p>\n",
       "</div>"
      ],
      "text/plain": [
       "                     ip  Frequency\n",
       "5       115.193.188.jfd          1\n",
       "9        12.130.117.jbf          8\n",
       "25       164.67.178.gha        107\n",
       "26        168.244.4.acc          9\n",
       "36      184.186.204.efc          1\n",
       "...                 ...        ...\n",
       "129634   106.37.115.abb          1\n",
       "129635   107.72.162.cdg          1\n",
       "129636   107.77.215.abc          1\n",
       "129637    38.104.50.bch          1\n",
       "129638      8.33.29.ejd          1\n",
       "\n",
       "[126521 rows x 2 columns]"
      ]
     },
     "execution_count": 29,
     "metadata": {},
     "output_type": "execute_result"
    }
   ],
   "source": [
    "c[c[\"Frequency\"]<=213]"
   ]
  },
  {
   "cell_type": "markdown",
   "metadata": {},
   "source": [
    "# Restrict to the ip who searches no more than 100 times on this day.  \n",
    "\n",
    "There are 124625 ip satisfied this condition.  \n",
    "\n",
    "Using \"search no more than 100\", we filter out 5014 observations (4%)."
   ]
  },
  {
   "cell_type": "code",
   "execution_count": 30,
   "metadata": {},
   "outputs": [
    {
     "data": {
      "text/html": [
       "<div>\n",
       "<style scoped>\n",
       "    .dataframe tbody tr th:only-of-type {\n",
       "        vertical-align: middle;\n",
       "    }\n",
       "\n",
       "    .dataframe tbody tr th {\n",
       "        vertical-align: top;\n",
       "    }\n",
       "\n",
       "    .dataframe thead th {\n",
       "        text-align: right;\n",
       "    }\n",
       "</style>\n",
       "<table border=\"1\" class=\"dataframe\">\n",
       "  <thead>\n",
       "    <tr style=\"text-align: right;\">\n",
       "      <th></th>\n",
       "      <th>ip</th>\n",
       "      <th>Frequency</th>\n",
       "    </tr>\n",
       "  </thead>\n",
       "  <tbody>\n",
       "    <tr>\n",
       "      <td>5</td>\n",
       "      <td>115.193.188.jfd</td>\n",
       "      <td>1</td>\n",
       "    </tr>\n",
       "    <tr>\n",
       "      <td>9</td>\n",
       "      <td>12.130.117.jbf</td>\n",
       "      <td>8</td>\n",
       "    </tr>\n",
       "    <tr>\n",
       "      <td>26</td>\n",
       "      <td>168.244.4.acc</td>\n",
       "      <td>9</td>\n",
       "    </tr>\n",
       "    <tr>\n",
       "      <td>36</td>\n",
       "      <td>184.186.204.efc</td>\n",
       "      <td>1</td>\n",
       "    </tr>\n",
       "    <tr>\n",
       "      <td>37</td>\n",
       "      <td>192.103.251.aje</td>\n",
       "      <td>75</td>\n",
       "    </tr>\n",
       "    <tr>\n",
       "      <td>...</td>\n",
       "      <td>...</td>\n",
       "      <td>...</td>\n",
       "    </tr>\n",
       "    <tr>\n",
       "      <td>129634</td>\n",
       "      <td>106.37.115.abb</td>\n",
       "      <td>1</td>\n",
       "    </tr>\n",
       "    <tr>\n",
       "      <td>129635</td>\n",
       "      <td>107.72.162.cdg</td>\n",
       "      <td>1</td>\n",
       "    </tr>\n",
       "    <tr>\n",
       "      <td>129636</td>\n",
       "      <td>107.77.215.abc</td>\n",
       "      <td>1</td>\n",
       "    </tr>\n",
       "    <tr>\n",
       "      <td>129637</td>\n",
       "      <td>38.104.50.bch</td>\n",
       "      <td>1</td>\n",
       "    </tr>\n",
       "    <tr>\n",
       "      <td>129638</td>\n",
       "      <td>8.33.29.ejd</td>\n",
       "      <td>1</td>\n",
       "    </tr>\n",
       "  </tbody>\n",
       "</table>\n",
       "<p>124625 rows × 2 columns</p>\n",
       "</div>"
      ],
      "text/plain": [
       "                     ip  Frequency\n",
       "5       115.193.188.jfd          1\n",
       "9        12.130.117.jbf          8\n",
       "26        168.244.4.acc          9\n",
       "36      184.186.204.efc          1\n",
       "37      192.103.251.aje         75\n",
       "...                 ...        ...\n",
       "129634   106.37.115.abb          1\n",
       "129635   107.72.162.cdg          1\n",
       "129636   107.77.215.abc          1\n",
       "129637    38.104.50.bch          1\n",
       "129638      8.33.29.ejd          1\n",
       "\n",
       "[124625 rows x 2 columns]"
      ]
     },
     "execution_count": 30,
     "metadata": {},
     "output_type": "execute_result"
    }
   ],
   "source": [
    "c[c[\"Frequency\"]<=100]"
   ]
  },
  {
   "cell_type": "code",
   "execution_count": 31,
   "metadata": {},
   "outputs": [
    {
     "data": {
      "text/plain": [
       "<matplotlib.axes._subplots.AxesSubplot at 0x1ac5b45250>"
      ]
     },
     "execution_count": 31,
     "metadata": {},
     "output_type": "execute_result"
    },
    {
     "data": {
      "image/png": "[encoded data removed]",
      "text/plain": [
       "<Figure size 432x288 with 1 Axes>"
      ]
     },
     "metadata": {
      "needs_background": "light"
     },
     "output_type": "display_data"
    }
   ],
   "source": [
    "#Boxplot for the frequency\n",
    "c[c[\"Frequency\"]<=100].boxplot()"
   ]
  },
  {
   "cell_type": "code",
   "execution_count": 32,
   "metadata": {},
   "outputs": [
    {
     "data": {
      "text/html": [
       "<div>\n",
       "<style scoped>\n",
       "    .dataframe tbody tr th:only-of-type {\n",
       "        vertical-align: middle;\n",
       "    }\n",
       "\n",
       "    .dataframe tbody tr th {\n",
       "        vertical-align: top;\n",
       "    }\n",
       "\n",
       "    .dataframe thead th {\n",
       "        text-align: right;\n",
       "    }\n",
       "</style>\n",
       "<table border=\"1\" class=\"dataframe\">\n",
       "  <thead>\n",
       "    <tr style=\"text-align: right;\">\n",
       "      <th></th>\n",
       "      <th>Frequency</th>\n",
       "    </tr>\n",
       "  </thead>\n",
       "  <tbody>\n",
       "    <tr>\n",
       "      <td>count</td>\n",
       "      <td>124625.000000</td>\n",
       "    </tr>\n",
       "    <tr>\n",
       "      <td>mean</td>\n",
       "      <td>6.734387</td>\n",
       "    </tr>\n",
       "    <tr>\n",
       "      <td>std</td>\n",
       "      <td>13.103823</td>\n",
       "    </tr>\n",
       "    <tr>\n",
       "      <td>min</td>\n",
       "      <td>1.000000</td>\n",
       "    </tr>\n",
       "    <tr>\n",
       "      <td>25%</td>\n",
       "      <td>1.000000</td>\n",
       "    </tr>\n",
       "    <tr>\n",
       "      <td>50%</td>\n",
       "      <td>2.000000</td>\n",
       "    </tr>\n",
       "    <tr>\n",
       "      <td>75%</td>\n",
       "      <td>4.000000</td>\n",
       "    </tr>\n",
       "    <tr>\n",
       "      <td>max</td>\n",
       "      <td>100.000000</td>\n",
       "    </tr>\n",
       "  </tbody>\n",
       "</table>\n",
       "</div>"
      ],
      "text/plain": [
       "           Frequency\n",
       "count  124625.000000\n",
       "mean        6.734387\n",
       "std        13.103823\n",
       "min         1.000000\n",
       "25%         1.000000\n",
       "50%         2.000000\n",
       "75%         4.000000\n",
       "max       100.000000"
      ]
     },
     "execution_count": 32,
     "metadata": {},
     "output_type": "execute_result"
    }
   ],
   "source": [
    "c[c[\"Frequency\"]<=100].describe()"
   ]
  },
  {
   "cell_type": "markdown",
   "metadata": {},
   "source": [
    "If only set the upper bound for the data (we try 20 below), the boxplot cannot give clear picture because of lack of lower bound."
   ]
  },
  {
   "cell_type": "markdown",
   "metadata": {},
   "source": [
    "# When we restrict to the ip who search no more than 20 times on this day, we have 112131 observation, which remains 86%."
   ]
  },
  {
   "cell_type": "code",
   "execution_count": 33,
   "metadata": {},
   "outputs": [
    {
     "data": {
      "text/plain": [
       "<matplotlib.axes._subplots.AxesSubplot at 0x1acd01cc50>"
      ]
     },
     "execution_count": 33,
     "metadata": {},
     "output_type": "execute_result"
    },
    {
     "data": {
      "image/png": "[encoded data removed]",
      "text/plain": [
       "<Figure size 432x288 with 1 Axes>"
      ]
     },
     "metadata": {
      "needs_background": "light"
     },
     "output_type": "display_data"
    }
   ],
   "source": [
    "c[c[\"Frequency\"]<=20].boxplot()"
   ]
  },
  {
   "cell_type": "code",
   "execution_count": 34,
   "metadata": {},
   "outputs": [
    {
     "data": {
      "text/html": [
       "<div>\n",
       "<style scoped>\n",
       "    .dataframe tbody tr th:only-of-type {\n",
       "        vertical-align: middle;\n",
       "    }\n",
       "\n",
       "    .dataframe tbody tr th {\n",
       "        vertical-align: top;\n",
       "    }\n",
       "\n",
       "    .dataframe thead th {\n",
       "        text-align: right;\n",
       "    }\n",
       "</style>\n",
       "<table border=\"1\" class=\"dataframe\">\n",
       "  <thead>\n",
       "    <tr style=\"text-align: right;\">\n",
       "      <th></th>\n",
       "      <th>Frequency</th>\n",
       "    </tr>\n",
       "  </thead>\n",
       "  <tbody>\n",
       "    <tr>\n",
       "      <td>count</td>\n",
       "      <td>112131.000000</td>\n",
       "    </tr>\n",
       "    <tr>\n",
       "      <td>mean</td>\n",
       "      <td>2.918693</td>\n",
       "    </tr>\n",
       "    <tr>\n",
       "      <td>std</td>\n",
       "      <td>3.505906</td>\n",
       "    </tr>\n",
       "    <tr>\n",
       "      <td>min</td>\n",
       "      <td>1.000000</td>\n",
       "    </tr>\n",
       "    <tr>\n",
       "      <td>25%</td>\n",
       "      <td>1.000000</td>\n",
       "    </tr>\n",
       "    <tr>\n",
       "      <td>50%</td>\n",
       "      <td>2.000000</td>\n",
       "    </tr>\n",
       "    <tr>\n",
       "      <td>75%</td>\n",
       "      <td>3.000000</td>\n",
       "    </tr>\n",
       "    <tr>\n",
       "      <td>max</td>\n",
       "      <td>20.000000</td>\n",
       "    </tr>\n",
       "  </tbody>\n",
       "</table>\n",
       "</div>"
      ],
      "text/plain": [
       "           Frequency\n",
       "count  112131.000000\n",
       "mean        2.918693\n",
       "std         3.505906\n",
       "min         1.000000\n",
       "25%         1.000000\n",
       "50%         2.000000\n",
       "75%         3.000000\n",
       "max        20.000000"
      ]
     },
     "execution_count": 34,
     "metadata": {},
     "output_type": "execute_result"
    }
   ],
   "source": [
    "c[c[\"Frequency\"]<=20].describe()"
   ]
  },
  {
   "cell_type": "markdown",
   "metadata": {},
   "source": [
    "# Set the lower bound to 3 - the ip should search at least 3 times in this day."
   ]
  },
  {
   "cell_type": "markdown",
   "metadata": {},
   "source": [
    "We only have 31908 observations after setting this constraints (24.6%).\n",
    "\n",
    "The average search for this dataset is about 7 times."
   ]
  },
  {
   "cell_type": "code",
   "execution_count": 35,
   "metadata": {},
   "outputs": [
    {
     "data": {
      "text/plain": [
       "<matplotlib.axes._subplots.AxesSubplot at 0x1ace7a9290>"
      ]
     },
     "execution_count": 35,
     "metadata": {},
     "output_type": "execute_result"
    },
    {
     "data": {
      "image/png": "[encoded data removed]",
      "text/plain": [
       "<Figure size 432x288 with 1 Axes>"
      ]
     },
     "metadata": {
      "needs_background": "light"
     },
     "output_type": "display_data"
    }
   ],
   "source": [
    "c[(c[\"Frequency\"]<=20) & (c[\"Frequency\"]>=3)].boxplot()"
   ]
  },
  {
   "cell_type": "code",
   "execution_count": 36,
   "metadata": {},
   "outputs": [
    {
     "data": {
      "text/html": [
       "<div>\n",
       "<style scoped>\n",
       "    .dataframe tbody tr th:only-of-type {\n",
       "        vertical-align: middle;\n",
       "    }\n",
       "\n",
       "    .dataframe tbody tr th {\n",
       "        vertical-align: top;\n",
       "    }\n",
       "\n",
       "    .dataframe thead th {\n",
       "        text-align: right;\n",
       "    }\n",
       "</style>\n",
       "<table border=\"1\" class=\"dataframe\">\n",
       "  <thead>\n",
       "    <tr style=\"text-align: right;\">\n",
       "      <th></th>\n",
       "      <th>Frequency</th>\n",
       "    </tr>\n",
       "  </thead>\n",
       "  <tbody>\n",
       "    <tr>\n",
       "      <td>count</td>\n",
       "      <td>31908.000000</td>\n",
       "    </tr>\n",
       "    <tr>\n",
       "      <td>mean</td>\n",
       "      <td>6.948446</td>\n",
       "    </tr>\n",
       "    <tr>\n",
       "      <td>std</td>\n",
       "      <td>4.466927</td>\n",
       "    </tr>\n",
       "    <tr>\n",
       "      <td>min</td>\n",
       "      <td>3.000000</td>\n",
       "    </tr>\n",
       "    <tr>\n",
       "      <td>25%</td>\n",
       "      <td>3.000000</td>\n",
       "    </tr>\n",
       "    <tr>\n",
       "      <td>50%</td>\n",
       "      <td>5.000000</td>\n",
       "    </tr>\n",
       "    <tr>\n",
       "      <td>75%</td>\n",
       "      <td>9.000000</td>\n",
       "    </tr>\n",
       "    <tr>\n",
       "      <td>max</td>\n",
       "      <td>20.000000</td>\n",
       "    </tr>\n",
       "  </tbody>\n",
       "</table>\n",
       "</div>"
      ],
      "text/plain": [
       "          Frequency\n",
       "count  31908.000000\n",
       "mean       6.948446\n",
       "std        4.466927\n",
       "min        3.000000\n",
       "25%        3.000000\n",
       "50%        5.000000\n",
       "75%        9.000000\n",
       "max       20.000000"
      ]
     },
     "execution_count": 36,
     "metadata": {},
     "output_type": "execute_result"
    }
   ],
   "source": [
    "c[(c[\"Frequency\"]<=20) & (c[\"Frequency\"]>=3)].describe()"
   ]
  },
  {
   "cell_type": "code",
   "execution_count": 37,
   "metadata": {},
   "outputs": [
    {
     "data": {
      "text/html": [
       "<div>\n",
       "<style scoped>\n",
       "    .dataframe tbody tr th:only-of-type {\n",
       "        vertical-align: middle;\n",
       "    }\n",
       "\n",
       "    .dataframe tbody tr th {\n",
       "        vertical-align: top;\n",
       "    }\n",
       "\n",
       "    .dataframe thead th {\n",
       "        text-align: right;\n",
       "    }\n",
       "</style>\n",
       "<table border=\"1\" class=\"dataframe\">\n",
       "  <thead>\n",
       "    <tr style=\"text-align: right;\">\n",
       "      <th></th>\n",
       "      <th>ip</th>\n",
       "      <th>Frequency</th>\n",
       "    </tr>\n",
       "  </thead>\n",
       "  <tbody>\n",
       "    <tr>\n",
       "      <td>9</td>\n",
       "      <td>12.130.117.jbf</td>\n",
       "      <td>8</td>\n",
       "    </tr>\n",
       "    <tr>\n",
       "      <td>26</td>\n",
       "      <td>168.244.4.acc</td>\n",
       "      <td>9</td>\n",
       "    </tr>\n",
       "    <tr>\n",
       "      <td>96</td>\n",
       "      <td>114.251.201.jdd</td>\n",
       "      <td>8</td>\n",
       "    </tr>\n",
       "    <tr>\n",
       "      <td>108</td>\n",
       "      <td>4.16.47.edd</td>\n",
       "      <td>4</td>\n",
       "    </tr>\n",
       "    <tr>\n",
       "      <td>111</td>\n",
       "      <td>63.198.24.cjj</td>\n",
       "      <td>12</td>\n",
       "    </tr>\n",
       "  </tbody>\n",
       "</table>\n",
       "</div>"
      ],
      "text/plain": [
       "                  ip  Frequency\n",
       "9     12.130.117.jbf          8\n",
       "26     168.244.4.acc          9\n",
       "96   114.251.201.jdd          8\n",
       "108      4.16.47.edd          4\n",
       "111    63.198.24.cjj         12"
      ]
     },
     "execution_count": 37,
     "metadata": {},
     "output_type": "execute_result"
    }
   ],
   "source": [
    "d = c[(c[\"Frequency\"]<=20) & (c[\"Frequency\"]>=3)]\n",
    "d.head()"
   ]
  },
  {
   "cell_type": "code",
   "execution_count": 38,
   "metadata": {},
   "outputs": [],
   "source": [
    "search = pd.merge(d[\"ip\"],df_norobot,left_on=\"ip\",right_on=\"ip\",how=\"inner\")"
   ]
  },
  {
   "cell_type": "code",
   "execution_count": 39,
   "metadata": {},
   "outputs": [
    {
     "data": {
      "text/html": [
       "<div>\n",
       "<style scoped>\n",
       "    .dataframe tbody tr th:only-of-type {\n",
       "        vertical-align: middle;\n",
       "    }\n",
       "\n",
       "    .dataframe tbody tr th {\n",
       "        vertical-align: top;\n",
       "    }\n",
       "\n",
       "    .dataframe thead th {\n",
       "        text-align: right;\n",
       "    }\n",
       "</style>\n",
       "<table border=\"1\" class=\"dataframe\">\n",
       "  <thead>\n",
       "    <tr style=\"text-align: right;\">\n",
       "      <th></th>\n",
       "      <th>ip</th>\n",
       "      <th>date</th>\n",
       "      <th>time</th>\n",
       "      <th>zone</th>\n",
       "      <th>cik</th>\n",
       "      <th>accession</th>\n",
       "      <th>extention</th>\n",
       "      <th>code</th>\n",
       "      <th>size</th>\n",
       "      <th>idx</th>\n",
       "      <th>norefer</th>\n",
       "      <th>noagent</th>\n",
       "      <th>find</th>\n",
       "      <th>crawler</th>\n",
       "      <th>browser</th>\n",
       "      <th>clock</th>\n",
       "      <th>Hour</th>\n",
       "      <th>Minute</th>\n",
       "      <th>Second</th>\n",
       "    </tr>\n",
       "  </thead>\n",
       "  <tbody>\n",
       "    <tr>\n",
       "      <td>0</td>\n",
       "      <td>12.130.117.jbf</td>\n",
       "      <td>2017-03-01</td>\n",
       "      <td>00:00:00</td>\n",
       "      <td>0.0</td>\n",
       "      <td>1361983.0</td>\n",
       "      <td>0000000000-16-091979</td>\n",
       "      <td>filename1.pdf</td>\n",
       "      <td>200.0</td>\n",
       "      <td>96148.0</td>\n",
       "      <td>0.0</td>\n",
       "      <td>0.0</td>\n",
       "      <td>0.0</td>\n",
       "      <td>9.0</td>\n",
       "      <td>0.0</td>\n",
       "      <td>NaN</td>\n",
       "      <td>1900-01-01 00:00:00</td>\n",
       "      <td>0</td>\n",
       "      <td>0</td>\n",
       "      <td>0</td>\n",
       "    </tr>\n",
       "    <tr>\n",
       "      <td>1</td>\n",
       "      <td>12.130.117.jbf</td>\n",
       "      <td>2017-03-01</td>\n",
       "      <td>00:00:01</td>\n",
       "      <td>0.0</td>\n",
       "      <td>1361983.0</td>\n",
       "      <td>0000000000-16-091979</td>\n",
       "      <td>filename1.pdf</td>\n",
       "      <td>206.0</td>\n",
       "      <td>78518.0</td>\n",
       "      <td>0.0</td>\n",
       "      <td>0.0</td>\n",
       "      <td>0.0</td>\n",
       "      <td>7.0</td>\n",
       "      <td>0.0</td>\n",
       "      <td>NaN</td>\n",
       "      <td>1900-01-01 00:00:01</td>\n",
       "      <td>0</td>\n",
       "      <td>0</td>\n",
       "      <td>1</td>\n",
       "    </tr>\n",
       "    <tr>\n",
       "      <td>2</td>\n",
       "      <td>12.130.117.jbf</td>\n",
       "      <td>2017-03-01</td>\n",
       "      <td>00:00:01</td>\n",
       "      <td>0.0</td>\n",
       "      <td>1361983.0</td>\n",
       "      <td>0000000000-16-091979</td>\n",
       "      <td>filename1.pdf</td>\n",
       "      <td>206.0</td>\n",
       "      <td>63433.0</td>\n",
       "      <td>0.0</td>\n",
       "      <td>0.0</td>\n",
       "      <td>0.0</td>\n",
       "      <td>7.0</td>\n",
       "      <td>0.0</td>\n",
       "      <td>NaN</td>\n",
       "      <td>1900-01-01 00:00:01</td>\n",
       "      <td>0</td>\n",
       "      <td>0</td>\n",
       "      <td>1</td>\n",
       "    </tr>\n",
       "    <tr>\n",
       "      <td>3</td>\n",
       "      <td>12.130.117.jbf</td>\n",
       "      <td>2017-03-01</td>\n",
       "      <td>00:00:03</td>\n",
       "      <td>0.0</td>\n",
       "      <td>1361983.0</td>\n",
       "      <td>0000000000-16-091979</td>\n",
       "      <td>filename1.pdf</td>\n",
       "      <td>206.0</td>\n",
       "      <td>17182.0</td>\n",
       "      <td>0.0</td>\n",
       "      <td>0.0</td>\n",
       "      <td>0.0</td>\n",
       "      <td>7.0</td>\n",
       "      <td>0.0</td>\n",
       "      <td>NaN</td>\n",
       "      <td>1900-01-01 00:00:03</td>\n",
       "      <td>0</td>\n",
       "      <td>0</td>\n",
       "      <td>3</td>\n",
       "    </tr>\n",
       "    <tr>\n",
       "      <td>4</td>\n",
       "      <td>12.130.117.jbf</td>\n",
       "      <td>2017-03-01</td>\n",
       "      <td>00:00:04</td>\n",
       "      <td>0.0</td>\n",
       "      <td>1361983.0</td>\n",
       "      <td>0000000000-16-091979</td>\n",
       "      <td>filename1.pdf</td>\n",
       "      <td>206.0</td>\n",
       "      <td>78518.0</td>\n",
       "      <td>0.0</td>\n",
       "      <td>0.0</td>\n",
       "      <td>0.0</td>\n",
       "      <td>7.0</td>\n",
       "      <td>0.0</td>\n",
       "      <td>NaN</td>\n",
       "      <td>1900-01-01 00:00:04</td>\n",
       "      <td>0</td>\n",
       "      <td>0</td>\n",
       "      <td>4</td>\n",
       "    </tr>\n",
       "  </tbody>\n",
       "</table>\n",
       "</div>"
      ],
      "text/plain": [
       "               ip        date      time  zone        cik  \\\n",
       "0  12.130.117.jbf  2017-03-01  00:00:00   0.0  1361983.0   \n",
       "1  12.130.117.jbf  2017-03-01  00:00:01   0.0  1361983.0   \n",
       "2  12.130.117.jbf  2017-03-01  00:00:01   0.0  1361983.0   \n",
       "3  12.130.117.jbf  2017-03-01  00:00:03   0.0  1361983.0   \n",
       "4  12.130.117.jbf  2017-03-01  00:00:04   0.0  1361983.0   \n",
       "\n",
       "              accession      extention   code     size  idx  norefer  noagent  \\\n",
       "0  0000000000-16-091979  filename1.pdf  200.0  96148.0  0.0      0.0      0.0   \n",
       "1  0000000000-16-091979  filename1.pdf  206.0  78518.0  0.0      0.0      0.0   \n",
       "2  0000000000-16-091979  filename1.pdf  206.0  63433.0  0.0      0.0      0.0   \n",
       "3  0000000000-16-091979  filename1.pdf  206.0  17182.0  0.0      0.0      0.0   \n",
       "4  0000000000-16-091979  filename1.pdf  206.0  78518.0  0.0      0.0      0.0   \n",
       "\n",
       "   find  crawler browser               clock  Hour  Minute  Second  \n",
       "0   9.0      0.0     NaN 1900-01-01 00:00:00     0       0       0  \n",
       "1   7.0      0.0     NaN 1900-01-01 00:00:01     0       0       1  \n",
       "2   7.0      0.0     NaN 1900-01-01 00:00:01     0       0       1  \n",
       "3   7.0      0.0     NaN 1900-01-01 00:00:03     0       0       3  \n",
       "4   7.0      0.0     NaN 1900-01-01 00:00:04     0       0       4  "
      ]
     },
     "execution_count": 39,
     "metadata": {},
     "output_type": "execute_result"
    }
   ],
   "source": [
    "search.head()"
   ]
  },
  {
   "cell_type": "code",
   "execution_count": 40,
   "metadata": {},
   "outputs": [
    {
     "data": {
      "text/html": [
       "<div>\n",
       "<style scoped>\n",
       "    .dataframe tbody tr th:only-of-type {\n",
       "        vertical-align: middle;\n",
       "    }\n",
       "\n",
       "    .dataframe tbody tr th {\n",
       "        vertical-align: top;\n",
       "    }\n",
       "\n",
       "    .dataframe thead th {\n",
       "        text-align: right;\n",
       "    }\n",
       "</style>\n",
       "<table border=\"1\" class=\"dataframe\">\n",
       "  <thead>\n",
       "    <tr style=\"text-align: right;\">\n",
       "      <th></th>\n",
       "      <th>zone</th>\n",
       "      <th>cik</th>\n",
       "      <th>code</th>\n",
       "      <th>size</th>\n",
       "      <th>idx</th>\n",
       "      <th>norefer</th>\n",
       "      <th>noagent</th>\n",
       "      <th>find</th>\n",
       "      <th>crawler</th>\n",
       "      <th>Hour</th>\n",
       "      <th>Minute</th>\n",
       "      <th>Second</th>\n",
       "    </tr>\n",
       "  </thead>\n",
       "  <tbody>\n",
       "    <tr>\n",
       "      <td>count</td>\n",
       "      <td>221711.0</td>\n",
       "      <td>2.217110e+05</td>\n",
       "      <td>221711.000000</td>\n",
       "      <td>2.217110e+05</td>\n",
       "      <td>221711.000000</td>\n",
       "      <td>221711.0</td>\n",
       "      <td>221711.000000</td>\n",
       "      <td>221711.000000</td>\n",
       "      <td>221711.0</td>\n",
       "      <td>221711.000000</td>\n",
       "      <td>221711.000000</td>\n",
       "      <td>221711.000000</td>\n",
       "    </tr>\n",
       "    <tr>\n",
       "      <td>mean</td>\n",
       "      <td>0.0</td>\n",
       "      <td>1.508725e+20</td>\n",
       "      <td>213.236497</td>\n",
       "      <td>1.204541e+05</td>\n",
       "      <td>0.391613</td>\n",
       "      <td>0.0</td>\n",
       "      <td>0.002111</td>\n",
       "      <td>7.147079</td>\n",
       "      <td>0.0</td>\n",
       "      <td>14.010022</td>\n",
       "      <td>28.892419</td>\n",
       "      <td>29.458417</td>\n",
       "    </tr>\n",
       "    <tr>\n",
       "      <td>std</td>\n",
       "      <td>0.0</td>\n",
       "      <td>1.492340e+22</td>\n",
       "      <td>45.121564</td>\n",
       "      <td>8.061378e+05</td>\n",
       "      <td>0.488112</td>\n",
       "      <td>0.0</td>\n",
       "      <td>0.045896</td>\n",
       "      <td>3.784726</td>\n",
       "      <td>0.0</td>\n",
       "      <td>6.813796</td>\n",
       "      <td>17.604123</td>\n",
       "      <td>17.259566</td>\n",
       "    </tr>\n",
       "    <tr>\n",
       "      <td>min</td>\n",
       "      <td>0.0</td>\n",
       "      <td>0.000000e+00</td>\n",
       "      <td>0.000000</td>\n",
       "      <td>0.000000e+00</td>\n",
       "      <td>0.000000</td>\n",
       "      <td>0.0</td>\n",
       "      <td>0.000000</td>\n",
       "      <td>1.000000</td>\n",
       "      <td>0.0</td>\n",
       "      <td>0.000000</td>\n",
       "      <td>0.000000</td>\n",
       "      <td>0.000000</td>\n",
       "    </tr>\n",
       "    <tr>\n",
       "      <td>25%</td>\n",
       "      <td>0.0</td>\n",
       "      <td>8.310010e+05</td>\n",
       "      <td>200.000000</td>\n",
       "      <td>2.753000e+03</td>\n",
       "      <td>0.000000</td>\n",
       "      <td>0.0</td>\n",
       "      <td>0.000000</td>\n",
       "      <td>1.000000</td>\n",
       "      <td>0.0</td>\n",
       "      <td>10.000000</td>\n",
       "      <td>13.000000</td>\n",
       "      <td>15.000000</td>\n",
       "    </tr>\n",
       "    <tr>\n",
       "      <td>50%</td>\n",
       "      <td>0.0</td>\n",
       "      <td>1.129155e+06</td>\n",
       "      <td>200.000000</td>\n",
       "      <td>3.565000e+03</td>\n",
       "      <td>0.000000</td>\n",
       "      <td>0.0</td>\n",
       "      <td>0.000000</td>\n",
       "      <td>9.000000</td>\n",
       "      <td>0.0</td>\n",
       "      <td>16.000000</td>\n",
       "      <td>29.000000</td>\n",
       "      <td>29.000000</td>\n",
       "    </tr>\n",
       "    <tr>\n",
       "      <td>75%</td>\n",
       "      <td>0.0</td>\n",
       "      <td>1.458962e+06</td>\n",
       "      <td>200.000000</td>\n",
       "      <td>2.350950e+04</td>\n",
       "      <td>1.000000</td>\n",
       "      <td>0.0</td>\n",
       "      <td>0.000000</td>\n",
       "      <td>10.000000</td>\n",
       "      <td>0.0</td>\n",
       "      <td>20.000000</td>\n",
       "      <td>44.000000</td>\n",
       "      <td>44.000000</td>\n",
       "    </tr>\n",
       "    <tr>\n",
       "      <td>max</td>\n",
       "      <td>0.0</td>\n",
       "      <td>1.615258e+24</td>\n",
       "      <td>504.000000</td>\n",
       "      <td>6.986326e+07</td>\n",
       "      <td>1.000000</td>\n",
       "      <td>0.0</td>\n",
       "      <td>1.000000</td>\n",
       "      <td>10.000000</td>\n",
       "      <td>0.0</td>\n",
       "      <td>23.000000</td>\n",
       "      <td>59.000000</td>\n",
       "      <td>59.000000</td>\n",
       "    </tr>\n",
       "  </tbody>\n",
       "</table>\n",
       "</div>"
      ],
      "text/plain": [
       "           zone           cik           code          size            idx  \\\n",
       "count  221711.0  2.217110e+05  221711.000000  2.217110e+05  221711.000000   \n",
       "mean        0.0  1.508725e+20     213.236497  1.204541e+05       0.391613   \n",
       "std         0.0  1.492340e+22      45.121564  8.061378e+05       0.488112   \n",
       "min         0.0  0.000000e+00       0.000000  0.000000e+00       0.000000   \n",
       "25%         0.0  8.310010e+05     200.000000  2.753000e+03       0.000000   \n",
       "50%         0.0  1.129155e+06     200.000000  3.565000e+03       0.000000   \n",
       "75%         0.0  1.458962e+06     200.000000  2.350950e+04       1.000000   \n",
       "max         0.0  1.615258e+24     504.000000  6.986326e+07       1.000000   \n",
       "\n",
       "        norefer        noagent           find   crawler           Hour  \\\n",
       "count  221711.0  221711.000000  221711.000000  221711.0  221711.000000   \n",
       "mean        0.0       0.002111       7.147079       0.0      14.010022   \n",
       "std         0.0       0.045896       3.784726       0.0       6.813796   \n",
       "min         0.0       0.000000       1.000000       0.0       0.000000   \n",
       "25%         0.0       0.000000       1.000000       0.0      10.000000   \n",
       "50%         0.0       0.000000       9.000000       0.0      16.000000   \n",
       "75%         0.0       0.000000      10.000000       0.0      20.000000   \n",
       "max         0.0       1.000000      10.000000       0.0      23.000000   \n",
       "\n",
       "              Minute         Second  \n",
       "count  221711.000000  221711.000000  \n",
       "mean       28.892419      29.458417  \n",
       "std        17.604123      17.259566  \n",
       "min         0.000000       0.000000  \n",
       "25%        13.000000      15.000000  \n",
       "50%        29.000000      29.000000  \n",
       "75%        44.000000      44.000000  \n",
       "max        59.000000      59.000000  "
      ]
     },
     "execution_count": 40,
     "metadata": {},
     "output_type": "execute_result"
    }
   ],
   "source": [
    "search.describe()"
   ]
  },
  {
   "cell_type": "code",
   "execution_count": 41,
   "metadata": {},
   "outputs": [
    {
     "data": {
      "text/plain": [
       "array([[<matplotlib.axes._subplots.AxesSubplot object at 0x1a2cb1c190>,\n",
       "        <matplotlib.axes._subplots.AxesSubplot object at 0x1a2cb58850>,\n",
       "        <matplotlib.axes._subplots.AxesSubplot object at 0x1a34cbef90>],\n",
       "       [<matplotlib.axes._subplots.AxesSubplot object at 0x1a2c22b650>,\n",
       "        <matplotlib.axes._subplots.AxesSubplot object at 0x1a31b1db90>,\n",
       "        <matplotlib.axes._subplots.AxesSubplot object at 0x1a2f3cc2d0>],\n",
       "       [<matplotlib.axes._subplots.AxesSubplot object at 0x1ac5977310>,\n",
       "        <matplotlib.axes._subplots.AxesSubplot object at 0x1ac08ca690>,\n",
       "        <matplotlib.axes._subplots.AxesSubplot object at 0x1ac0d921d0>],\n",
       "       [<matplotlib.axes._subplots.AxesSubplot object at 0x1acc84eb50>,\n",
       "        <matplotlib.axes._subplots.AxesSubplot object at 0x1aca33ded0>,\n",
       "        <matplotlib.axes._subplots.AxesSubplot object at 0x1abd9b4710>]],\n",
       "      dtype=object)"
      ]
     },
     "execution_count": 41,
     "metadata": {},
     "output_type": "execute_result"
    },
    {
     "data": {
      "image/png": "[encoded data removed]",
      "text/plain": [
       "<Figure size 1080x1080 with 12 Axes>"
      ]
     },
     "metadata": {
      "needs_background": "light"
     },
     "output_type": "display_data"
    }
   ],
   "source": [
    "search.hist(bins=50, figsize=(15,15))"
   ]
  },
  {
   "cell_type": "markdown",
   "metadata": {},
   "source": [
    "Problem 1: Some IP searches for the same company (cik-based)."
   ]
  },
  {
   "cell_type": "code",
   "execution_count": 42,
   "metadata": {},
   "outputs": [],
   "source": [
    "p1 = []\n",
    "for i in range(len(d)):\n",
    "    if len(gk.get_group(d.iloc[i,0]).cik.unique())>=2:\n",
    "        p1.append(d.iloc[i,0])"
   ]
  },
  {
   "cell_type": "code",
   "execution_count": 43,
   "metadata": {},
   "outputs": [],
   "source": [
    "df_p1 = pd.DataFrame(p1)\n",
    "df_p1.columns = [\"ip\"]"
   ]
  },
  {
   "cell_type": "code",
   "execution_count": 44,
   "metadata": {},
   "outputs": [
    {
     "data": {
      "text/html": [
       "<div>\n",
       "<style scoped>\n",
       "    .dataframe tbody tr th:only-of-type {\n",
       "        vertical-align: middle;\n",
       "    }\n",
       "\n",
       "    .dataframe tbody tr th {\n",
       "        vertical-align: top;\n",
       "    }\n",
       "\n",
       "    .dataframe thead th {\n",
       "        text-align: right;\n",
       "    }\n",
       "</style>\n",
       "<table border=\"1\" class=\"dataframe\">\n",
       "  <thead>\n",
       "    <tr style=\"text-align: right;\">\n",
       "      <th></th>\n",
       "      <th>ip</th>\n",
       "    </tr>\n",
       "  </thead>\n",
       "  <tbody>\n",
       "    <tr>\n",
       "      <td>0</td>\n",
       "      <td>168.244.4.acc</td>\n",
       "    </tr>\n",
       "    <tr>\n",
       "      <td>1</td>\n",
       "      <td>4.16.47.edd</td>\n",
       "    </tr>\n",
       "    <tr>\n",
       "      <td>2</td>\n",
       "      <td>63.198.24.cjj</td>\n",
       "    </tr>\n",
       "    <tr>\n",
       "      <td>3</td>\n",
       "      <td>139.182.204.jga</td>\n",
       "    </tr>\n",
       "    <tr>\n",
       "      <td>4</td>\n",
       "      <td>76.90.49.hbf</td>\n",
       "    </tr>\n",
       "  </tbody>\n",
       "</table>\n",
       "</div>"
      ],
      "text/plain": [
       "                ip\n",
       "0    168.244.4.acc\n",
       "1      4.16.47.edd\n",
       "2    63.198.24.cjj\n",
       "3  139.182.204.jga\n",
       "4     76.90.49.hbf"
      ]
     },
     "execution_count": 44,
     "metadata": {},
     "output_type": "execute_result"
    }
   ],
   "source": [
    "df_p1.head()"
   ]
  },
  {
   "cell_type": "markdown",
   "metadata": {},
   "source": [
    "p1 corresponds to the company who not only satisfies the previous condition but also searches for at least 2 unique firms in this day."
   ]
  },
  {
   "cell_type": "code",
   "execution_count": 45,
   "metadata": {},
   "outputs": [],
   "source": [
    "search_p1 = pd.merge(df_p1[\"ip\"],df_norobot,left_on=\"ip\",right_on=\"ip\",how=\"inner\")"
   ]
  },
  {
   "cell_type": "code",
   "execution_count": 46,
   "metadata": {},
   "outputs": [
    {
     "data": {
      "text/html": [
       "<div>\n",
       "<style scoped>\n",
       "    .dataframe tbody tr th:only-of-type {\n",
       "        vertical-align: middle;\n",
       "    }\n",
       "\n",
       "    .dataframe tbody tr th {\n",
       "        vertical-align: top;\n",
       "    }\n",
       "\n",
       "    .dataframe thead th {\n",
       "        text-align: right;\n",
       "    }\n",
       "</style>\n",
       "<table border=\"1\" class=\"dataframe\">\n",
       "  <thead>\n",
       "    <tr style=\"text-align: right;\">\n",
       "      <th></th>\n",
       "      <th>ip</th>\n",
       "      <th>date</th>\n",
       "      <th>time</th>\n",
       "      <th>zone</th>\n",
       "      <th>cik</th>\n",
       "      <th>accession</th>\n",
       "      <th>extention</th>\n",
       "      <th>code</th>\n",
       "      <th>size</th>\n",
       "      <th>idx</th>\n",
       "      <th>norefer</th>\n",
       "      <th>noagent</th>\n",
       "      <th>find</th>\n",
       "      <th>crawler</th>\n",
       "      <th>browser</th>\n",
       "      <th>clock</th>\n",
       "      <th>Hour</th>\n",
       "      <th>Minute</th>\n",
       "      <th>Second</th>\n",
       "    </tr>\n",
       "  </thead>\n",
       "  <tbody>\n",
       "    <tr>\n",
       "      <td>0</td>\n",
       "      <td>168.244.4.acc</td>\n",
       "      <td>2017-03-01</td>\n",
       "      <td>00:00:00</td>\n",
       "      <td>0.0</td>\n",
       "      <td>104169.0</td>\n",
       "      <td>0000104169-16-000140</td>\n",
       "      <td>R8.htm</td>\n",
       "      <td>200.0</td>\n",
       "      <td>5442.0</td>\n",
       "      <td>0.0</td>\n",
       "      <td>0.0</td>\n",
       "      <td>0.0</td>\n",
       "      <td>8.0</td>\n",
       "      <td>0.0</td>\n",
       "      <td>NaN</td>\n",
       "      <td>1900-01-01 00:00:00</td>\n",
       "      <td>0</td>\n",
       "      <td>0</td>\n",
       "      <td>0</td>\n",
       "    </tr>\n",
       "    <tr>\n",
       "      <td>1</td>\n",
       "      <td>168.244.4.acc</td>\n",
       "      <td>2017-03-01</td>\n",
       "      <td>00:00:02</td>\n",
       "      <td>0.0</td>\n",
       "      <td>104169.0</td>\n",
       "      <td>0000104169-16-000140</td>\n",
       "      <td>R9.htm</td>\n",
       "      <td>200.0</td>\n",
       "      <td>4051.0</td>\n",
       "      <td>0.0</td>\n",
       "      <td>0.0</td>\n",
       "      <td>0.0</td>\n",
       "      <td>8.0</td>\n",
       "      <td>0.0</td>\n",
       "      <td>NaN</td>\n",
       "      <td>1900-01-01 00:00:02</td>\n",
       "      <td>0</td>\n",
       "      <td>0</td>\n",
       "      <td>2</td>\n",
       "    </tr>\n",
       "    <tr>\n",
       "      <td>2</td>\n",
       "      <td>168.244.4.acc</td>\n",
       "      <td>2017-03-01</td>\n",
       "      <td>00:00:22</td>\n",
       "      <td>0.0</td>\n",
       "      <td>1618921.0</td>\n",
       "      <td>0001140361-16-083198</td>\n",
       "      <td>R1.htm</td>\n",
       "      <td>200.0</td>\n",
       "      <td>4287.0</td>\n",
       "      <td>0.0</td>\n",
       "      <td>0.0</td>\n",
       "      <td>0.0</td>\n",
       "      <td>8.0</td>\n",
       "      <td>0.0</td>\n",
       "      <td>NaN</td>\n",
       "      <td>1900-01-01 00:00:22</td>\n",
       "      <td>0</td>\n",
       "      <td>0</td>\n",
       "      <td>22</td>\n",
       "    </tr>\n",
       "    <tr>\n",
       "      <td>3</td>\n",
       "      <td>168.244.4.acc</td>\n",
       "      <td>2017-03-01</td>\n",
       "      <td>00:00:37</td>\n",
       "      <td>0.0</td>\n",
       "      <td>1618921.0</td>\n",
       "      <td>0001140361-16-083198</td>\n",
       "      <td>R10.htm</td>\n",
       "      <td>200.0</td>\n",
       "      <td>15597.0</td>\n",
       "      <td>0.0</td>\n",
       "      <td>0.0</td>\n",
       "      <td>0.0</td>\n",
       "      <td>8.0</td>\n",
       "      <td>0.0</td>\n",
       "      <td>NaN</td>\n",
       "      <td>1900-01-01 00:00:37</td>\n",
       "      <td>0</td>\n",
       "      <td>0</td>\n",
       "      <td>37</td>\n",
       "    </tr>\n",
       "    <tr>\n",
       "      <td>4</td>\n",
       "      <td>168.244.4.acc</td>\n",
       "      <td>2017-03-01</td>\n",
       "      <td>00:00:48</td>\n",
       "      <td>0.0</td>\n",
       "      <td>1618921.0</td>\n",
       "      <td>0001140361-16-083198</td>\n",
       "      <td>R6.htm</td>\n",
       "      <td>200.0</td>\n",
       "      <td>6483.0</td>\n",
       "      <td>0.0</td>\n",
       "      <td>0.0</td>\n",
       "      <td>0.0</td>\n",
       "      <td>8.0</td>\n",
       "      <td>0.0</td>\n",
       "      <td>NaN</td>\n",
       "      <td>1900-01-01 00:00:48</td>\n",
       "      <td>0</td>\n",
       "      <td>0</td>\n",
       "      <td>48</td>\n",
       "    </tr>\n",
       "  </tbody>\n",
       "</table>\n",
       "</div>"
      ],
      "text/plain": [
       "              ip        date      time  zone        cik             accession  \\\n",
       "0  168.244.4.acc  2017-03-01  00:00:00   0.0   104169.0  0000104169-16-000140   \n",
       "1  168.244.4.acc  2017-03-01  00:00:02   0.0   104169.0  0000104169-16-000140   \n",
       "2  168.244.4.acc  2017-03-01  00:00:22   0.0  1618921.0  0001140361-16-083198   \n",
       "3  168.244.4.acc  2017-03-01  00:00:37   0.0  1618921.0  0001140361-16-083198   \n",
       "4  168.244.4.acc  2017-03-01  00:00:48   0.0  1618921.0  0001140361-16-083198   \n",
       "\n",
       "  extention   code     size  idx  norefer  noagent  find  crawler browser  \\\n",
       "0    R8.htm  200.0   5442.0  0.0      0.0      0.0   8.0      0.0     NaN   \n",
       "1    R9.htm  200.0   4051.0  0.0      0.0      0.0   8.0      0.0     NaN   \n",
       "2    R1.htm  200.0   4287.0  0.0      0.0      0.0   8.0      0.0     NaN   \n",
       "3   R10.htm  200.0  15597.0  0.0      0.0      0.0   8.0      0.0     NaN   \n",
       "4    R6.htm  200.0   6483.0  0.0      0.0      0.0   8.0      0.0     NaN   \n",
       "\n",
       "                clock  Hour  Minute  Second  \n",
       "0 1900-01-01 00:00:00     0       0       0  \n",
       "1 1900-01-01 00:00:02     0       0       2  \n",
       "2 1900-01-01 00:00:22     0       0      22  \n",
       "3 1900-01-01 00:00:37     0       0      37  \n",
       "4 1900-01-01 00:00:48     0       0      48  "
      ]
     },
     "execution_count": 46,
     "metadata": {},
     "output_type": "execute_result"
    }
   ],
   "source": [
    "search_p1.head()"
   ]
  },
  {
   "cell_type": "code",
   "execution_count": 47,
   "metadata": {},
   "outputs": [
    {
     "data": {
      "text/html": [
       "<div>\n",
       "<style scoped>\n",
       "    .dataframe tbody tr th:only-of-type {\n",
       "        vertical-align: middle;\n",
       "    }\n",
       "\n",
       "    .dataframe tbody tr th {\n",
       "        vertical-align: top;\n",
       "    }\n",
       "\n",
       "    .dataframe thead th {\n",
       "        text-align: right;\n",
       "    }\n",
       "</style>\n",
       "<table border=\"1\" class=\"dataframe\">\n",
       "  <thead>\n",
       "    <tr style=\"text-align: right;\">\n",
       "      <th></th>\n",
       "      <th>zone</th>\n",
       "      <th>cik</th>\n",
       "      <th>code</th>\n",
       "      <th>size</th>\n",
       "      <th>idx</th>\n",
       "      <th>norefer</th>\n",
       "      <th>noagent</th>\n",
       "      <th>find</th>\n",
       "      <th>crawler</th>\n",
       "      <th>Hour</th>\n",
       "      <th>Minute</th>\n",
       "      <th>Second</th>\n",
       "    </tr>\n",
       "  </thead>\n",
       "  <tbody>\n",
       "    <tr>\n",
       "      <td>count</td>\n",
       "      <td>161094.0</td>\n",
       "      <td>1.610940e+05</td>\n",
       "      <td>161094.000000</td>\n",
       "      <td>1.610940e+05</td>\n",
       "      <td>161094.000000</td>\n",
       "      <td>161094.0</td>\n",
       "      <td>161094.000000</td>\n",
       "      <td>161094.000000</td>\n",
       "      <td>161094.0</td>\n",
       "      <td>161094.000000</td>\n",
       "      <td>161094.000000</td>\n",
       "      <td>161094.000000</td>\n",
       "    </tr>\n",
       "    <tr>\n",
       "      <td>mean</td>\n",
       "      <td>0.0</td>\n",
       "      <td>2.076433e+20</td>\n",
       "      <td>215.751077</td>\n",
       "      <td>1.314466e+05</td>\n",
       "      <td>0.386327</td>\n",
       "      <td>0.0</td>\n",
       "      <td>0.002471</td>\n",
       "      <td>7.326859</td>\n",
       "      <td>0.0</td>\n",
       "      <td>14.169137</td>\n",
       "      <td>29.076378</td>\n",
       "      <td>29.379909</td>\n",
       "    </tr>\n",
       "    <tr>\n",
       "      <td>std</td>\n",
       "      <td>0.0</td>\n",
       "      <td>1.750708e+22</td>\n",
       "      <td>47.069270</td>\n",
       "      <td>8.433774e+05</td>\n",
       "      <td>0.486909</td>\n",
       "      <td>0.0</td>\n",
       "      <td>0.049644</td>\n",
       "      <td>3.753308</td>\n",
       "      <td>0.0</td>\n",
       "      <td>6.705150</td>\n",
       "      <td>17.628302</td>\n",
       "      <td>17.234956</td>\n",
       "    </tr>\n",
       "    <tr>\n",
       "      <td>min</td>\n",
       "      <td>0.0</td>\n",
       "      <td>0.000000e+00</td>\n",
       "      <td>0.000000</td>\n",
       "      <td>0.000000e+00</td>\n",
       "      <td>0.000000</td>\n",
       "      <td>0.0</td>\n",
       "      <td>0.000000</td>\n",
       "      <td>1.000000</td>\n",
       "      <td>0.0</td>\n",
       "      <td>0.000000</td>\n",
       "      <td>0.000000</td>\n",
       "      <td>0.000000</td>\n",
       "    </tr>\n",
       "    <tr>\n",
       "      <td>25%</td>\n",
       "      <td>0.0</td>\n",
       "      <td>8.506930e+05</td>\n",
       "      <td>200.000000</td>\n",
       "      <td>2.719000e+03</td>\n",
       "      <td>0.000000</td>\n",
       "      <td>0.0</td>\n",
       "      <td>0.000000</td>\n",
       "      <td>3.000000</td>\n",
       "      <td>0.0</td>\n",
       "      <td>10.000000</td>\n",
       "      <td>14.000000</td>\n",
       "      <td>15.000000</td>\n",
       "    </tr>\n",
       "    <tr>\n",
       "      <td>50%</td>\n",
       "      <td>0.0</td>\n",
       "      <td>1.135202e+06</td>\n",
       "      <td>200.000000</td>\n",
       "      <td>3.570000e+03</td>\n",
       "      <td>0.000000</td>\n",
       "      <td>0.0</td>\n",
       "      <td>0.000000</td>\n",
       "      <td>9.000000</td>\n",
       "      <td>0.0</td>\n",
       "      <td>16.000000</td>\n",
       "      <td>29.000000</td>\n",
       "      <td>29.000000</td>\n",
       "    </tr>\n",
       "    <tr>\n",
       "      <td>75%</td>\n",
       "      <td>0.0</td>\n",
       "      <td>1.464423e+06</td>\n",
       "      <td>200.000000</td>\n",
       "      <td>2.510600e+04</td>\n",
       "      <td>1.000000</td>\n",
       "      <td>0.0</td>\n",
       "      <td>0.000000</td>\n",
       "      <td>10.000000</td>\n",
       "      <td>0.0</td>\n",
       "      <td>20.000000</td>\n",
       "      <td>44.000000</td>\n",
       "      <td>44.000000</td>\n",
       "    </tr>\n",
       "    <tr>\n",
       "      <td>max</td>\n",
       "      <td>0.0</td>\n",
       "      <td>1.615258e+24</td>\n",
       "      <td>504.000000</td>\n",
       "      <td>6.986326e+07</td>\n",
       "      <td>1.000000</td>\n",
       "      <td>0.0</td>\n",
       "      <td>1.000000</td>\n",
       "      <td>10.000000</td>\n",
       "      <td>0.0</td>\n",
       "      <td>23.000000</td>\n",
       "      <td>59.000000</td>\n",
       "      <td>59.000000</td>\n",
       "    </tr>\n",
       "  </tbody>\n",
       "</table>\n",
       "</div>"
      ],
      "text/plain": [
       "           zone           cik           code          size            idx  \\\n",
       "count  161094.0  1.610940e+05  161094.000000  1.610940e+05  161094.000000   \n",
       "mean        0.0  2.076433e+20     215.751077  1.314466e+05       0.386327   \n",
       "std         0.0  1.750708e+22      47.069270  8.433774e+05       0.486909   \n",
       "min         0.0  0.000000e+00       0.000000  0.000000e+00       0.000000   \n",
       "25%         0.0  8.506930e+05     200.000000  2.719000e+03       0.000000   \n",
       "50%         0.0  1.135202e+06     200.000000  3.570000e+03       0.000000   \n",
       "75%         0.0  1.464423e+06     200.000000  2.510600e+04       1.000000   \n",
       "max         0.0  1.615258e+24     504.000000  6.986326e+07       1.000000   \n",
       "\n",
       "        norefer        noagent           find   crawler           Hour  \\\n",
       "count  161094.0  161094.000000  161094.000000  161094.0  161094.000000   \n",
       "mean        0.0       0.002471       7.326859       0.0      14.169137   \n",
       "std         0.0       0.049644       3.753308       0.0       6.705150   \n",
       "min         0.0       0.000000       1.000000       0.0       0.000000   \n",
       "25%         0.0       0.000000       3.000000       0.0      10.000000   \n",
       "50%         0.0       0.000000       9.000000       0.0      16.000000   \n",
       "75%         0.0       0.000000      10.000000       0.0      20.000000   \n",
       "max         0.0       1.000000      10.000000       0.0      23.000000   \n",
       "\n",
       "              Minute         Second  \n",
       "count  161094.000000  161094.000000  \n",
       "mean       29.076378      29.379909  \n",
       "std        17.628302      17.234956  \n",
       "min         0.000000       0.000000  \n",
       "25%        14.000000      15.000000  \n",
       "50%        29.000000      29.000000  \n",
       "75%        44.000000      44.000000  \n",
       "max        59.000000      59.000000  "
      ]
     },
     "execution_count": 47,
     "metadata": {},
     "output_type": "execute_result"
    }
   ],
   "source": [
    "search_p1.describe()"
   ]
  },
  {
   "cell_type": "code",
   "execution_count": 48,
   "metadata": {},
   "outputs": [
    {
     "data": {
      "text/plain": [
       "array([[<matplotlib.axes._subplots.AxesSubplot object at 0x1aa6bfc710>,\n",
       "        <matplotlib.axes._subplots.AxesSubplot object at 0x1aa9fdf790>,\n",
       "        <matplotlib.axes._subplots.AxesSubplot object at 0x1aaba5fd10>],\n",
       "       [<matplotlib.axes._subplots.AxesSubplot object at 0x1ac142d550>,\n",
       "        <matplotlib.axes._subplots.AxesSubplot object at 0x1ac777bd50>,\n",
       "        <matplotlib.axes._subplots.AxesSubplot object at 0x1aa4da7d10>],\n",
       "       [<matplotlib.axes._subplots.AxesSubplot object at 0x1ac5776a10>,\n",
       "        <matplotlib.axes._subplots.AxesSubplot object at 0x1aa3860250>,\n",
       "        <matplotlib.axes._subplots.AxesSubplot object at 0x1aa3860d50>],\n",
       "       [<matplotlib.axes._subplots.AxesSubplot object at 0x1aa7d8f710>,\n",
       "        <matplotlib.axes._subplots.AxesSubplot object at 0x1aba51ca90>,\n",
       "        <matplotlib.axes._subplots.AxesSubplot object at 0x1aca050dd0>]],\n",
       "      dtype=object)"
      ]
     },
     "execution_count": 48,
     "metadata": {},
     "output_type": "execute_result"
    },
    {
     "data": {
      "image/png": "[encoded data removed]",
      "text/plain": [
       "<Figure size 720x720 with 12 Axes>"
      ]
     },
     "metadata": {
      "needs_background": "light"
     },
     "output_type": "display_data"
    }
   ],
   "source": [
    "search_p1.hist(figsize=(10,10))"
   ]
  },
  {
   "cell_type": "code",
   "execution_count": 49,
   "metadata": {},
   "outputs": [
    {
     "name": "stdout",
     "output_type": "stream",
     "text": [
      "<class 'pandas.core.frame.DataFrame'>\n",
      "Int64Index: 161094 entries, 0 to 161093\n",
      "Data columns (total 19 columns):\n",
      "ip           161094 non-null object\n",
      "date         161094 non-null object\n",
      "time         161094 non-null object\n",
      "zone         161094 non-null float64\n",
      "cik          161094 non-null float64\n",
      "accession    161094 non-null object\n",
      "extention    161094 non-null object\n",
      "code         161094 non-null float64\n",
      "size         161094 non-null float64\n",
      "idx          161094 non-null float64\n",
      "norefer      161094 non-null float64\n",
      "noagent      161094 non-null float64\n",
      "find         161094 non-null float64\n",
      "crawler      161094 non-null float64\n",
      "browser      0 non-null object\n",
      "clock        161094 non-null datetime64[ns]\n",
      "Hour         161094 non-null int64\n",
      "Minute       161094 non-null int64\n",
      "Second       161094 non-null int64\n",
      "dtypes: datetime64[ns](1), float64(9), int64(3), object(6)\n",
      "memory usage: 24.6+ MB\n"
     ]
    }
   ],
   "source": [
    "search_p1.info()"
   ]
  },
  {
   "cell_type": "markdown",
   "metadata": {},
   "source": [
    "For \"search_p1\" dataset,  totally we have 161094 observations. It is from 20762 unique ips and searches for 22882 unique firms."
   ]
  },
  {
   "cell_type": "code",
   "execution_count": 50,
   "metadata": {},
   "outputs": [
    {
     "data": {
      "text/plain": [
       "20762"
      ]
     },
     "execution_count": 50,
     "metadata": {},
     "output_type": "execute_result"
    }
   ],
   "source": [
    "len(search_p1[\"ip\"].unique())"
   ]
  },
  {
   "cell_type": "code",
   "execution_count": 51,
   "metadata": {},
   "outputs": [
    {
     "data": {
      "text/plain": [
       "22882"
      ]
     },
     "execution_count": 51,
     "metadata": {},
     "output_type": "execute_result"
    }
   ],
   "source": [
    "len(search_p1[\"cik\"].unique())"
   ]
  },
  {
   "cell_type": "code",
   "execution_count": 52,
   "metadata": {},
   "outputs": [],
   "source": [
    "search_p1['clock'] = pd.to_datetime(search_p1.time, format='%H:%M:%S')\n",
    "\n",
    "search_p1['Hour'] = search_p1['clock'].dt.hour\n",
    "search_p1['Minute'] = search_p1['clock'].dt.minute\n",
    "search_p1['Second'] = search_p1['clock'].dt.second"
   ]
  },
  {
   "cell_type": "markdown",
   "metadata": {},
   "source": [
    "# Plot the searching behavior by hour for all users."
   ]
  },
  {
   "cell_type": "code",
   "execution_count": 53,
   "metadata": {},
   "outputs": [
    {
     "data": {
      "image/png": "[encoded data removed]",
      "text/plain": [
       "<Figure size 720x360 with 1 Axes>"
      ]
     },
     "metadata": {
      "needs_background": "light"
     },
     "output_type": "display_data"
    }
   ],
   "source": [
    "op_count = search_p1['Hour'].value_counts()\n",
    "plt.figure(figsize=(10,5))\n",
    "sns.barplot(op_count.index, op_count.values, alpha=0.7)\n",
    "plt.ylabel('Number of Occurrences', fontsize=12)\n",
    "plt.xlabel('Hour', fontsize=12)\n",
    "plt.show()"
   ]
  },
  {
   "cell_type": "markdown",
   "metadata": {},
   "source": [
    "Select several active users to check their searching behaviors."
   ]
  },
  {
   "cell_type": "code",
   "execution_count": 54,
   "metadata": {},
   "outputs": [
    {
     "data": {
      "text/html": [
       "<div>\n",
       "<style scoped>\n",
       "    .dataframe tbody tr th:only-of-type {\n",
       "        vertical-align: middle;\n",
       "    }\n",
       "\n",
       "    .dataframe tbody tr th {\n",
       "        vertical-align: top;\n",
       "    }\n",
       "\n",
       "    .dataframe thead th {\n",
       "        text-align: right;\n",
       "    }\n",
       "</style>\n",
       "<table border=\"1\" class=\"dataframe\">\n",
       "  <thead>\n",
       "    <tr style=\"text-align: right;\">\n",
       "      <th></th>\n",
       "      <th>ip</th>\n",
       "      <th>Frequency</th>\n",
       "    </tr>\n",
       "  </thead>\n",
       "  <tbody>\n",
       "    <tr>\n",
       "      <td>11276</td>\n",
       "      <td>24.229.33.gai</td>\n",
       "      <td>20</td>\n",
       "    </tr>\n",
       "    <tr>\n",
       "      <td>13533</td>\n",
       "      <td>117.136.0.bif</td>\n",
       "      <td>20</td>\n",
       "    </tr>\n",
       "    <tr>\n",
       "      <td>4129</td>\n",
       "      <td>71.188.73.jga</td>\n",
       "      <td>20</td>\n",
       "    </tr>\n",
       "    <tr>\n",
       "      <td>398</td>\n",
       "      <td>24.228.222.jca</td>\n",
       "      <td>20</td>\n",
       "    </tr>\n",
       "    <tr>\n",
       "      <td>1325</td>\n",
       "      <td>47.184.133.ajc</td>\n",
       "      <td>20</td>\n",
       "    </tr>\n",
       "    <tr>\n",
       "      <td>...</td>\n",
       "      <td>...</td>\n",
       "      <td>...</td>\n",
       "    </tr>\n",
       "    <tr>\n",
       "      <td>6097</td>\n",
       "      <td>57.72.33.ech</td>\n",
       "      <td>3</td>\n",
       "    </tr>\n",
       "    <tr>\n",
       "      <td>12346</td>\n",
       "      <td>66.251.214.ahf</td>\n",
       "      <td>3</td>\n",
       "    </tr>\n",
       "    <tr>\n",
       "      <td>6111</td>\n",
       "      <td>212.50.99.aje</td>\n",
       "      <td>3</td>\n",
       "    </tr>\n",
       "    <tr>\n",
       "      <td>6112</td>\n",
       "      <td>105.96.9.jbd</td>\n",
       "      <td>3</td>\n",
       "    </tr>\n",
       "    <tr>\n",
       "      <td>20761</td>\n",
       "      <td>82.38.171.ahg</td>\n",
       "      <td>3</td>\n",
       "    </tr>\n",
       "  </tbody>\n",
       "</table>\n",
       "<p>20762 rows × 2 columns</p>\n",
       "</div>"
      ],
      "text/plain": [
       "                   ip  Frequency\n",
       "11276   24.229.33.gai         20\n",
       "13533   117.136.0.bif         20\n",
       "4129    71.188.73.jga         20\n",
       "398    24.228.222.jca         20\n",
       "1325   47.184.133.ajc         20\n",
       "...               ...        ...\n",
       "6097     57.72.33.ech          3\n",
       "12346  66.251.214.ahf          3\n",
       "6111    212.50.99.aje          3\n",
       "6112     105.96.9.jbd          3\n",
       "20761   82.38.171.ahg          3\n",
       "\n",
       "[20762 rows x 2 columns]"
      ]
     },
     "execution_count": 54,
     "metadata": {},
     "output_type": "execute_result"
    }
   ],
   "source": [
    "e = pd.merge(df_p1,d,left_on=\"ip\",right_on=\"ip\",how=\"inner\")\n",
    "e.sort_values(by=[\"Frequency\"],ascending=False)"
   ]
  },
  {
   "cell_type": "markdown",
   "metadata": {},
   "source": [
    "Example 1: For ip = \"24.229.33.gai\":"
   ]
  },
  {
   "cell_type": "code",
   "execution_count": 55,
   "metadata": {},
   "outputs": [
    {
     "data": {
      "image/png": "[encoded data removed]",
      "text/plain": [
       "<Figure size 720x360 with 1 Axes>"
      ]
     },
     "metadata": {
      "needs_background": "light"
     },
     "output_type": "display_data"
    }
   ],
   "source": [
    "t = search_p1.loc[search_p1.ip==\"24.229.33.gai\"]\n",
    "op_count = t['Hour'].value_counts()\n",
    "plt.figure(figsize=(10,5))\n",
    "sns.barplot(op_count.index, op_count.values, alpha=0.7)\n",
    "plt.ylabel('Number of Occurrences', fontsize=12)\n",
    "plt.xlabel('Hour', fontsize=12)\n",
    "plt.show()"
   ]
  },
  {
   "cell_type": "code",
   "execution_count": 56,
   "metadata": {},
   "outputs": [
    {
     "data": {
      "text/html": [
       "<div>\n",
       "<style scoped>\n",
       "    .dataframe tbody tr th:only-of-type {\n",
       "        vertical-align: middle;\n",
       "    }\n",
       "\n",
       "    .dataframe tbody tr th {\n",
       "        vertical-align: top;\n",
       "    }\n",
       "\n",
       "    .dataframe thead th {\n",
       "        text-align: right;\n",
       "    }\n",
       "</style>\n",
       "<table border=\"1\" class=\"dataframe\">\n",
       "  <thead>\n",
       "    <tr style=\"text-align: right;\">\n",
       "      <th></th>\n",
       "      <th>time</th>\n",
       "      <th>cik</th>\n",
       "    </tr>\n",
       "  </thead>\n",
       "  <tbody>\n",
       "    <tr>\n",
       "      <td>86157</td>\n",
       "      <td>13:59:25</td>\n",
       "      <td>105418.0</td>\n",
       "    </tr>\n",
       "    <tr>\n",
       "      <td>86158</td>\n",
       "      <td>16:22:29</td>\n",
       "      <td>105418.0</td>\n",
       "    </tr>\n",
       "    <tr>\n",
       "      <td>86159</td>\n",
       "      <td>16:22:46</td>\n",
       "      <td>105418.0</td>\n",
       "    </tr>\n",
       "    <tr>\n",
       "      <td>86160</td>\n",
       "      <td>16:22:49</td>\n",
       "      <td>105418.0</td>\n",
       "    </tr>\n",
       "    <tr>\n",
       "      <td>86161</td>\n",
       "      <td>17:38:09</td>\n",
       "      <td>105418.0</td>\n",
       "    </tr>\n",
       "    <tr>\n",
       "      <td>86162</td>\n",
       "      <td>17:38:12</td>\n",
       "      <td>105418.0</td>\n",
       "    </tr>\n",
       "    <tr>\n",
       "      <td>86163</td>\n",
       "      <td>17:40:58</td>\n",
       "      <td>105418.0</td>\n",
       "    </tr>\n",
       "    <tr>\n",
       "      <td>86164</td>\n",
       "      <td>17:41:01</td>\n",
       "      <td>105418.0</td>\n",
       "    </tr>\n",
       "    <tr>\n",
       "      <td>86165</td>\n",
       "      <td>17:41:57</td>\n",
       "      <td>105418.0</td>\n",
       "    </tr>\n",
       "    <tr>\n",
       "      <td>86166</td>\n",
       "      <td>17:42:00</td>\n",
       "      <td>105418.0</td>\n",
       "    </tr>\n",
       "    <tr>\n",
       "      <td>86167</td>\n",
       "      <td>17:43:04</td>\n",
       "      <td>105418.0</td>\n",
       "    </tr>\n",
       "    <tr>\n",
       "      <td>86168</td>\n",
       "      <td>17:43:45</td>\n",
       "      <td>105418.0</td>\n",
       "    </tr>\n",
       "    <tr>\n",
       "      <td>86169</td>\n",
       "      <td>19:11:52</td>\n",
       "      <td>105418.0</td>\n",
       "    </tr>\n",
       "    <tr>\n",
       "      <td>86170</td>\n",
       "      <td>19:12:11</td>\n",
       "      <td>105418.0</td>\n",
       "    </tr>\n",
       "    <tr>\n",
       "      <td>86171</td>\n",
       "      <td>19:53:17</td>\n",
       "      <td>105418.0</td>\n",
       "    </tr>\n",
       "    <tr>\n",
       "      <td>86172</td>\n",
       "      <td>19:53:20</td>\n",
       "      <td>105418.0</td>\n",
       "    </tr>\n",
       "    <tr>\n",
       "      <td>86173</td>\n",
       "      <td>20:29:32</td>\n",
       "      <td>1169987.0</td>\n",
       "    </tr>\n",
       "    <tr>\n",
       "      <td>86174</td>\n",
       "      <td>20:29:34</td>\n",
       "      <td>1169987.0</td>\n",
       "    </tr>\n",
       "    <tr>\n",
       "      <td>86175</td>\n",
       "      <td>21:19:50</td>\n",
       "      <td>105418.0</td>\n",
       "    </tr>\n",
       "    <tr>\n",
       "      <td>86176</td>\n",
       "      <td>22:51:47</td>\n",
       "      <td>1370946.0</td>\n",
       "    </tr>\n",
       "  </tbody>\n",
       "</table>\n",
       "</div>"
      ],
      "text/plain": [
       "           time        cik\n",
       "86157  13:59:25   105418.0\n",
       "86158  16:22:29   105418.0\n",
       "86159  16:22:46   105418.0\n",
       "86160  16:22:49   105418.0\n",
       "86161  17:38:09   105418.0\n",
       "86162  17:38:12   105418.0\n",
       "86163  17:40:58   105418.0\n",
       "86164  17:41:01   105418.0\n",
       "86165  17:41:57   105418.0\n",
       "86166  17:42:00   105418.0\n",
       "86167  17:43:04   105418.0\n",
       "86168  17:43:45   105418.0\n",
       "86169  19:11:52   105418.0\n",
       "86170  19:12:11   105418.0\n",
       "86171  19:53:17   105418.0\n",
       "86172  19:53:20   105418.0\n",
       "86173  20:29:32  1169987.0\n",
       "86174  20:29:34  1169987.0\n",
       "86175  21:19:50   105418.0\n",
       "86176  22:51:47  1370946.0"
      ]
     },
     "execution_count": 56,
     "metadata": {},
     "output_type": "execute_result"
    }
   ],
   "source": [
    "t = search_p1.loc[search_p1.ip==\"24.229.33.gai\"]\n",
    "t[[\"time\",\"cik\"]]"
   ]
  },
  {
   "cell_type": "markdown",
   "metadata": {},
   "source": [
    "Companies it searches for: 105418 (WEIS MARKETS), 1169987 (HTG MOLECULAR DIAGNOSTICS), 1370946 (Owens Corning)."
   ]
  },
  {
   "cell_type": "markdown",
   "metadata": {},
   "source": [
    "Example 2: For ip = \"117.136.0.bif\":"
   ]
  },
  {
   "cell_type": "code",
   "execution_count": 57,
   "metadata": {},
   "outputs": [
    {
     "data": {
      "image/png": "[encoded data removed]",
      "text/plain": [
       "<Figure size 720x360 with 1 Axes>"
      ]
     },
     "metadata": {
      "needs_background": "light"
     },
     "output_type": "display_data"
    }
   ],
   "source": [
    "t = search_p1.loc[search_p1.ip==\"117.136.0.bif\"]\n",
    "op_count = t['Hour'].value_counts()\n",
    "plt.figure(figsize=(10,5))\n",
    "sns.barplot(op_count.index, op_count.values, alpha=0.7)\n",
    "plt.ylabel('Number of Occurrences', fontsize=12)\n",
    "plt.xlabel('Hour', fontsize=12)\n",
    "plt.show()"
   ]
  },
  {
   "cell_type": "code",
   "execution_count": 58,
   "metadata": {},
   "outputs": [
    {
     "data": {
      "image/png": "[encoded data removed]",
      "text/plain": [
       "<Figure size 1440x360 with 1 Axes>"
      ]
     },
     "metadata": {
      "needs_background": "light"
     },
     "output_type": "display_data"
    }
   ],
   "source": [
    "t = search_p1.loc[search_p1.ip==\"117.136.0.bif\"]\n",
    "op_count = t['time'].value_counts().sort_index()\n",
    "plt.figure(figsize=(20,5))\n",
    "sns.barplot(op_count.index, op_count.values, alpha=0.7)\n",
    "plt.ylabel('Number of Occurrences', fontsize=12)\n",
    "plt.xlabel('Hour', fontsize=12)\n",
    "plt.show()"
   ]
  },
  {
   "cell_type": "code",
   "execution_count": 59,
   "metadata": {},
   "outputs": [
    {
     "data": {
      "text/html": [
       "<div>\n",
       "<style scoped>\n",
       "    .dataframe tbody tr th:only-of-type {\n",
       "        vertical-align: middle;\n",
       "    }\n",
       "\n",
       "    .dataframe tbody tr th {\n",
       "        vertical-align: top;\n",
       "    }\n",
       "\n",
       "    .dataframe thead th {\n",
       "        text-align: right;\n",
       "    }\n",
       "</style>\n",
       "<table border=\"1\" class=\"dataframe\">\n",
       "  <thead>\n",
       "    <tr style=\"text-align: right;\">\n",
       "      <th></th>\n",
       "      <th>time</th>\n",
       "      <th>cik</th>\n",
       "    </tr>\n",
       "  </thead>\n",
       "  <tbody>\n",
       "    <tr>\n",
       "      <td>103228</td>\n",
       "      <td>15:20:43</td>\n",
       "      <td>1530238.0</td>\n",
       "    </tr>\n",
       "    <tr>\n",
       "      <td>103229</td>\n",
       "      <td>15:21:01</td>\n",
       "      <td>1530238.0</td>\n",
       "    </tr>\n",
       "    <tr>\n",
       "      <td>103230</td>\n",
       "      <td>15:22:51</td>\n",
       "      <td>1530238.0</td>\n",
       "    </tr>\n",
       "    <tr>\n",
       "      <td>103231</td>\n",
       "      <td>15:23:00</td>\n",
       "      <td>1530238.0</td>\n",
       "    </tr>\n",
       "    <tr>\n",
       "      <td>103232</td>\n",
       "      <td>15:27:11</td>\n",
       "      <td>1530238.0</td>\n",
       "    </tr>\n",
       "    <tr>\n",
       "      <td>103233</td>\n",
       "      <td>15:29:21</td>\n",
       "      <td>1530238.0</td>\n",
       "    </tr>\n",
       "    <tr>\n",
       "      <td>103234</td>\n",
       "      <td>15:29:30</td>\n",
       "      <td>1530238.0</td>\n",
       "    </tr>\n",
       "    <tr>\n",
       "      <td>103235</td>\n",
       "      <td>15:30:20</td>\n",
       "      <td>1530238.0</td>\n",
       "    </tr>\n",
       "    <tr>\n",
       "      <td>103236</td>\n",
       "      <td>15:32:51</td>\n",
       "      <td>1610601.0</td>\n",
       "    </tr>\n",
       "    <tr>\n",
       "      <td>103237</td>\n",
       "      <td>15:33:00</td>\n",
       "      <td>1610601.0</td>\n",
       "    </tr>\n",
       "    <tr>\n",
       "      <td>103238</td>\n",
       "      <td>15:34:20</td>\n",
       "      <td>1610601.0</td>\n",
       "    </tr>\n",
       "    <tr>\n",
       "      <td>103239</td>\n",
       "      <td>15:34:25</td>\n",
       "      <td>1610601.0</td>\n",
       "    </tr>\n",
       "    <tr>\n",
       "      <td>103240</td>\n",
       "      <td>15:35:14</td>\n",
       "      <td>1610601.0</td>\n",
       "    </tr>\n",
       "    <tr>\n",
       "      <td>103241</td>\n",
       "      <td>15:35:27</td>\n",
       "      <td>1610601.0</td>\n",
       "    </tr>\n",
       "    <tr>\n",
       "      <td>103242</td>\n",
       "      <td>15:35:32</td>\n",
       "      <td>1610601.0</td>\n",
       "    </tr>\n",
       "    <tr>\n",
       "      <td>103243</td>\n",
       "      <td>15:36:43</td>\n",
       "      <td>1610601.0</td>\n",
       "    </tr>\n",
       "    <tr>\n",
       "      <td>103244</td>\n",
       "      <td>15:36:59</td>\n",
       "      <td>1610601.0</td>\n",
       "    </tr>\n",
       "    <tr>\n",
       "      <td>103245</td>\n",
       "      <td>15:37:02</td>\n",
       "      <td>1610601.0</td>\n",
       "    </tr>\n",
       "    <tr>\n",
       "      <td>103246</td>\n",
       "      <td>15:37:39</td>\n",
       "      <td>1610601.0</td>\n",
       "    </tr>\n",
       "    <tr>\n",
       "      <td>103247</td>\n",
       "      <td>15:37:42</td>\n",
       "      <td>1610601.0</td>\n",
       "    </tr>\n",
       "  </tbody>\n",
       "</table>\n",
       "</div>"
      ],
      "text/plain": [
       "            time        cik\n",
       "103228  15:20:43  1530238.0\n",
       "103229  15:21:01  1530238.0\n",
       "103230  15:22:51  1530238.0\n",
       "103231  15:23:00  1530238.0\n",
       "103232  15:27:11  1530238.0\n",
       "103233  15:29:21  1530238.0\n",
       "103234  15:29:30  1530238.0\n",
       "103235  15:30:20  1530238.0\n",
       "103236  15:32:51  1610601.0\n",
       "103237  15:33:00  1610601.0\n",
       "103238  15:34:20  1610601.0\n",
       "103239  15:34:25  1610601.0\n",
       "103240  15:35:14  1610601.0\n",
       "103241  15:35:27  1610601.0\n",
       "103242  15:35:32  1610601.0\n",
       "103243  15:36:43  1610601.0\n",
       "103244  15:36:59  1610601.0\n",
       "103245  15:37:02  1610601.0\n",
       "103246  15:37:39  1610601.0\n",
       "103247  15:37:42  1610601.0"
      ]
     },
     "execution_count": 59,
     "metadata": {},
     "output_type": "execute_result"
    }
   ],
   "source": [
    "t = search_p1.loc[search_p1.ip==\"117.136.0.bif\"]\n",
    "t[[\"time\",\"cik\"]]"
   ]
  },
  {
   "cell_type": "markdown",
   "metadata": {},
   "source": [
    "Companies it searched for: 1520238 (DAS GLOBAL CAPITAL CORP), 1610601 (Momo Inc.)"
   ]
  },
  {
   "cell_type": "code",
   "execution_count": null,
   "metadata": {},
   "outputs": [],
   "source": []
  },
  {
   "cell_type": "markdown",
   "metadata": {},
   "source": [
    "Example 3: For ip = \"71.188.73.jga\t\":"
   ]
  },
  {
   "cell_type": "code",
   "execution_count": 60,
   "metadata": {},
   "outputs": [
    {
     "data": {
      "image/png": "[encoded data removed]",
      "text/plain": [
       "<Figure size 720x360 with 1 Axes>"
      ]
     },
     "metadata": {
      "needs_background": "light"
     },
     "output_type": "display_data"
    }
   ],
   "source": [
    "t = search_p1.loc[search_p1.ip==\"71.188.73.jga\"]\n",
    "op_count = t['Hour'].value_counts()\n",
    "plt.figure(figsize=(10,5))\n",
    "sns.barplot(op_count.index, op_count.values, alpha=0.7)\n",
    "plt.ylabel('Number of Occurrences', fontsize=12)\n",
    "plt.xlabel('Hour', fontsize=12)\n",
    "plt.show()"
   ]
  },
  {
   "cell_type": "code",
   "execution_count": 61,
   "metadata": {},
   "outputs": [
    {
     "data": {
      "image/png": "[encoded data removed]",
      "text/plain": [
       "<Figure size 1440x360 with 1 Axes>"
      ]
     },
     "metadata": {
      "needs_background": "light"
     },
     "output_type": "display_data"
    }
   ],
   "source": [
    "t = search_p1.loc[search_p1.ip==\"71.188.73.jga\"]\n",
    "op_count = t['time'].value_counts().sort_index()\n",
    "plt.figure(figsize=(20,5))\n",
    "sns.barplot(op_count.index, op_count.values, alpha=0.7)\n",
    "plt.ylabel('Number of Occurrences', fontsize=12)\n",
    "plt.xlabel('Hour', fontsize=12)\n",
    "plt.show()"
   ]
  },
  {
   "cell_type": "code",
   "execution_count": null,
   "metadata": {},
   "outputs": [],
   "source": []
  },
  {
   "cell_type": "markdown",
   "metadata": {},
   "source": [
    "Example 4: For ip = \"24.228.222.jca\":"
   ]
  },
  {
   "cell_type": "code",
   "execution_count": 62,
   "metadata": {},
   "outputs": [
    {
     "data": {
      "image/png": "[encoded data removed]",
      "text/plain": [
       "<Figure size 720x360 with 1 Axes>"
      ]
     },
     "metadata": {
      "needs_background": "light"
     },
     "output_type": "display_data"
    }
   ],
   "source": [
    "t = search_p1.loc[search_p1.ip==\"24.228.222.jca\"]\n",
    "op_count = t['Hour'].value_counts()\n",
    "plt.figure(figsize=(10,5))\n",
    "sns.barplot(op_count.index, op_count.values, alpha=0.7)\n",
    "plt.ylabel('Number of Occurrences', fontsize=12)\n",
    "plt.xlabel('Hour', fontsize=12)\n",
    "plt.show()"
   ]
  },
  {
   "cell_type": "code",
   "execution_count": 63,
   "metadata": {},
   "outputs": [
    {
     "data": {
      "image/png": "[encoded data removed]",
      "text/plain": [
       "<Figure size 1440x360 with 1 Axes>"
      ]
     },
     "metadata": {
      "needs_background": "light"
     },
     "output_type": "display_data"
    }
   ],
   "source": [
    "t = search_p1.loc[search_p1.ip==\"24.228.222.jca\"]\n",
    "op_count = t['time'].value_counts().sort_index()\n",
    "plt.figure(figsize=(20,5))\n",
    "sns.barplot(op_count.index, op_count.values, alpha=0.7)\n",
    "plt.ylabel('Number of Occurrences', fontsize=12)\n",
    "plt.xlabel('Hour', fontsize=12)\n",
    "plt.show()"
   ]
  },
  {
   "cell_type": "code",
   "execution_count": null,
   "metadata": {},
   "outputs": [],
   "source": []
  },
  {
   "cell_type": "markdown",
   "metadata": {},
   "source": [
    "Example 5: For ip = \"47.184.133.ajc\t\":"
   ]
  },
  {
   "cell_type": "code",
   "execution_count": 64,
   "metadata": {},
   "outputs": [
    {
     "data": {
      "image/png": "[encoded data removed]",
      "text/plain": [
       "<Figure size 720x360 with 1 Axes>"
      ]
     },
     "metadata": {
      "needs_background": "light"
     },
     "output_type": "display_data"
    }
   ],
   "source": [
    "t = search_p1.loc[search_p1.ip==\"47.184.133.ajc\"]\n",
    "op_count = t['Hour'].value_counts()\n",
    "plt.figure(figsize=(10,5))\n",
    "sns.barplot(op_count.index, op_count.values, alpha=0.7)\n",
    "plt.ylabel('Number of Occurrences', fontsize=12)\n",
    "plt.xlabel('Hour', fontsize=12)\n",
    "plt.show()"
   ]
  },
  {
   "cell_type": "code",
   "execution_count": 65,
   "metadata": {},
   "outputs": [
    {
     "data": {
      "image/png": "[encoded data removed]",
      "text/plain": [
       "<Figure size 1440x360 with 1 Axes>"
      ]
     },
     "metadata": {
      "needs_background": "light"
     },
     "output_type": "display_data"
    }
   ],
   "source": [
    "t = search_p1.loc[search_p1.ip==\"47.184.133.ajc\"]\n",
    "op_count = t['time'].value_counts().sort_index()\n",
    "plt.figure(figsize=(20,5))\n",
    "sns.barplot(op_count.index, op_count.values, alpha=0.7)\n",
    "plt.ylabel('Number of Occurrences', fontsize=12)\n",
    "plt.xlabel('Hour', fontsize=12)\n",
    "plt.show()"
   ]
  },
  {
   "cell_type": "code",
   "execution_count": null,
   "metadata": {},
   "outputs": [],
   "source": []
  },
  {
   "cell_type": "markdown",
   "metadata": {},
   "source": [
    "Example 6: For ip = \"57.72.33.ech\":"
   ]
  },
  {
   "cell_type": "code",
   "execution_count": 66,
   "metadata": {},
   "outputs": [
    {
     "data": {
      "image/png": "[encoded data removed]",
      "text/plain": [
       "<Figure size 720x360 with 1 Axes>"
      ]
     },
     "metadata": {
      "needs_background": "light"
     },
     "output_type": "display_data"
    }
   ],
   "source": [
    "t = search_p1.loc[search_p1.ip==\"57.72.33.ech\"]\n",
    "op_count = t['Hour'].value_counts()\n",
    "plt.figure(figsize=(10,5))\n",
    "sns.barplot(op_count.index, op_count.values, alpha=0.7)\n",
    "plt.ylabel('Number of Occurrences', fontsize=12)\n",
    "plt.xlabel('Hour', fontsize=12)\n",
    "plt.show()"
   ]
  },
  {
   "cell_type": "code",
   "execution_count": 67,
   "metadata": {},
   "outputs": [
    {
     "data": {
      "image/png": "[encoded data removed]",
      "text/plain": [
       "<Figure size 1440x360 with 1 Axes>"
      ]
     },
     "metadata": {
      "needs_background": "light"
     },
     "output_type": "display_data"
    }
   ],
   "source": [
    "t = search_p1.loc[search_p1.ip==\"57.72.33.ech\"]\n",
    "op_count = t['time'].value_counts().sort_index()\n",
    "plt.figure(figsize=(20,5))\n",
    "sns.barplot(op_count.index, op_count.values, alpha=0.7)\n",
    "plt.ylabel('Number of Occurrences', fontsize=12)\n",
    "plt.xlabel('Hour', fontsize=12)\n",
    "plt.show()"
   ]
  },
  {
   "cell_type": "code",
   "execution_count": null,
   "metadata": {},
   "outputs": [],
   "source": []
  },
  {
   "cell_type": "markdown",
   "metadata": {},
   "source": [
    "Example 7: For ip = \"66.251.214.ahf\":"
   ]
  },
  {
   "cell_type": "code",
   "execution_count": 68,
   "metadata": {},
   "outputs": [
    {
     "data": {
      "image/png": "[encoded data removed]",
      "text/plain": [
       "<Figure size 720x360 with 1 Axes>"
      ]
     },
     "metadata": {
      "needs_background": "light"
     },
     "output_type": "display_data"
    }
   ],
   "source": [
    "t = search_p1.loc[search_p1.ip==\"66.251.214.ahf\"]\n",
    "op_count = t['Hour'].value_counts()\n",
    "plt.figure(figsize=(10,5))\n",
    "sns.barplot(op_count.index, op_count.values, alpha=0.7)\n",
    "plt.ylabel('Number of Occurrences', fontsize=12)\n",
    "plt.xlabel('Hour', fontsize=12)\n",
    "plt.show()"
   ]
  },
  {
   "cell_type": "code",
   "execution_count": null,
   "metadata": {},
   "outputs": [],
   "source": []
  },
  {
   "cell_type": "markdown",
   "metadata": {},
   "source": [
    "Example 8: For ip = \"212.50.99.aje\t\":"
   ]
  },
  {
   "cell_type": "code",
   "execution_count": 69,
   "metadata": {},
   "outputs": [
    {
     "data": {
      "image/png": "[encoded data removed]",
      "text/plain": [
       "<Figure size 720x360 with 1 Axes>"
      ]
     },
     "metadata": {
      "needs_background": "light"
     },
     "output_type": "display_data"
    }
   ],
   "source": [
    "t = search_p1.loc[search_p1.ip==\"212.50.99.aje\"]\n",
    "op_count = t['Hour'].value_counts()\n",
    "plt.figure(figsize=(10,5))\n",
    "sns.barplot(op_count.index, op_count.values, alpha=0.7)\n",
    "plt.ylabel('Number of Occurrences', fontsize=12)\n",
    "plt.xlabel('Hour', fontsize=12)\n",
    "plt.show()"
   ]
  },
  {
   "cell_type": "code",
   "execution_count": null,
   "metadata": {},
   "outputs": [],
   "source": []
  },
  {
   "cell_type": "markdown",
   "metadata": {},
   "source": [
    "Example 9: For ip = \"105.96.9.jbd\t\":"
   ]
  },
  {
   "cell_type": "code",
   "execution_count": 70,
   "metadata": {},
   "outputs": [
    {
     "data": {
      "image/png": "[encoded data removed]",
      "text/plain": [
       "<Figure size 720x360 with 1 Axes>"
      ]
     },
     "metadata": {
      "needs_background": "light"
     },
     "output_type": "display_data"
    }
   ],
   "source": [
    "t = search_p1.loc[search_p1.ip==\"105.96.9.jbd\"]\n",
    "op_count = t['Hour'].value_counts()\n",
    "plt.figure(figsize=(10,5))\n",
    "sns.barplot(op_count.index, op_count.values, alpha=0.7)\n",
    "plt.ylabel('Number of Occurrences', fontsize=12)\n",
    "plt.xlabel('Hour', fontsize=12)\n",
    "plt.show()"
   ]
  },
  {
   "cell_type": "code",
   "execution_count": null,
   "metadata": {},
   "outputs": [],
   "source": []
  },
  {
   "cell_type": "markdown",
   "metadata": {},
   "source": [
    "Example 10: For ip = \"82.38.171.ahg\t\":"
   ]
  },
  {
   "cell_type": "code",
   "execution_count": 71,
   "metadata": {},
   "outputs": [
    {
     "data": {
      "image/png": "[encoded data removed]",
      "text/plain": [
       "<Figure size 720x360 with 1 Axes>"
      ]
     },
     "metadata": {
      "needs_background": "light"
     },
     "output_type": "display_data"
    }
   ],
   "source": [
    "t = search_p1.loc[search_p1.ip==\"82.38.171.ahg\"]\n",
    "op_count = t['Hour'].value_counts()\n",
    "plt.figure(figsize=(10,5))\n",
    "sns.barplot(op_count.index, op_count.values, alpha=0.7)\n",
    "plt.ylabel('Number of Occurrences', fontsize=12)\n",
    "plt.xlabel('Hour', fontsize=12)\n",
    "plt.show()"
   ]
  },
  {
   "cell_type": "markdown",
   "metadata": {},
   "source": [
    "For active users (>=75%):"
   ]
  },
  {
   "cell_type": "code",
   "execution_count": 72,
   "metadata": {},
   "outputs": [
    {
     "data": {
      "image/png": "[encoded data removed]",
      "text/plain": [
       "<Figure size 720x360 with 1 Axes>"
      ]
     },
     "metadata": {
      "needs_background": "light"
     },
     "output_type": "display_data"
    }
   ],
   "source": [
    "f = e[e[\"Frequency\"]>=9]\n",
    "t = pd.merge(f,search_p1,left_on=\"ip\",right_on=\"ip\",how=\"inner\")\n",
    "op_count = t['Hour'].value_counts()\n",
    "plt.figure(figsize=(10,5))\n",
    "sns.barplot(op_count.index, op_count.values, alpha=0.7)\n",
    "plt.ylabel('Number of Occurrences', fontsize=12)\n",
    "plt.xlabel('Hour', fontsize=12)\n",
    "plt.show()"
   ]
  },
  {
   "cell_type": "markdown",
   "metadata": {},
   "source": [
    "# Improve the upper bound to 50, which means each ip could search for no more than 50 times in that day."
   ]
  },
  {
   "cell_type": "markdown",
   "metadata": {},
   "source": [
    "In this dataset, we have 41894 observations. The average search is 13."
   ]
  },
  {
   "cell_type": "code",
   "execution_count": 73,
   "metadata": {},
   "outputs": [
    {
     "data": {
      "text/html": [
       "<div>\n",
       "<style scoped>\n",
       "    .dataframe tbody tr th:only-of-type {\n",
       "        vertical-align: middle;\n",
       "    }\n",
       "\n",
       "    .dataframe tbody tr th {\n",
       "        vertical-align: top;\n",
       "    }\n",
       "\n",
       "    .dataframe thead th {\n",
       "        text-align: right;\n",
       "    }\n",
       "</style>\n",
       "<table border=\"1\" class=\"dataframe\">\n",
       "  <thead>\n",
       "    <tr style=\"text-align: right;\">\n",
       "      <th></th>\n",
       "      <th>Frequency</th>\n",
       "    </tr>\n",
       "  </thead>\n",
       "  <tbody>\n",
       "    <tr>\n",
       "      <td>count</td>\n",
       "      <td>41894.000000</td>\n",
       "    </tr>\n",
       "    <tr>\n",
       "      <td>mean</td>\n",
       "      <td>13.347305</td>\n",
       "    </tr>\n",
       "    <tr>\n",
       "      <td>std</td>\n",
       "      <td>12.695848</td>\n",
       "    </tr>\n",
       "    <tr>\n",
       "      <td>min</td>\n",
       "      <td>3.000000</td>\n",
       "    </tr>\n",
       "    <tr>\n",
       "      <td>25%</td>\n",
       "      <td>4.000000</td>\n",
       "    </tr>\n",
       "    <tr>\n",
       "      <td>50%</td>\n",
       "      <td>7.000000</td>\n",
       "    </tr>\n",
       "    <tr>\n",
       "      <td>75%</td>\n",
       "      <td>19.000000</td>\n",
       "    </tr>\n",
       "    <tr>\n",
       "      <td>max</td>\n",
       "      <td>50.000000</td>\n",
       "    </tr>\n",
       "  </tbody>\n",
       "</table>\n",
       "</div>"
      ],
      "text/plain": [
       "          Frequency\n",
       "count  41894.000000\n",
       "mean      13.347305\n",
       "std       12.695848\n",
       "min        3.000000\n",
       "25%        4.000000\n",
       "50%        7.000000\n",
       "75%       19.000000\n",
       "max       50.000000"
      ]
     },
     "execution_count": 73,
     "metadata": {},
     "output_type": "execute_result"
    }
   ],
   "source": [
    "g = c[(c[\"Frequency\"]<=50) & (c[\"Frequency\"]>=3)]\n",
    "g.describe()"
   ]
  },
  {
   "cell_type": "code",
   "execution_count": 74,
   "metadata": {},
   "outputs": [
    {
     "data": {
      "text/plain": [
       "<matplotlib.axes._subplots.AxesSubplot at 0x1abd505110>"
      ]
     },
     "execution_count": 74,
     "metadata": {},
     "output_type": "execute_result"
    },
    {
     "data": {
      "image/png": "[encoded data removed]",
      "text/plain": [
       "<Figure size 432x288 with 1 Axes>"
      ]
     },
     "metadata": {
      "needs_background": "light"
     },
     "output_type": "display_data"
    }
   ],
   "source": [
    "c[(c[\"Frequency\"]<=50) & (c[\"Frequency\"]>=3)].boxplot()"
   ]
  },
  {
   "cell_type": "markdown",
   "metadata": {},
   "source": [
    "It still needs to satisfy that this ip searches for at least 2 unique firms."
   ]
  },
  {
   "cell_type": "code",
   "execution_count": 75,
   "metadata": {},
   "outputs": [],
   "source": [
    "p2 = []\n",
    "for i in range(len(g)):\n",
    "    if len(gk.get_group(g.iloc[i,0]).cik.unique())>=2:\n",
    "        p2.append(g.iloc[i,0])"
   ]
  },
  {
   "cell_type": "code",
   "execution_count": 76,
   "metadata": {},
   "outputs": [],
   "source": [
    "df_p2 = pd.DataFrame(p2)\n",
    "df_p2.columns = [\"ip\"]"
   ]
  },
  {
   "cell_type": "code",
   "execution_count": 77,
   "metadata": {},
   "outputs": [],
   "source": [
    "search_p2 = pd.merge(df_p2,df_norobot,left_on=\"ip\",right_on=\"ip\",how=\"inner\")"
   ]
  },
  {
   "cell_type": "code",
   "execution_count": 78,
   "metadata": {},
   "outputs": [
    {
     "data": {
      "text/html": [
       "<div>\n",
       "<style scoped>\n",
       "    .dataframe tbody tr th:only-of-type {\n",
       "        vertical-align: middle;\n",
       "    }\n",
       "\n",
       "    .dataframe tbody tr th {\n",
       "        vertical-align: top;\n",
       "    }\n",
       "\n",
       "    .dataframe thead th {\n",
       "        text-align: right;\n",
       "    }\n",
       "</style>\n",
       "<table border=\"1\" class=\"dataframe\">\n",
       "  <thead>\n",
       "    <tr style=\"text-align: right;\">\n",
       "      <th></th>\n",
       "      <th>ip</th>\n",
       "      <th>date</th>\n",
       "      <th>time</th>\n",
       "      <th>zone</th>\n",
       "      <th>cik</th>\n",
       "      <th>accession</th>\n",
       "      <th>extention</th>\n",
       "      <th>code</th>\n",
       "      <th>size</th>\n",
       "      <th>idx</th>\n",
       "      <th>norefer</th>\n",
       "      <th>noagent</th>\n",
       "      <th>find</th>\n",
       "      <th>crawler</th>\n",
       "      <th>browser</th>\n",
       "      <th>clock</th>\n",
       "      <th>Hour</th>\n",
       "      <th>Minute</th>\n",
       "      <th>Second</th>\n",
       "    </tr>\n",
       "  </thead>\n",
       "  <tbody>\n",
       "    <tr>\n",
       "      <td>0</td>\n",
       "      <td>168.244.4.acc</td>\n",
       "      <td>2017-03-01</td>\n",
       "      <td>00:00:00</td>\n",
       "      <td>0.0</td>\n",
       "      <td>104169.0</td>\n",
       "      <td>0000104169-16-000140</td>\n",
       "      <td>R8.htm</td>\n",
       "      <td>200.0</td>\n",
       "      <td>5442.0</td>\n",
       "      <td>0.0</td>\n",
       "      <td>0.0</td>\n",
       "      <td>0.0</td>\n",
       "      <td>8.0</td>\n",
       "      <td>0.0</td>\n",
       "      <td>NaN</td>\n",
       "      <td>1900-01-01 00:00:00</td>\n",
       "      <td>0</td>\n",
       "      <td>0</td>\n",
       "      <td>0</td>\n",
       "    </tr>\n",
       "    <tr>\n",
       "      <td>1</td>\n",
       "      <td>168.244.4.acc</td>\n",
       "      <td>2017-03-01</td>\n",
       "      <td>00:00:02</td>\n",
       "      <td>0.0</td>\n",
       "      <td>104169.0</td>\n",
       "      <td>0000104169-16-000140</td>\n",
       "      <td>R9.htm</td>\n",
       "      <td>200.0</td>\n",
       "      <td>4051.0</td>\n",
       "      <td>0.0</td>\n",
       "      <td>0.0</td>\n",
       "      <td>0.0</td>\n",
       "      <td>8.0</td>\n",
       "      <td>0.0</td>\n",
       "      <td>NaN</td>\n",
       "      <td>1900-01-01 00:00:02</td>\n",
       "      <td>0</td>\n",
       "      <td>0</td>\n",
       "      <td>2</td>\n",
       "    </tr>\n",
       "    <tr>\n",
       "      <td>2</td>\n",
       "      <td>168.244.4.acc</td>\n",
       "      <td>2017-03-01</td>\n",
       "      <td>00:00:22</td>\n",
       "      <td>0.0</td>\n",
       "      <td>1618921.0</td>\n",
       "      <td>0001140361-16-083198</td>\n",
       "      <td>R1.htm</td>\n",
       "      <td>200.0</td>\n",
       "      <td>4287.0</td>\n",
       "      <td>0.0</td>\n",
       "      <td>0.0</td>\n",
       "      <td>0.0</td>\n",
       "      <td>8.0</td>\n",
       "      <td>0.0</td>\n",
       "      <td>NaN</td>\n",
       "      <td>1900-01-01 00:00:22</td>\n",
       "      <td>0</td>\n",
       "      <td>0</td>\n",
       "      <td>22</td>\n",
       "    </tr>\n",
       "    <tr>\n",
       "      <td>3</td>\n",
       "      <td>168.244.4.acc</td>\n",
       "      <td>2017-03-01</td>\n",
       "      <td>00:00:37</td>\n",
       "      <td>0.0</td>\n",
       "      <td>1618921.0</td>\n",
       "      <td>0001140361-16-083198</td>\n",
       "      <td>R10.htm</td>\n",
       "      <td>200.0</td>\n",
       "      <td>15597.0</td>\n",
       "      <td>0.0</td>\n",
       "      <td>0.0</td>\n",
       "      <td>0.0</td>\n",
       "      <td>8.0</td>\n",
       "      <td>0.0</td>\n",
       "      <td>NaN</td>\n",
       "      <td>1900-01-01 00:00:37</td>\n",
       "      <td>0</td>\n",
       "      <td>0</td>\n",
       "      <td>37</td>\n",
       "    </tr>\n",
       "    <tr>\n",
       "      <td>4</td>\n",
       "      <td>168.244.4.acc</td>\n",
       "      <td>2017-03-01</td>\n",
       "      <td>00:00:48</td>\n",
       "      <td>0.0</td>\n",
       "      <td>1618921.0</td>\n",
       "      <td>0001140361-16-083198</td>\n",
       "      <td>R6.htm</td>\n",
       "      <td>200.0</td>\n",
       "      <td>6483.0</td>\n",
       "      <td>0.0</td>\n",
       "      <td>0.0</td>\n",
       "      <td>0.0</td>\n",
       "      <td>8.0</td>\n",
       "      <td>0.0</td>\n",
       "      <td>NaN</td>\n",
       "      <td>1900-01-01 00:00:48</td>\n",
       "      <td>0</td>\n",
       "      <td>0</td>\n",
       "      <td>48</td>\n",
       "    </tr>\n",
       "  </tbody>\n",
       "</table>\n",
       "</div>"
      ],
      "text/plain": [
       "              ip        date      time  zone        cik             accession  \\\n",
       "0  168.244.4.acc  2017-03-01  00:00:00   0.0   104169.0  0000104169-16-000140   \n",
       "1  168.244.4.acc  2017-03-01  00:00:02   0.0   104169.0  0000104169-16-000140   \n",
       "2  168.244.4.acc  2017-03-01  00:00:22   0.0  1618921.0  0001140361-16-083198   \n",
       "3  168.244.4.acc  2017-03-01  00:00:37   0.0  1618921.0  0001140361-16-083198   \n",
       "4  168.244.4.acc  2017-03-01  00:00:48   0.0  1618921.0  0001140361-16-083198   \n",
       "\n",
       "  extention   code     size  idx  norefer  noagent  find  crawler browser  \\\n",
       "0    R8.htm  200.0   5442.0  0.0      0.0      0.0   8.0      0.0     NaN   \n",
       "1    R9.htm  200.0   4051.0  0.0      0.0      0.0   8.0      0.0     NaN   \n",
       "2    R1.htm  200.0   4287.0  0.0      0.0      0.0   8.0      0.0     NaN   \n",
       "3   R10.htm  200.0  15597.0  0.0      0.0      0.0   8.0      0.0     NaN   \n",
       "4    R6.htm  200.0   6483.0  0.0      0.0      0.0   8.0      0.0     NaN   \n",
       "\n",
       "                clock  Hour  Minute  Second  \n",
       "0 1900-01-01 00:00:00     0       0       0  \n",
       "1 1900-01-01 00:00:02     0       0       2  \n",
       "2 1900-01-01 00:00:22     0       0      22  \n",
       "3 1900-01-01 00:00:37     0       0      37  \n",
       "4 1900-01-01 00:00:48     0       0      48  "
      ]
     },
     "execution_count": 78,
     "metadata": {},
     "output_type": "execute_result"
    }
   ],
   "source": [
    "search_p2.head()"
   ]
  },
  {
   "cell_type": "markdown",
   "metadata": {},
   "source": [
    "\"search_p2\" is the dataset which constricts the ip searching activity between 3 and 50. Also it requires the ip need to search for at least 2 firms in this day."
   ]
  },
  {
   "cell_type": "markdown",
   "metadata": {},
   "source": [
    "\"search_p2\" contains 485287 observations, from 30319 unique ip for 118103 unique companies (cik-based)."
   ]
  },
  {
   "cell_type": "code",
   "execution_count": 79,
   "metadata": {},
   "outputs": [
    {
     "name": "stdout",
     "output_type": "stream",
     "text": [
      "<class 'pandas.core.frame.DataFrame'>\n",
      "Int64Index: 485287 entries, 0 to 485286\n",
      "Data columns (total 19 columns):\n",
      "ip           485287 non-null object\n",
      "date         485287 non-null object\n",
      "time         485287 non-null object\n",
      "zone         485287 non-null float64\n",
      "cik          485287 non-null float64\n",
      "accession    485287 non-null object\n",
      "extention    485287 non-null object\n",
      "code         485287 non-null float64\n",
      "size         485287 non-null float64\n",
      "idx          485287 non-null float64\n",
      "norefer      485287 non-null float64\n",
      "noagent      485287 non-null float64\n",
      "find         485287 non-null float64\n",
      "crawler      485287 non-null float64\n",
      "browser      0 non-null object\n",
      "clock        485287 non-null datetime64[ns]\n",
      "Hour         485287 non-null int64\n",
      "Minute       485287 non-null int64\n",
      "Second       485287 non-null int64\n",
      "dtypes: datetime64[ns](1), float64(9), int64(3), object(6)\n",
      "memory usage: 74.0+ MB\n"
     ]
    }
   ],
   "source": [
    "search_p2.info()"
   ]
  },
  {
   "cell_type": "code",
   "execution_count": 80,
   "metadata": {},
   "outputs": [
    {
     "data": {
      "text/html": [
       "<div>\n",
       "<style scoped>\n",
       "    .dataframe tbody tr th:only-of-type {\n",
       "        vertical-align: middle;\n",
       "    }\n",
       "\n",
       "    .dataframe tbody tr th {\n",
       "        vertical-align: top;\n",
       "    }\n",
       "\n",
       "    .dataframe thead th {\n",
       "        text-align: right;\n",
       "    }\n",
       "</style>\n",
       "<table border=\"1\" class=\"dataframe\">\n",
       "  <thead>\n",
       "    <tr style=\"text-align: right;\">\n",
       "      <th></th>\n",
       "      <th>zone</th>\n",
       "      <th>cik</th>\n",
       "      <th>code</th>\n",
       "      <th>size</th>\n",
       "      <th>idx</th>\n",
       "      <th>norefer</th>\n",
       "      <th>noagent</th>\n",
       "      <th>find</th>\n",
       "      <th>crawler</th>\n",
       "      <th>Hour</th>\n",
       "      <th>Minute</th>\n",
       "      <th>Second</th>\n",
       "    </tr>\n",
       "  </thead>\n",
       "  <tbody>\n",
       "    <tr>\n",
       "      <td>count</td>\n",
       "      <td>485287.0</td>\n",
       "      <td>4.852870e+05</td>\n",
       "      <td>485287.000000</td>\n",
       "      <td>4.852870e+05</td>\n",
       "      <td>485287.000000</td>\n",
       "      <td>485287.0</td>\n",
       "      <td>485287.000000</td>\n",
       "      <td>485287.000000</td>\n",
       "      <td>485287.0</td>\n",
       "      <td>485287.000000</td>\n",
       "      <td>485287.000000</td>\n",
       "      <td>485287.000000</td>\n",
       "    </tr>\n",
       "    <tr>\n",
       "      <td>mean</td>\n",
       "      <td>0.0</td>\n",
       "      <td>7.930187e+19</td>\n",
       "      <td>227.220288</td>\n",
       "      <td>7.878043e+04</td>\n",
       "      <td>0.642339</td>\n",
       "      <td>0.0</td>\n",
       "      <td>0.001420</td>\n",
       "      <td>4.581029</td>\n",
       "      <td>0.0</td>\n",
       "      <td>13.012994</td>\n",
       "      <td>29.573518</td>\n",
       "      <td>29.455846</td>\n",
       "    </tr>\n",
       "    <tr>\n",
       "      <td>std</td>\n",
       "      <td>0.0</td>\n",
       "      <td>1.077508e+22</td>\n",
       "      <td>49.941529</td>\n",
       "      <td>9.131707e+05</td>\n",
       "      <td>0.479312</td>\n",
       "      <td>0.0</td>\n",
       "      <td>0.037653</td>\n",
       "      <td>4.174157</td>\n",
       "      <td>0.0</td>\n",
       "      <td>6.996928</td>\n",
       "      <td>17.480370</td>\n",
       "      <td>17.249442</td>\n",
       "    </tr>\n",
       "    <tr>\n",
       "      <td>min</td>\n",
       "      <td>0.0</td>\n",
       "      <td>0.000000e+00</td>\n",
       "      <td>0.000000</td>\n",
       "      <td>0.000000e+00</td>\n",
       "      <td>0.000000</td>\n",
       "      <td>0.0</td>\n",
       "      <td>0.000000</td>\n",
       "      <td>1.000000</td>\n",
       "      <td>0.0</td>\n",
       "      <td>0.000000</td>\n",
       "      <td>0.000000</td>\n",
       "      <td>0.000000</td>\n",
       "    </tr>\n",
       "    <tr>\n",
       "      <td>25%</td>\n",
       "      <td>0.0</td>\n",
       "      <td>9.236660e+05</td>\n",
       "      <td>200.000000</td>\n",
       "      <td>6.800000e+02</td>\n",
       "      <td>0.000000</td>\n",
       "      <td>0.0</td>\n",
       "      <td>0.000000</td>\n",
       "      <td>1.000000</td>\n",
       "      <td>0.0</td>\n",
       "      <td>7.000000</td>\n",
       "      <td>14.000000</td>\n",
       "      <td>15.000000</td>\n",
       "    </tr>\n",
       "    <tr>\n",
       "      <td>50%</td>\n",
       "      <td>0.0</td>\n",
       "      <td>1.313978e+06</td>\n",
       "      <td>200.000000</td>\n",
       "      <td>2.818000e+03</td>\n",
       "      <td>1.000000</td>\n",
       "      <td>0.0</td>\n",
       "      <td>0.000000</td>\n",
       "      <td>1.000000</td>\n",
       "      <td>0.0</td>\n",
       "      <td>14.000000</td>\n",
       "      <td>30.000000</td>\n",
       "      <td>29.000000</td>\n",
       "    </tr>\n",
       "    <tr>\n",
       "      <td>75%</td>\n",
       "      <td>0.0</td>\n",
       "      <td>1.449762e+06</td>\n",
       "      <td>301.000000</td>\n",
       "      <td>4.578000e+03</td>\n",
       "      <td>1.000000</td>\n",
       "      <td>0.0</td>\n",
       "      <td>0.000000</td>\n",
       "      <td>9.000000</td>\n",
       "      <td>0.0</td>\n",
       "      <td>19.000000</td>\n",
       "      <td>45.000000</td>\n",
       "      <td>44.000000</td>\n",
       "    </tr>\n",
       "    <tr>\n",
       "      <td>max</td>\n",
       "      <td>0.0</td>\n",
       "      <td>1.649339e+24</td>\n",
       "      <td>504.000000</td>\n",
       "      <td>3.242720e+08</td>\n",
       "      <td>1.000000</td>\n",
       "      <td>0.0</td>\n",
       "      <td>1.000000</td>\n",
       "      <td>10.000000</td>\n",
       "      <td>0.0</td>\n",
       "      <td>23.000000</td>\n",
       "      <td>59.000000</td>\n",
       "      <td>59.000000</td>\n",
       "    </tr>\n",
       "  </tbody>\n",
       "</table>\n",
       "</div>"
      ],
      "text/plain": [
       "           zone           cik           code          size            idx  \\\n",
       "count  485287.0  4.852870e+05  485287.000000  4.852870e+05  485287.000000   \n",
       "mean        0.0  7.930187e+19     227.220288  7.878043e+04       0.642339   \n",
       "std         0.0  1.077508e+22      49.941529  9.131707e+05       0.479312   \n",
       "min         0.0  0.000000e+00       0.000000  0.000000e+00       0.000000   \n",
       "25%         0.0  9.236660e+05     200.000000  6.800000e+02       0.000000   \n",
       "50%         0.0  1.313978e+06     200.000000  2.818000e+03       1.000000   \n",
       "75%         0.0  1.449762e+06     301.000000  4.578000e+03       1.000000   \n",
       "max         0.0  1.649339e+24     504.000000  3.242720e+08       1.000000   \n",
       "\n",
       "        norefer        noagent           find   crawler           Hour  \\\n",
       "count  485287.0  485287.000000  485287.000000  485287.0  485287.000000   \n",
       "mean        0.0       0.001420       4.581029       0.0      13.012994   \n",
       "std         0.0       0.037653       4.174157       0.0       6.996928   \n",
       "min         0.0       0.000000       1.000000       0.0       0.000000   \n",
       "25%         0.0       0.000000       1.000000       0.0       7.000000   \n",
       "50%         0.0       0.000000       1.000000       0.0      14.000000   \n",
       "75%         0.0       0.000000       9.000000       0.0      19.000000   \n",
       "max         0.0       1.000000      10.000000       0.0      23.000000   \n",
       "\n",
       "              Minute         Second  \n",
       "count  485287.000000  485287.000000  \n",
       "mean       29.573518      29.455846  \n",
       "std        17.480370      17.249442  \n",
       "min         0.000000       0.000000  \n",
       "25%        14.000000      15.000000  \n",
       "50%        30.000000      29.000000  \n",
       "75%        45.000000      44.000000  \n",
       "max        59.000000      59.000000  "
      ]
     },
     "execution_count": 80,
     "metadata": {},
     "output_type": "execute_result"
    }
   ],
   "source": [
    "search_p2.describe()"
   ]
  },
  {
   "cell_type": "code",
   "execution_count": 81,
   "metadata": {},
   "outputs": [
    {
     "data": {
      "text/plain": [
       "array([[<matplotlib.axes._subplots.AxesSubplot object at 0x1a9f692a50>,\n",
       "        <matplotlib.axes._subplots.AxesSubplot object at 0x1abd83b410>,\n",
       "        <matplotlib.axes._subplots.AxesSubplot object at 0x1ac7629b10>],\n",
       "       [<matplotlib.axes._subplots.AxesSubplot object at 0x1ab15845d0>,\n",
       "        <matplotlib.axes._subplots.AxesSubplot object at 0x1aca277d10>,\n",
       "        <matplotlib.axes._subplots.AxesSubplot object at 0x1aab934fd0>],\n",
       "       [<matplotlib.axes._subplots.AxesSubplot object at 0x1ac42e4850>,\n",
       "        <matplotlib.axes._subplots.AxesSubplot object at 0x1ac0b0e890>,\n",
       "        <matplotlib.axes._subplots.AxesSubplot object at 0x1aa45cfe50>],\n",
       "       [<matplotlib.axes._subplots.AxesSubplot object at 0x1aca10ed90>,\n",
       "        <matplotlib.axes._subplots.AxesSubplot object at 0x1aa9c37690>,\n",
       "        <matplotlib.axes._subplots.AxesSubplot object at 0x1ab147d450>]],\n",
       "      dtype=object)"
      ]
     },
     "execution_count": 81,
     "metadata": {},
     "output_type": "execute_result"
    },
    {
     "data": {
      "image/png": "[encoded data removed]",
      "text/plain": [
       "<Figure size 720x720 with 12 Axes>"
      ]
     },
     "metadata": {
      "needs_background": "light"
     },
     "output_type": "display_data"
    }
   ],
   "source": [
    "search_p2.hist(figsize=(10,10))"
   ]
  },
  {
   "cell_type": "code",
   "execution_count": 82,
   "metadata": {},
   "outputs": [
    {
     "data": {
      "text/plain": [
       "30319"
      ]
     },
     "execution_count": 82,
     "metadata": {},
     "output_type": "execute_result"
    }
   ],
   "source": [
    "len(search_p2.ip.unique())"
   ]
  },
  {
   "cell_type": "code",
   "execution_count": 83,
   "metadata": {},
   "outputs": [
    {
     "data": {
      "text/plain": [
       "118103"
      ]
     },
     "execution_count": 83,
     "metadata": {},
     "output_type": "execute_result"
    }
   ],
   "source": [
    "len(search_p2.cik.unique())"
   ]
  },
  {
   "cell_type": "code",
   "execution_count": 84,
   "metadata": {},
   "outputs": [],
   "source": [
    "search_p2['clock'] = pd.to_datetime(search_p2.time, format='%H:%M:%S')\n",
    "\n",
    "search_p2['Hour'] = search_p2['clock'].dt.hour\n",
    "search_p2['Minute'] = search_p2['clock'].dt.minute\n",
    "search_p2['Second'] = search_p2['clock'].dt.second"
   ]
  },
  {
   "cell_type": "code",
   "execution_count": 85,
   "metadata": {},
   "outputs": [
    {
     "data": {
      "image/png": "[encoded data removed]",
      "text/plain": [
       "<Figure size 720x360 with 1 Axes>"
      ]
     },
     "metadata": {
      "needs_background": "light"
     },
     "output_type": "display_data"
    }
   ],
   "source": [
    "op_count = search_p2['Hour'].value_counts()\n",
    "plt.figure(figsize=(10,5))\n",
    "sns.barplot(op_count.index, op_count.values, alpha=0.7)\n",
    "plt.ylabel('Number of Occurrences', fontsize=12)\n",
    "plt.xlabel('Hour', fontsize=12)\n",
    "plt.show()"
   ]
  },
  {
   "cell_type": "code",
   "execution_count": 86,
   "metadata": {},
   "outputs": [
    {
     "data": {
      "text/html": [
       "<div>\n",
       "<style scoped>\n",
       "    .dataframe tbody tr th:only-of-type {\n",
       "        vertical-align: middle;\n",
       "    }\n",
       "\n",
       "    .dataframe tbody tr th {\n",
       "        vertical-align: top;\n",
       "    }\n",
       "\n",
       "    .dataframe thead th {\n",
       "        text-align: right;\n",
       "    }\n",
       "</style>\n",
       "<table border=\"1\" class=\"dataframe\">\n",
       "  <thead>\n",
       "    <tr style=\"text-align: right;\">\n",
       "      <th></th>\n",
       "      <th>ip</th>\n",
       "      <th>Frequency</th>\n",
       "    </tr>\n",
       "  </thead>\n",
       "  <tbody>\n",
       "    <tr>\n",
       "      <td>3367</td>\n",
       "      <td>192.225.161.iee</td>\n",
       "      <td>50</td>\n",
       "    </tr>\n",
       "    <tr>\n",
       "      <td>8297</td>\n",
       "      <td>63.223.114.ajg</td>\n",
       "      <td>50</td>\n",
       "    </tr>\n",
       "    <tr>\n",
       "      <td>2387</td>\n",
       "      <td>69.4.84.haa</td>\n",
       "      <td>50</td>\n",
       "    </tr>\n",
       "    <tr>\n",
       "      <td>10106</td>\n",
       "      <td>199.241.144.jbh</td>\n",
       "      <td>50</td>\n",
       "    </tr>\n",
       "    <tr>\n",
       "      <td>19082</td>\n",
       "      <td>207.250.69.ech</td>\n",
       "      <td>50</td>\n",
       "    </tr>\n",
       "    <tr>\n",
       "      <td>...</td>\n",
       "      <td>...</td>\n",
       "      <td>...</td>\n",
       "    </tr>\n",
       "    <tr>\n",
       "      <td>17445</td>\n",
       "      <td>107.77.203.dfh</td>\n",
       "      <td>3</td>\n",
       "    </tr>\n",
       "    <tr>\n",
       "      <td>17440</td>\n",
       "      <td>144.76.22.fgi</td>\n",
       "      <td>3</td>\n",
       "    </tr>\n",
       "    <tr>\n",
       "      <td>17425</td>\n",
       "      <td>206.80.114.hah</td>\n",
       "      <td>3</td>\n",
       "    </tr>\n",
       "    <tr>\n",
       "      <td>17424</td>\n",
       "      <td>60.243.125.fdi</td>\n",
       "      <td>3</td>\n",
       "    </tr>\n",
       "    <tr>\n",
       "      <td>30318</td>\n",
       "      <td>82.38.171.ahg</td>\n",
       "      <td>3</td>\n",
       "    </tr>\n",
       "  </tbody>\n",
       "</table>\n",
       "<p>30319 rows × 2 columns</p>\n",
       "</div>"
      ],
      "text/plain": [
       "                    ip  Frequency\n",
       "3367   192.225.161.iee         50\n",
       "8297    63.223.114.ajg         50\n",
       "2387       69.4.84.haa         50\n",
       "10106  199.241.144.jbh         50\n",
       "19082   207.250.69.ech         50\n",
       "...                ...        ...\n",
       "17445   107.77.203.dfh          3\n",
       "17440    144.76.22.fgi          3\n",
       "17425   206.80.114.hah          3\n",
       "17424   60.243.125.fdi          3\n",
       "30318    82.38.171.ahg          3\n",
       "\n",
       "[30319 rows x 2 columns]"
      ]
     },
     "execution_count": 86,
     "metadata": {},
     "output_type": "execute_result"
    }
   ],
   "source": [
    "h = pd.merge(df_p2,g,left_on=\"ip\",right_on=\"ip\",how=\"inner\")\n",
    "h.sort_values(by=[\"Frequency\"],ascending=False)"
   ]
  },
  {
   "cell_type": "markdown",
   "metadata": {},
   "source": [
    "Example 1: ip = \"192.225.161.iee\""
   ]
  },
  {
   "cell_type": "code",
   "execution_count": 87,
   "metadata": {},
   "outputs": [
    {
     "data": {
      "image/png": "[encoded data removed]",
      "text/plain": [
       "<Figure size 720x360 with 1 Axes>"
      ]
     },
     "metadata": {
      "needs_background": "light"
     },
     "output_type": "display_data"
    }
   ],
   "source": [
    "t = search_p2.loc[search_p2.ip==\"192.225.161.iee\"]\n",
    "op_count = t['Hour'].value_counts()\n",
    "plt.figure(figsize=(10,5))\n",
    "sns.barplot(op_count.index, op_count.values, alpha=0.7)\n",
    "plt.ylabel('Number of Occurrences', fontsize=12)\n",
    "plt.xlabel('Hour', fontsize=12)\n",
    "plt.show()"
   ]
  },
  {
   "cell_type": "code",
   "execution_count": 88,
   "metadata": {},
   "outputs": [
    {
     "data": {
      "text/html": [
       "<div>\n",
       "<style scoped>\n",
       "    .dataframe tbody tr th:only-of-type {\n",
       "        vertical-align: middle;\n",
       "    }\n",
       "\n",
       "    .dataframe tbody tr th {\n",
       "        vertical-align: top;\n",
       "    }\n",
       "\n",
       "    .dataframe thead th {\n",
       "        text-align: right;\n",
       "    }\n",
       "</style>\n",
       "<table border=\"1\" class=\"dataframe\">\n",
       "  <thead>\n",
       "    <tr style=\"text-align: right;\">\n",
       "      <th></th>\n",
       "      <th>time</th>\n",
       "      <th>cik</th>\n",
       "    </tr>\n",
       "  </thead>\n",
       "  <tbody>\n",
       "    <tr>\n",
       "      <td>91889</td>\n",
       "      <td>00:31:06</td>\n",
       "      <td>1353945.0</td>\n",
       "    </tr>\n",
       "    <tr>\n",
       "      <td>91890</td>\n",
       "      <td>00:31:06</td>\n",
       "      <td>1353945.0</td>\n",
       "    </tr>\n",
       "    <tr>\n",
       "      <td>91891</td>\n",
       "      <td>00:41:35</td>\n",
       "      <td>1350667.0</td>\n",
       "    </tr>\n",
       "    <tr>\n",
       "      <td>91892</td>\n",
       "      <td>00:41:36</td>\n",
       "      <td>1350667.0</td>\n",
       "    </tr>\n",
       "    <tr>\n",
       "      <td>91893</td>\n",
       "      <td>01:53:16</td>\n",
       "      <td>1363252.0</td>\n",
       "    </tr>\n",
       "    <tr>\n",
       "      <td>91894</td>\n",
       "      <td>01:53:16</td>\n",
       "      <td>1363252.0</td>\n",
       "    </tr>\n",
       "    <tr>\n",
       "      <td>91895</td>\n",
       "      <td>02:32:41</td>\n",
       "      <td>1369791.0</td>\n",
       "    </tr>\n",
       "    <tr>\n",
       "      <td>91896</td>\n",
       "      <td>02:32:41</td>\n",
       "      <td>1369791.0</td>\n",
       "    </tr>\n",
       "    <tr>\n",
       "      <td>91897</td>\n",
       "      <td>02:39:53</td>\n",
       "      <td>1369860.0</td>\n",
       "    </tr>\n",
       "    <tr>\n",
       "      <td>91898</td>\n",
       "      <td>02:39:54</td>\n",
       "      <td>1369860.0</td>\n",
       "    </tr>\n",
       "    <tr>\n",
       "      <td>91899</td>\n",
       "      <td>03:24:11</td>\n",
       "      <td>1380790.0</td>\n",
       "    </tr>\n",
       "    <tr>\n",
       "      <td>91900</td>\n",
       "      <td>03:24:11</td>\n",
       "      <td>1380790.0</td>\n",
       "    </tr>\n",
       "    <tr>\n",
       "      <td>91901</td>\n",
       "      <td>06:02:49</td>\n",
       "      <td>1400240.0</td>\n",
       "    </tr>\n",
       "    <tr>\n",
       "      <td>91902</td>\n",
       "      <td>06:02:49</td>\n",
       "      <td>1400240.0</td>\n",
       "    </tr>\n",
       "    <tr>\n",
       "      <td>91903</td>\n",
       "      <td>06:16:10</td>\n",
       "      <td>1394830.0</td>\n",
       "    </tr>\n",
       "    <tr>\n",
       "      <td>91904</td>\n",
       "      <td>06:16:11</td>\n",
       "      <td>1394830.0</td>\n",
       "    </tr>\n",
       "    <tr>\n",
       "      <td>91905</td>\n",
       "      <td>06:20:00</td>\n",
       "      <td>1398445.0</td>\n",
       "    </tr>\n",
       "    <tr>\n",
       "      <td>91906</td>\n",
       "      <td>06:20:01</td>\n",
       "      <td>1398445.0</td>\n",
       "    </tr>\n",
       "    <tr>\n",
       "      <td>91907</td>\n",
       "      <td>06:35:04</td>\n",
       "      <td>1422798.0</td>\n",
       "    </tr>\n",
       "    <tr>\n",
       "      <td>91908</td>\n",
       "      <td>06:35:05</td>\n",
       "      <td>1422798.0</td>\n",
       "    </tr>\n",
       "    <tr>\n",
       "      <td>91909</td>\n",
       "      <td>06:49:26</td>\n",
       "      <td>1388001.0</td>\n",
       "    </tr>\n",
       "    <tr>\n",
       "      <td>91910</td>\n",
       "      <td>06:49:27</td>\n",
       "      <td>1388001.0</td>\n",
       "    </tr>\n",
       "    <tr>\n",
       "      <td>91911</td>\n",
       "      <td>07:53:48</td>\n",
       "      <td>1430726.0</td>\n",
       "    </tr>\n",
       "    <tr>\n",
       "      <td>91912</td>\n",
       "      <td>07:53:49</td>\n",
       "      <td>1430726.0</td>\n",
       "    </tr>\n",
       "    <tr>\n",
       "      <td>91913</td>\n",
       "      <td>08:27:07</td>\n",
       "      <td>1437723.0</td>\n",
       "    </tr>\n",
       "    <tr>\n",
       "      <td>91914</td>\n",
       "      <td>08:27:08</td>\n",
       "      <td>1437723.0</td>\n",
       "    </tr>\n",
       "    <tr>\n",
       "      <td>91915</td>\n",
       "      <td>09:04:29</td>\n",
       "      <td>1446975.0</td>\n",
       "    </tr>\n",
       "    <tr>\n",
       "      <td>91916</td>\n",
       "      <td>09:04:29</td>\n",
       "      <td>1446975.0</td>\n",
       "    </tr>\n",
       "    <tr>\n",
       "      <td>91917</td>\n",
       "      <td>10:01:37</td>\n",
       "      <td>1459987.0</td>\n",
       "    </tr>\n",
       "    <tr>\n",
       "      <td>91918</td>\n",
       "      <td>10:01:37</td>\n",
       "      <td>1459987.0</td>\n",
       "    </tr>\n",
       "    <tr>\n",
       "      <td>91919</td>\n",
       "      <td>10:58:47</td>\n",
       "      <td>1466296.0</td>\n",
       "    </tr>\n",
       "    <tr>\n",
       "      <td>91920</td>\n",
       "      <td>10:58:47</td>\n",
       "      <td>1466296.0</td>\n",
       "    </tr>\n",
       "    <tr>\n",
       "      <td>91921</td>\n",
       "      <td>15:05:16</td>\n",
       "      <td>1436678.0</td>\n",
       "    </tr>\n",
       "    <tr>\n",
       "      <td>91922</td>\n",
       "      <td>15:05:16</td>\n",
       "      <td>1436678.0</td>\n",
       "    </tr>\n",
       "    <tr>\n",
       "      <td>91923</td>\n",
       "      <td>16:09:34</td>\n",
       "      <td>352947.0</td>\n",
       "    </tr>\n",
       "    <tr>\n",
       "      <td>91924</td>\n",
       "      <td>16:09:34</td>\n",
       "      <td>352947.0</td>\n",
       "    </tr>\n",
       "    <tr>\n",
       "      <td>91925</td>\n",
       "      <td>18:33:18</td>\n",
       "      <td>914026.0</td>\n",
       "    </tr>\n",
       "    <tr>\n",
       "      <td>91926</td>\n",
       "      <td>18:33:18</td>\n",
       "      <td>914026.0</td>\n",
       "    </tr>\n",
       "    <tr>\n",
       "      <td>91927</td>\n",
       "      <td>19:01:42</td>\n",
       "      <td>1023260.0</td>\n",
       "    </tr>\n",
       "    <tr>\n",
       "      <td>91928</td>\n",
       "      <td>19:01:43</td>\n",
       "      <td>1023260.0</td>\n",
       "    </tr>\n",
       "    <tr>\n",
       "      <td>91929</td>\n",
       "      <td>19:33:36</td>\n",
       "      <td>1026082.0</td>\n",
       "    </tr>\n",
       "    <tr>\n",
       "      <td>91930</td>\n",
       "      <td>19:33:36</td>\n",
       "      <td>1026082.0</td>\n",
       "    </tr>\n",
       "    <tr>\n",
       "      <td>91931</td>\n",
       "      <td>20:33:52</td>\n",
       "      <td>1043468.0</td>\n",
       "    </tr>\n",
       "    <tr>\n",
       "      <td>91932</td>\n",
       "      <td>20:33:52</td>\n",
       "      <td>1043468.0</td>\n",
       "    </tr>\n",
       "    <tr>\n",
       "      <td>91933</td>\n",
       "      <td>21:22:50</td>\n",
       "      <td>1058684.0</td>\n",
       "    </tr>\n",
       "    <tr>\n",
       "      <td>91934</td>\n",
       "      <td>21:22:51</td>\n",
       "      <td>1058684.0</td>\n",
       "    </tr>\n",
       "    <tr>\n",
       "      <td>91935</td>\n",
       "      <td>21:27:58</td>\n",
       "      <td>1056854.0</td>\n",
       "    </tr>\n",
       "    <tr>\n",
       "      <td>91936</td>\n",
       "      <td>21:27:59</td>\n",
       "      <td>1056854.0</td>\n",
       "    </tr>\n",
       "    <tr>\n",
       "      <td>91937</td>\n",
       "      <td>23:42:47</td>\n",
       "      <td>1106360.0</td>\n",
       "    </tr>\n",
       "    <tr>\n",
       "      <td>91938</td>\n",
       "      <td>23:42:48</td>\n",
       "      <td>1106360.0</td>\n",
       "    </tr>\n",
       "  </tbody>\n",
       "</table>\n",
       "</div>"
      ],
      "text/plain": [
       "           time        cik\n",
       "91889  00:31:06  1353945.0\n",
       "91890  00:31:06  1353945.0\n",
       "91891  00:41:35  1350667.0\n",
       "91892  00:41:36  1350667.0\n",
       "91893  01:53:16  1363252.0\n",
       "91894  01:53:16  1363252.0\n",
       "91895  02:32:41  1369791.0\n",
       "91896  02:32:41  1369791.0\n",
       "91897  02:39:53  1369860.0\n",
       "91898  02:39:54  1369860.0\n",
       "91899  03:24:11  1380790.0\n",
       "91900  03:24:11  1380790.0\n",
       "91901  06:02:49  1400240.0\n",
       "91902  06:02:49  1400240.0\n",
       "91903  06:16:10  1394830.0\n",
       "91904  06:16:11  1394830.0\n",
       "91905  06:20:00  1398445.0\n",
       "91906  06:20:01  1398445.0\n",
       "91907  06:35:04  1422798.0\n",
       "91908  06:35:05  1422798.0\n",
       "91909  06:49:26  1388001.0\n",
       "91910  06:49:27  1388001.0\n",
       "91911  07:53:48  1430726.0\n",
       "91912  07:53:49  1430726.0\n",
       "91913  08:27:07  1437723.0\n",
       "91914  08:27:08  1437723.0\n",
       "91915  09:04:29  1446975.0\n",
       "91916  09:04:29  1446975.0\n",
       "91917  10:01:37  1459987.0\n",
       "91918  10:01:37  1459987.0\n",
       "91919  10:58:47  1466296.0\n",
       "91920  10:58:47  1466296.0\n",
       "91921  15:05:16  1436678.0\n",
       "91922  15:05:16  1436678.0\n",
       "91923  16:09:34   352947.0\n",
       "91924  16:09:34   352947.0\n",
       "91925  18:33:18   914026.0\n",
       "91926  18:33:18   914026.0\n",
       "91927  19:01:42  1023260.0\n",
       "91928  19:01:43  1023260.0\n",
       "91929  19:33:36  1026082.0\n",
       "91930  19:33:36  1026082.0\n",
       "91931  20:33:52  1043468.0\n",
       "91932  20:33:52  1043468.0\n",
       "91933  21:22:50  1058684.0\n",
       "91934  21:22:51  1058684.0\n",
       "91935  21:27:58  1056854.0\n",
       "91936  21:27:59  1056854.0\n",
       "91937  23:42:47  1106360.0\n",
       "91938  23:42:48  1106360.0"
      ]
     },
     "execution_count": 88,
     "metadata": {},
     "output_type": "execute_result"
    }
   ],
   "source": [
    "t = search_p2.loc[search_p2.ip==\"192.225.161.iee\"]\n",
    "t[[\"time\",\"cik\"]]"
   ]
  },
  {
   "cell_type": "code",
   "execution_count": 89,
   "metadata": {},
   "outputs": [
    {
     "data": {
      "text/plain": [
       "array([1353945., 1350667., 1363252., 1369791., 1369860., 1380790.,\n",
       "       1400240., 1394830., 1398445., 1422798., 1388001., 1430726.,\n",
       "       1437723., 1446975., 1459987., 1466296., 1436678.,  352947.,\n",
       "        914026., 1023260., 1026082., 1043468., 1058684., 1056854.,\n",
       "       1106360.])"
      ]
     },
     "execution_count": 89,
     "metadata": {},
     "output_type": "execute_result"
    }
   ],
   "source": [
    "t[\"cik\"].unique()"
   ]
  },
  {
   "cell_type": "markdown",
   "metadata": {},
   "source": [
    "Example 2: ip = \"63.223.114.ajg\""
   ]
  },
  {
   "cell_type": "code",
   "execution_count": 90,
   "metadata": {},
   "outputs": [
    {
     "data": {
      "image/png": "[encoded data removed]",
      "text/plain": [
       "<Figure size 720x360 with 1 Axes>"
      ]
     },
     "metadata": {
      "needs_background": "light"
     },
     "output_type": "display_data"
    }
   ],
   "source": [
    "t = search_p2.loc[search_p2.ip==\"63.223.114.ajg\"]\n",
    "op_count = t['Hour'].value_counts()\n",
    "plt.figure(figsize=(10,5))\n",
    "sns.barplot(op_count.index, op_count.values, alpha=0.7)\n",
    "plt.ylabel('Number of Occurrences', fontsize=12)\n",
    "plt.xlabel('Hour', fontsize=12)\n",
    "plt.show()"
   ]
  },
  {
   "cell_type": "markdown",
   "metadata": {},
   "source": [
    "Example 3: ip = \"69.4.84.haa\""
   ]
  },
  {
   "cell_type": "code",
   "execution_count": 91,
   "metadata": {},
   "outputs": [
    {
     "data": {
      "image/png": "[encoded data removed]",
      "text/plain": [
       "<Figure size 720x360 with 1 Axes>"
      ]
     },
     "metadata": {
      "needs_background": "light"
     },
     "output_type": "display_data"
    }
   ],
   "source": [
    "t = search_p2.loc[search_p2.ip==\"69.4.84.haa\"]\n",
    "op_count = t['Hour'].value_counts()\n",
    "plt.figure(figsize=(10,5))\n",
    "sns.barplot(op_count.index, op_count.values, alpha=0.7)\n",
    "plt.ylabel('Number of Occurrences', fontsize=12)\n",
    "plt.xlabel('Hour', fontsize=12)\n",
    "plt.show()"
   ]
  },
  {
   "cell_type": "code",
   "execution_count": null,
   "metadata": {},
   "outputs": [],
   "source": []
  },
  {
   "cell_type": "markdown",
   "metadata": {},
   "source": [
    "Example 4: ip = \"199.241.144.jbh\""
   ]
  },
  {
   "cell_type": "code",
   "execution_count": 92,
   "metadata": {},
   "outputs": [
    {
     "data": {
      "image/png": "[encoded data removed]",
      "text/plain": [
       "<Figure size 720x360 with 1 Axes>"
      ]
     },
     "metadata": {
      "needs_background": "light"
     },
     "output_type": "display_data"
    }
   ],
   "source": [
    "t = search_p2.loc[search_p2.ip==\"199.241.144.jbh\"]\n",
    "op_count = t['Hour'].value_counts()\n",
    "plt.figure(figsize=(10,5))\n",
    "sns.barplot(op_count.index, op_count.values, alpha=0.7)\n",
    "plt.ylabel('Number of Occurrences', fontsize=12)\n",
    "plt.xlabel('Hour', fontsize=12)\n",
    "plt.show()"
   ]
  },
  {
   "cell_type": "markdown",
   "metadata": {},
   "source": [
    "Example 5: ip = \"207.250.69.ech\""
   ]
  },
  {
   "cell_type": "code",
   "execution_count": 93,
   "metadata": {},
   "outputs": [
    {
     "data": {
      "image/png": "[encoded data removed]",
      "text/plain": [
       "<Figure size 720x360 with 1 Axes>"
      ]
     },
     "metadata": {
      "needs_background": "light"
     },
     "output_type": "display_data"
    }
   ],
   "source": [
    "t = search_p2.loc[search_p2.ip==\"207.250.69.ech\"]\n",
    "op_count = t['Hour'].value_counts()\n",
    "plt.figure(figsize=(10,5))\n",
    "sns.barplot(op_count.index, op_count.values, alpha=0.7)\n",
    "plt.ylabel('Number of Occurrences', fontsize=12)\n",
    "plt.xlabel('Hour', fontsize=12)\n",
    "plt.show()"
   ]
  },
  {
   "cell_type": "code",
   "execution_count": null,
   "metadata": {},
   "outputs": [],
   "source": []
  },
  {
   "cell_type": "code",
   "execution_count": null,
   "metadata": {},
   "outputs": [],
   "source": []
  },
  {
   "cell_type": "code",
   "execution_count": null,
   "metadata": {},
   "outputs": [],
   "source": []
  },
  {
   "cell_type": "markdown",
   "metadata": {},
   "source": [
    "# Draw the distribution for the time difference between searches"
   ]
  },
  {
   "cell_type": "code",
   "execution_count": 94,
   "metadata": {},
   "outputs": [],
   "source": [
    "second_diff = []\n",
    "\n",
    "for i in range(search_p2.shape[0]):\n",
    "    if i == 0:\n",
    "        second_diff.append(np.nan)\n",
    "    else:\n",
    "        if search_p2.iloc[i,0] == search_p2.iloc[i-1,0]:\n",
    "            a = parse(search_p2.iloc[i,1]+\"/\"+search_p2.iloc[i,2])\n",
    "            b = parse(search_p2.iloc[i-1,1]+\"/\"+search_p2.iloc[i-1,2])\n",
    "            second_diff.append((a-b).seconds)\n",
    "        else:\n",
    "            second_diff.append(np.nan)"
   ]
  },
  {
   "cell_type": "code",
   "execution_count": 95,
   "metadata": {},
   "outputs": [],
   "source": [
    "second = pd.DataFrame(second_diff,columns = [\"second_diff\"])\n",
    "search_p2 = pd.concat([search_p2, second], axis=1)"
   ]
  },
  {
   "cell_type": "code",
   "execution_count": 96,
   "metadata": {},
   "outputs": [
    {
     "data": {
      "text/html": [
       "<div>\n",
       "<style scoped>\n",
       "    .dataframe tbody tr th:only-of-type {\n",
       "        vertical-align: middle;\n",
       "    }\n",
       "\n",
       "    .dataframe tbody tr th {\n",
       "        vertical-align: top;\n",
       "    }\n",
       "\n",
       "    .dataframe thead th {\n",
       "        text-align: right;\n",
       "    }\n",
       "</style>\n",
       "<table border=\"1\" class=\"dataframe\">\n",
       "  <thead>\n",
       "    <tr style=\"text-align: right;\">\n",
       "      <th></th>\n",
       "      <th>ip</th>\n",
       "      <th>date</th>\n",
       "      <th>time</th>\n",
       "      <th>zone</th>\n",
       "      <th>cik</th>\n",
       "      <th>accession</th>\n",
       "      <th>extention</th>\n",
       "      <th>code</th>\n",
       "      <th>size</th>\n",
       "      <th>idx</th>\n",
       "      <th>norefer</th>\n",
       "      <th>noagent</th>\n",
       "      <th>find</th>\n",
       "      <th>crawler</th>\n",
       "      <th>browser</th>\n",
       "      <th>clock</th>\n",
       "      <th>Hour</th>\n",
       "      <th>Minute</th>\n",
       "      <th>Second</th>\n",
       "      <th>second_diff</th>\n",
       "    </tr>\n",
       "  </thead>\n",
       "  <tbody>\n",
       "    <tr>\n",
       "      <td>0</td>\n",
       "      <td>168.244.4.acc</td>\n",
       "      <td>2017-03-01</td>\n",
       "      <td>00:00:00</td>\n",
       "      <td>0.0</td>\n",
       "      <td>104169.0</td>\n",
       "      <td>0000104169-16-000140</td>\n",
       "      <td>R8.htm</td>\n",
       "      <td>200.0</td>\n",
       "      <td>5442.0</td>\n",
       "      <td>0.0</td>\n",
       "      <td>0.0</td>\n",
       "      <td>0.0</td>\n",
       "      <td>8.0</td>\n",
       "      <td>0.0</td>\n",
       "      <td>NaN</td>\n",
       "      <td>1900-01-01 00:00:00</td>\n",
       "      <td>0</td>\n",
       "      <td>0</td>\n",
       "      <td>0</td>\n",
       "      <td>NaN</td>\n",
       "    </tr>\n",
       "    <tr>\n",
       "      <td>1</td>\n",
       "      <td>168.244.4.acc</td>\n",
       "      <td>2017-03-01</td>\n",
       "      <td>00:00:02</td>\n",
       "      <td>0.0</td>\n",
       "      <td>104169.0</td>\n",
       "      <td>0000104169-16-000140</td>\n",
       "      <td>R9.htm</td>\n",
       "      <td>200.0</td>\n",
       "      <td>4051.0</td>\n",
       "      <td>0.0</td>\n",
       "      <td>0.0</td>\n",
       "      <td>0.0</td>\n",
       "      <td>8.0</td>\n",
       "      <td>0.0</td>\n",
       "      <td>NaN</td>\n",
       "      <td>1900-01-01 00:00:02</td>\n",
       "      <td>0</td>\n",
       "      <td>0</td>\n",
       "      <td>2</td>\n",
       "      <td>2.0</td>\n",
       "    </tr>\n",
       "    <tr>\n",
       "      <td>2</td>\n",
       "      <td>168.244.4.acc</td>\n",
       "      <td>2017-03-01</td>\n",
       "      <td>00:00:22</td>\n",
       "      <td>0.0</td>\n",
       "      <td>1618921.0</td>\n",
       "      <td>0001140361-16-083198</td>\n",
       "      <td>R1.htm</td>\n",
       "      <td>200.0</td>\n",
       "      <td>4287.0</td>\n",
       "      <td>0.0</td>\n",
       "      <td>0.0</td>\n",
       "      <td>0.0</td>\n",
       "      <td>8.0</td>\n",
       "      <td>0.0</td>\n",
       "      <td>NaN</td>\n",
       "      <td>1900-01-01 00:00:22</td>\n",
       "      <td>0</td>\n",
       "      <td>0</td>\n",
       "      <td>22</td>\n",
       "      <td>20.0</td>\n",
       "    </tr>\n",
       "    <tr>\n",
       "      <td>3</td>\n",
       "      <td>168.244.4.acc</td>\n",
       "      <td>2017-03-01</td>\n",
       "      <td>00:00:37</td>\n",
       "      <td>0.0</td>\n",
       "      <td>1618921.0</td>\n",
       "      <td>0001140361-16-083198</td>\n",
       "      <td>R10.htm</td>\n",
       "      <td>200.0</td>\n",
       "      <td>15597.0</td>\n",
       "      <td>0.0</td>\n",
       "      <td>0.0</td>\n",
       "      <td>0.0</td>\n",
       "      <td>8.0</td>\n",
       "      <td>0.0</td>\n",
       "      <td>NaN</td>\n",
       "      <td>1900-01-01 00:00:37</td>\n",
       "      <td>0</td>\n",
       "      <td>0</td>\n",
       "      <td>37</td>\n",
       "      <td>15.0</td>\n",
       "    </tr>\n",
       "    <tr>\n",
       "      <td>4</td>\n",
       "      <td>168.244.4.acc</td>\n",
       "      <td>2017-03-01</td>\n",
       "      <td>00:00:48</td>\n",
       "      <td>0.0</td>\n",
       "      <td>1618921.0</td>\n",
       "      <td>0001140361-16-083198</td>\n",
       "      <td>R6.htm</td>\n",
       "      <td>200.0</td>\n",
       "      <td>6483.0</td>\n",
       "      <td>0.0</td>\n",
       "      <td>0.0</td>\n",
       "      <td>0.0</td>\n",
       "      <td>8.0</td>\n",
       "      <td>0.0</td>\n",
       "      <td>NaN</td>\n",
       "      <td>1900-01-01 00:00:48</td>\n",
       "      <td>0</td>\n",
       "      <td>0</td>\n",
       "      <td>48</td>\n",
       "      <td>11.0</td>\n",
       "    </tr>\n",
       "  </tbody>\n",
       "</table>\n",
       "</div>"
      ],
      "text/plain": [
       "              ip        date      time  zone        cik             accession  \\\n",
       "0  168.244.4.acc  2017-03-01  00:00:00   0.0   104169.0  0000104169-16-000140   \n",
       "1  168.244.4.acc  2017-03-01  00:00:02   0.0   104169.0  0000104169-16-000140   \n",
       "2  168.244.4.acc  2017-03-01  00:00:22   0.0  1618921.0  0001140361-16-083198   \n",
       "3  168.244.4.acc  2017-03-01  00:00:37   0.0  1618921.0  0001140361-16-083198   \n",
       "4  168.244.4.acc  2017-03-01  00:00:48   0.0  1618921.0  0001140361-16-083198   \n",
       "\n",
       "  extention   code     size  idx  norefer  noagent  find  crawler browser  \\\n",
       "0    R8.htm  200.0   5442.0  0.0      0.0      0.0   8.0      0.0     NaN   \n",
       "1    R9.htm  200.0   4051.0  0.0      0.0      0.0   8.0      0.0     NaN   \n",
       "2    R1.htm  200.0   4287.0  0.0      0.0      0.0   8.0      0.0     NaN   \n",
       "3   R10.htm  200.0  15597.0  0.0      0.0      0.0   8.0      0.0     NaN   \n",
       "4    R6.htm  200.0   6483.0  0.0      0.0      0.0   8.0      0.0     NaN   \n",
       "\n",
       "                clock  Hour  Minute  Second  second_diff  \n",
       "0 1900-01-01 00:00:00     0       0       0          NaN  \n",
       "1 1900-01-01 00:00:02     0       0       2          2.0  \n",
       "2 1900-01-01 00:00:22     0       0      22         20.0  \n",
       "3 1900-01-01 00:00:37     0       0      37         15.0  \n",
       "4 1900-01-01 00:00:48     0       0      48         11.0  "
      ]
     },
     "execution_count": 96,
     "metadata": {},
     "output_type": "execute_result"
    }
   ],
   "source": [
    "search_p2.head()"
   ]
  },
  {
   "cell_type": "markdown",
   "metadata": {},
   "source": [
    "Boxplot for search time difference."
   ]
  },
  {
   "cell_type": "code",
   "execution_count": 97,
   "metadata": {},
   "outputs": [
    {
     "data": {
      "text/plain": [
       "count    454968.000000\n",
       "mean       2133.578696\n",
       "std        5932.257096\n",
       "min           0.000000\n",
       "25%           1.000000\n",
       "50%          22.000000\n",
       "75%        1603.000000\n",
       "max       84912.000000\n",
       "Name: second_diff, dtype: float64"
      ]
     },
     "execution_count": 97,
     "metadata": {},
     "output_type": "execute_result"
    }
   ],
   "source": [
    "search_p2[\"second_diff\"].describe()"
   ]
  },
  {
   "cell_type": "code",
   "execution_count": 98,
   "metadata": {},
   "outputs": [
    {
     "data": {
      "text/plain": [
       "<matplotlib.axes._subplots.AxesSubplot at 0x1aa30d5810>"
      ]
     },
     "execution_count": 98,
     "metadata": {},
     "output_type": "execute_result"
    },
    {
     "data": {
      "image/png": "[encoded data removed]",
      "text/plain": [
       "<Figure size 432x288 with 1 Axes>"
      ]
     },
     "metadata": {
      "needs_background": "light"
     },
     "output_type": "display_data"
    }
   ],
   "source": [
    "search_p2.boxplot(column = \"second_diff\")"
   ]
  },
  {
   "cell_type": "code",
   "execution_count": 99,
   "metadata": {},
   "outputs": [
    {
     "data": {
      "text/plain": [
       "<matplotlib.axes._subplots.AxesSubplot at 0x1aabcee6d0>"
      ]
     },
     "execution_count": 99,
     "metadata": {},
     "output_type": "execute_result"
    },
    {
     "data": {
      "image/png": "[encoded data removed]",
      "text/plain": [
       "<Figure size 432x288 with 1 Axes>"
      ]
     },
     "metadata": {
      "needs_background": "light"
     },
     "output_type": "display_data"
    }
   ],
   "source": [
    "search_p2[search_p2[\"second_diff\"]<=1603].boxplot(column = \"second_diff\")"
   ]
  },
  {
   "cell_type": "code",
   "execution_count": 100,
   "metadata": {},
   "outputs": [
    {
     "data": {
      "text/plain": [
       "<matplotlib.axes._subplots.AxesSubplot at 0x1acc99dad0>"
      ]
     },
     "execution_count": 100,
     "metadata": {},
     "output_type": "execute_result"
    },
    {
     "data": {
      "image/png": "[encoded data removed]",
      "text/plain": [
       "<Figure size 432x288 with 1 Axes>"
      ]
     },
     "metadata": {
      "needs_background": "light"
     },
     "output_type": "display_data"
    }
   ],
   "source": [
    "search_p2[search_p2[\"second_diff\"]<=200].boxplot(column = \"second_diff\")"
   ]
  },
  {
   "cell_type": "code",
   "execution_count": 111,
   "metadata": {},
   "outputs": [
    {
     "data": {
      "text/plain": [
       "<matplotlib.axes._subplots.AxesSubplot at 0x1abe205b90>"
      ]
     },
     "execution_count": 111,
     "metadata": {},
     "output_type": "execute_result"
    },
    {
     "data": {
      "image/png": "[encoded data removed]",
      "text/plain": [
       "<Figure size 432x288 with 1 Axes>"
      ]
     },
     "metadata": {
      "needs_background": "light"
     },
     "output_type": "display_data"
    }
   ],
   "source": [
    "search_p2[search_p2[\"second_diff\"]<=50].boxplot(column = \"second_diff\")"
   ]
  },
  {
   "cell_type": "code",
   "execution_count": 112,
   "metadata": {},
   "outputs": [
    {
     "data": {
      "text/plain": [
       "<matplotlib.axes._subplots.AxesSubplot at 0x1aab952e10>"
      ]
     },
     "execution_count": 112,
     "metadata": {},
     "output_type": "execute_result"
    },
    {
     "data": {
      "image/png": "[encoded data removed]",
      "text/plain": [
       "<Figure size 432x288 with 1 Axes>"
      ]
     },
     "metadata": {
      "needs_background": "light"
     },
     "output_type": "display_data"
    }
   ],
   "source": [
    "search_p2[(search_p2[\"second_diff\"]<=50) & (search_p2[\"second_diff\"]>=5)].boxplot(column = \"second_diff\")"
   ]
  },
  {
   "cell_type": "code",
   "execution_count": 113,
   "metadata": {},
   "outputs": [
    {
     "data": {
      "text/html": [
       "<div>\n",
       "<style scoped>\n",
       "    .dataframe tbody tr th:only-of-type {\n",
       "        vertical-align: middle;\n",
       "    }\n",
       "\n",
       "    .dataframe tbody tr th {\n",
       "        vertical-align: top;\n",
       "    }\n",
       "\n",
       "    .dataframe thead th {\n",
       "        text-align: right;\n",
       "    }\n",
       "</style>\n",
       "<table border=\"1\" class=\"dataframe\">\n",
       "  <thead>\n",
       "    <tr style=\"text-align: right;\">\n",
       "      <th></th>\n",
       "      <th>zone</th>\n",
       "      <th>cik</th>\n",
       "      <th>code</th>\n",
       "      <th>size</th>\n",
       "      <th>idx</th>\n",
       "      <th>norefer</th>\n",
       "      <th>noagent</th>\n",
       "      <th>find</th>\n",
       "      <th>crawler</th>\n",
       "      <th>Hour</th>\n",
       "      <th>Minute</th>\n",
       "      <th>Second</th>\n",
       "      <th>second_diff</th>\n",
       "    </tr>\n",
       "  </thead>\n",
       "  <tbody>\n",
       "    <tr>\n",
       "      <td>count</td>\n",
       "      <td>67493.0</td>\n",
       "      <td>6.749300e+04</td>\n",
       "      <td>67493.000000</td>\n",
       "      <td>6.749300e+04</td>\n",
       "      <td>67493.000000</td>\n",
       "      <td>67493.0</td>\n",
       "      <td>67493.000000</td>\n",
       "      <td>67493.000000</td>\n",
       "      <td>67493.0</td>\n",
       "      <td>67493.000000</td>\n",
       "      <td>67493.000000</td>\n",
       "      <td>67493.000000</td>\n",
       "      <td>67493.000000</td>\n",
       "    </tr>\n",
       "    <tr>\n",
       "      <td>mean</td>\n",
       "      <td>0.0</td>\n",
       "      <td>1.540545e+20</td>\n",
       "      <td>204.876846</td>\n",
       "      <td>1.077066e+05</td>\n",
       "      <td>0.437453</td>\n",
       "      <td>0.0</td>\n",
       "      <td>0.000800</td>\n",
       "      <td>6.055369</td>\n",
       "      <td>0.0</td>\n",
       "      <td>14.320522</td>\n",
       "      <td>29.162283</td>\n",
       "      <td>29.461544</td>\n",
       "      <td>17.436312</td>\n",
       "    </tr>\n",
       "    <tr>\n",
       "      <td>std</td>\n",
       "      <td>0.0</td>\n",
       "      <td>1.517680e+22</td>\n",
       "      <td>32.332172</td>\n",
       "      <td>1.577625e+06</td>\n",
       "      <td>0.496076</td>\n",
       "      <td>0.0</td>\n",
       "      <td>0.028275</td>\n",
       "      <td>3.957353</td>\n",
       "      <td>0.0</td>\n",
       "      <td>6.827806</td>\n",
       "      <td>17.352164</td>\n",
       "      <td>17.253688</td>\n",
       "      <td>12.342284</td>\n",
       "    </tr>\n",
       "    <tr>\n",
       "      <td>min</td>\n",
       "      <td>0.0</td>\n",
       "      <td>0.000000e+00</td>\n",
       "      <td>0.000000</td>\n",
       "      <td>0.000000e+00</td>\n",
       "      <td>0.000000</td>\n",
       "      <td>0.0</td>\n",
       "      <td>0.000000</td>\n",
       "      <td>1.000000</td>\n",
       "      <td>0.0</td>\n",
       "      <td>0.000000</td>\n",
       "      <td>0.000000</td>\n",
       "      <td>0.000000</td>\n",
       "      <td>5.000000</td>\n",
       "    </tr>\n",
       "    <tr>\n",
       "      <td>25%</td>\n",
       "      <td>0.0</td>\n",
       "      <td>8.289160e+05</td>\n",
       "      <td>200.000000</td>\n",
       "      <td>2.808000e+03</td>\n",
       "      <td>0.000000</td>\n",
       "      <td>0.0</td>\n",
       "      <td>0.000000</td>\n",
       "      <td>1.000000</td>\n",
       "      <td>0.0</td>\n",
       "      <td>10.000000</td>\n",
       "      <td>14.000000</td>\n",
       "      <td>15.000000</td>\n",
       "      <td>7.000000</td>\n",
       "    </tr>\n",
       "    <tr>\n",
       "      <td>50%</td>\n",
       "      <td>0.0</td>\n",
       "      <td>1.113148e+06</td>\n",
       "      <td>200.000000</td>\n",
       "      <td>3.430000e+03</td>\n",
       "      <td>0.000000</td>\n",
       "      <td>0.0</td>\n",
       "      <td>0.000000</td>\n",
       "      <td>9.000000</td>\n",
       "      <td>0.0</td>\n",
       "      <td>16.000000</td>\n",
       "      <td>29.000000</td>\n",
       "      <td>29.000000</td>\n",
       "      <td>13.000000</td>\n",
       "    </tr>\n",
       "    <tr>\n",
       "      <td>75%</td>\n",
       "      <td>0.0</td>\n",
       "      <td>1.447382e+06</td>\n",
       "      <td>200.000000</td>\n",
       "      <td>1.185200e+04</td>\n",
       "      <td>1.000000</td>\n",
       "      <td>0.0</td>\n",
       "      <td>0.000000</td>\n",
       "      <td>9.000000</td>\n",
       "      <td>0.0</td>\n",
       "      <td>20.000000</td>\n",
       "      <td>44.000000</td>\n",
       "      <td>44.000000</td>\n",
       "      <td>25.000000</td>\n",
       "    </tr>\n",
       "    <tr>\n",
       "      <td>max</td>\n",
       "      <td>0.0</td>\n",
       "      <td>1.586798e+24</td>\n",
       "      <td>504.000000</td>\n",
       "      <td>3.242720e+08</td>\n",
       "      <td>1.000000</td>\n",
       "      <td>0.0</td>\n",
       "      <td>1.000000</td>\n",
       "      <td>10.000000</td>\n",
       "      <td>0.0</td>\n",
       "      <td>23.000000</td>\n",
       "      <td>59.000000</td>\n",
       "      <td>59.000000</td>\n",
       "      <td>50.000000</td>\n",
       "    </tr>\n",
       "  </tbody>\n",
       "</table>\n",
       "</div>"
      ],
      "text/plain": [
       "          zone           cik          code          size           idx  \\\n",
       "count  67493.0  6.749300e+04  67493.000000  6.749300e+04  67493.000000   \n",
       "mean       0.0  1.540545e+20    204.876846  1.077066e+05      0.437453   \n",
       "std        0.0  1.517680e+22     32.332172  1.577625e+06      0.496076   \n",
       "min        0.0  0.000000e+00      0.000000  0.000000e+00      0.000000   \n",
       "25%        0.0  8.289160e+05    200.000000  2.808000e+03      0.000000   \n",
       "50%        0.0  1.113148e+06    200.000000  3.430000e+03      0.000000   \n",
       "75%        0.0  1.447382e+06    200.000000  1.185200e+04      1.000000   \n",
       "max        0.0  1.586798e+24    504.000000  3.242720e+08      1.000000   \n",
       "\n",
       "       norefer       noagent          find  crawler          Hour  \\\n",
       "count  67493.0  67493.000000  67493.000000  67493.0  67493.000000   \n",
       "mean       0.0      0.000800      6.055369      0.0     14.320522   \n",
       "std        0.0      0.028275      3.957353      0.0      6.827806   \n",
       "min        0.0      0.000000      1.000000      0.0      0.000000   \n",
       "25%        0.0      0.000000      1.000000      0.0     10.000000   \n",
       "50%        0.0      0.000000      9.000000      0.0     16.000000   \n",
       "75%        0.0      0.000000      9.000000      0.0     20.000000   \n",
       "max        0.0      1.000000     10.000000      0.0     23.000000   \n",
       "\n",
       "             Minute        Second   second_diff  \n",
       "count  67493.000000  67493.000000  67493.000000  \n",
       "mean      29.162283     29.461544     17.436312  \n",
       "std       17.352164     17.253688     12.342284  \n",
       "min        0.000000      0.000000      5.000000  \n",
       "25%       14.000000     15.000000      7.000000  \n",
       "50%       29.000000     29.000000     13.000000  \n",
       "75%       44.000000     44.000000     25.000000  \n",
       "max       59.000000     59.000000     50.000000  "
      ]
     },
     "execution_count": 113,
     "metadata": {},
     "output_type": "execute_result"
    }
   ],
   "source": [
    "search_p2[(search_p2[\"second_diff\"]<=50) & (search_p2[\"second_diff\"]>=5)].describe()"
   ]
  },
  {
   "cell_type": "code",
   "execution_count": 102,
   "metadata": {},
   "outputs": [
    {
     "data": {
      "text/plain": [
       "<matplotlib.axes._subplots.AxesSubplot at 0x1aaa7f8150>"
      ]
     },
     "execution_count": 102,
     "metadata": {},
     "output_type": "execute_result"
    },
    {
     "data": {
      "image/png": "[encoded data removed]",
      "text/plain": [
       "<Figure size 1080x360 with 1 Axes>"
      ]
     },
     "metadata": {
      "needs_background": "light"
     },
     "output_type": "display_data"
    }
   ],
   "source": [
    "search_p2[\"second_diff\"].hist(bins=10,figsize=(15,5))"
   ]
  },
  {
   "cell_type": "code",
   "execution_count": 103,
   "metadata": {},
   "outputs": [
    {
     "data": {
      "text/plain": [
       "<matplotlib.axes._subplots.AxesSubplot at 0x1a2727b250>"
      ]
     },
     "execution_count": 103,
     "metadata": {},
     "output_type": "execute_result"
    },
    {
     "data": {
      "image/png": "[encoded data removed]",
      "text/plain": [
       "<Figure size 1080x360 with 1 Axes>"
      ]
     },
     "metadata": {
      "needs_background": "light"
     },
     "output_type": "display_data"
    }
   ],
   "source": [
    "search_p2[\"second_diff\"].hist(bins=50,figsize=(15,5))"
   ]
  },
  {
   "cell_type": "code",
   "execution_count": 104,
   "metadata": {},
   "outputs": [
    {
     "data": {
      "text/plain": [
       "<matplotlib.axes._subplots.AxesSubplot at 0x1aa1187e50>"
      ]
     },
     "execution_count": 104,
     "metadata": {},
     "output_type": "execute_result"
    },
    {
     "data": {
      "image/png": "[encoded data removed]",
      "text/plain": [
       "<Figure size 1080x360 with 1 Axes>"
      ]
     },
     "metadata": {
      "needs_background": "light"
     },
     "output_type": "display_data"
    }
   ],
   "source": [
    "search_p2[\"second_diff\"].hist(bins=100,figsize=(15,5))"
   ]
  },
  {
   "cell_type": "code",
   "execution_count": 105,
   "metadata": {},
   "outputs": [
    {
     "data": {
      "text/plain": [
       "<matplotlib.axes._subplots.AxesSubplot at 0x1ac939a710>"
      ]
     },
     "execution_count": 105,
     "metadata": {},
     "output_type": "execute_result"
    },
    {
     "data": {
      "image/png": "[encoded data removed]",
      "text/plain": [
       "<Figure size 1080x360 with 1 Axes>"
      ]
     },
     "metadata": {
      "needs_background": "light"
     },
     "output_type": "display_data"
    }
   ],
   "source": [
    "search_p2[search_p2[\"second_diff\"]<=1600].second_diff.hist(bins=10,figsize=(15,5))"
   ]
  },
  {
   "cell_type": "code",
   "execution_count": 106,
   "metadata": {},
   "outputs": [
    {
     "data": {
      "text/plain": [
       "<matplotlib.axes._subplots.AxesSubplot at 0x1a9f314710>"
      ]
     },
     "execution_count": 106,
     "metadata": {},
     "output_type": "execute_result"
    },
    {
     "data": {
      "image/png": "[encoded data removed]",
      "text/plain": [
       "<Figure size 1080x360 with 1 Axes>"
      ]
     },
     "metadata": {
      "needs_background": "light"
     },
     "output_type": "display_data"
    }
   ],
   "source": [
    "search_p2[search_p2[\"second_diff\"]<=1000].second_diff.hist(bins=5,figsize=(15,5))"
   ]
  },
  {
   "cell_type": "code",
   "execution_count": 107,
   "metadata": {},
   "outputs": [
    {
     "data": {
      "text/plain": [
       "<matplotlib.axes._subplots.AxesSubplot at 0x1abed373d0>"
      ]
     },
     "execution_count": 107,
     "metadata": {},
     "output_type": "execute_result"
    },
    {
     "data": {
      "image/png": "[encoded data removed]",
      "text/plain": [
       "<Figure size 1080x360 with 1 Axes>"
      ]
     },
     "metadata": {
      "needs_background": "light"
     },
     "output_type": "display_data"
    }
   ],
   "source": [
    "search_p2[search_p2[\"second_diff\"]<=500].second_diff.hist(bins=10,figsize=(15,5))"
   ]
  },
  {
   "cell_type": "code",
   "execution_count": 114,
   "metadata": {},
   "outputs": [
    {
     "data": {
      "text/plain": [
       "<matplotlib.axes._subplots.AxesSubplot at 0x1ab1a12d10>"
      ]
     },
     "execution_count": 114,
     "metadata": {},
     "output_type": "execute_result"
    },
    {
     "data": {
      "image/png": "[encoded data removed]",
      "text/plain": [
       "<Figure size 1080x360 with 1 Axes>"
      ]
     },
     "metadata": {
      "needs_background": "light"
     },
     "output_type": "display_data"
    }
   ],
   "source": [
    "search_p2[search_p2[\"second_diff\"]<=240].second_diff.hist(bins=10,figsize=(15,5))"
   ]
  },
  {
   "cell_type": "code",
   "execution_count": 109,
   "metadata": {},
   "outputs": [
    {
     "data": {
      "text/plain": [
       "<matplotlib.axes._subplots.AxesSubplot at 0x1aa7c1f550>"
      ]
     },
     "execution_count": 109,
     "metadata": {},
     "output_type": "execute_result"
    },
    {
     "data": {
      "image/png": "[encoded data removed]",
      "text/plain": [
       "<Figure size 1080x360 with 1 Axes>"
      ]
     },
     "metadata": {
      "needs_background": "light"
     },
     "output_type": "display_data"
    }
   ],
   "source": [
    "search_p2[search_p2[\"second_diff\"]<=100].second_diff.hist(bins=10,figsize=(15,5))"
   ]
  },
  {
   "cell_type": "code",
   "execution_count": 110,
   "metadata": {},
   "outputs": [
    {
     "data": {
      "text/plain": [
       "<matplotlib.axes._subplots.AxesSubplot at 0x1ab0667490>"
      ]
     },
     "execution_count": 110,
     "metadata": {},
     "output_type": "execute_result"
    },
    {
     "data": {
      "image/png": "[encoded data removed]",
      "text/plain": [
       "<Figure size 1080x360 with 1 Axes>"
      ]
     },
     "metadata": {
      "needs_background": "light"
     },
     "output_type": "display_data"
    }
   ],
   "source": [
    "search_p2[search_p2[\"second_diff\"]<=50].second_diff.hist(bins=10,figsize=(15,5))"
   ]
  },
  {
   "cell_type": "markdown",
   "metadata": {},
   "source": [
    "Question 1: Necessary to remove the duplicate the search for the same company in a specific time horizon?"
   ]
  },
  {
   "cell_type": "code",
   "execution_count": null,
   "metadata": {},
   "outputs": [],
   "source": []
  },
  {
   "cell_type": "markdown",
   "metadata": {},
   "source": []
  },
  {
   "cell_type": "code",
   "execution_count": null,
   "metadata": {},
   "outputs": [],
   "source": []
  },
  {
   "cell_type": "code",
   "execution_count": null,
   "metadata": {},
   "outputs": [],
   "source": []
  },
  {
   "cell_type": "code",
   "execution_count": null,
   "metadata": {},
   "outputs": [],
   "source": []
  },
  {
   "cell_type": "code",
   "execution_count": null,
   "metadata": {},
   "outputs": [],
   "source": []
  },
  {
   "cell_type": "code",
   "execution_count": null,
   "metadata": {},
   "outputs": [],
   "source": []
  },
  {
   "cell_type": "code",
   "execution_count": null,
   "metadata": {},
   "outputs": [],
   "source": []
  },
  {
   "cell_type": "code",
   "execution_count": null,
   "metadata": {},
   "outputs": [],
   "source": []
  },
  {
   "cell_type": "code",
   "execution_count": null,
   "metadata": {},
   "outputs": [],
   "source": []
  },
  {
   "cell_type": "code",
   "execution_count": null,
   "metadata": {},
   "outputs": [],
   "source": []
  },
  {
   "cell_type": "code",
   "execution_count": null,
   "metadata": {},
   "outputs": [],
   "source": []
  },
  {
   "cell_type": "code",
   "execution_count": null,
   "metadata": {},
   "outputs": [],
   "source": []
  },
  {
   "cell_type": "code",
   "execution_count": null,
   "metadata": {},
   "outputs": [],
   "source": []
  },
  {
   "cell_type": "code",
   "execution_count": null,
   "metadata": {},
   "outputs": [],
   "source": []
  },
  {
   "cell_type": "code",
   "execution_count": null,
   "metadata": {},
   "outputs": [],
   "source": []
  },
  {
   "cell_type": "code",
   "execution_count": null,
   "metadata": {},
   "outputs": [],
   "source": []
  },
  {
   "cell_type": "code",
   "execution_count": null,
   "metadata": {},
   "outputs": [],
   "source": []
  },
  {
   "cell_type": "code",
   "execution_count": null,
   "metadata": {},
   "outputs": [],
   "source": []
  }
 ],
 "metadata": {
  "kernelspec": {
   "display_name": "Python 3",
   "language": "python",
   "name": "python3"
  },
  "language_info": {
   "codemirror_mode": {
    "name": "ipython",
    "version": 3
   },
   "file_extension": ".py",
   "mimetype": "text/x-python",
   "name": "python",
   "nbconvert_exporter": "python",
   "pygments_lexer": "ipython3",
   "version": "3.7.4"
  }
 },
 "nbformat": 4,
 "nbformat_minor": 2
}
